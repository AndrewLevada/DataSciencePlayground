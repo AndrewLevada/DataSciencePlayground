{
 "cells": [
  {
   "cell_type": "markdown",
   "source": [
    "Here I've tested most basic abilities of pandas"
   ],
   "metadata": {
    "collapsed": false
   }
  },
  {
   "cell_type": "code",
   "execution_count": 6,
   "outputs": [
    {
     "name": "stdout",
     "output_type": "stream",
     "text": [
      "Requirement already satisfied: numpy in d:\\projects\\olimps\\python\\venv\\lib\\site-packages (1.20.0)\n",
      "Requirement already satisfied: pandas in d:\\projects\\olimps\\python\\venv\\lib\\site-packages (1.2.1)\n",
      "Requirement already satisfied: numpy>=1.16.5 in d:\\projects\\olimps\\python\\venv\\lib\\site-packages (from pandas) (1.20.0)\n",
      "Requirement already satisfied: python-dateutil>=2.7.3 in d:\\projects\\olimps\\python\\venv\\lib\\site-packages (from pandas) (2.8.1)\n",
      "Requirement already satisfied: pytz>=2017.3 in d:\\projects\\olimps\\python\\venv\\lib\\site-packages (from pandas) (2021.1)\n",
      "Requirement already satisfied: six>=1.5 in d:\\projects\\olimps\\python\\venv\\lib\\site-packages (from python-dateutil>=2.7.3->pandas) (1.15.0)\n"
     ]
    },
    {
     "name": "stderr",
     "output_type": "stream",
     "text": [
      "WARNING: You are using pip version 20.3.3; however, version 21.0.1 is available.\n",
      "You should consider upgrading via the 'd:\\projects\\olimps\\python\\venv\\scripts\\python.exe -m pip install --upgrade pip' command.\n",
      "WARNING: You are using pip version 20.3.3; however, version 21.0.1 is available.\n",
      "You should consider upgrading via the 'd:\\projects\\olimps\\python\\venv\\scripts\\python.exe -m pip install --upgrade pip' command.\n"
     ]
    }
   ],
   "source": [
    "!pip install numpy\n",
    "!pip install pandas"
   ],
   "metadata": {
    "collapsed": false,
    "pycharm": {
     "name": "#%%\n"
    }
   }
  },
  {
   "cell_type": "code",
   "execution_count": 2,
   "outputs": [],
   "source": [
    "import pandas as pd\n",
    "import numpy as np\n",
    "pd.set_option(\"display.precision\", 2)"
   ],
   "metadata": {
    "collapsed": false,
    "pycharm": {
     "name": "#%%\n"
    }
   }
  },
  {
   "cell_type": "code",
   "execution_count": 17,
   "outputs": [
    {
     "name": "stdout",
     "output_type": "stream",
     "text": [
      "<class 'pandas.core.frame.DataFrame'>\n",
      "RangeIndex: 303 entries, 0 to 302\n",
      "Data columns (total 14 columns):\n",
      " #   Column    Non-Null Count  Dtype  \n",
      "---  ------    --------------  -----  \n",
      " 0   age       303 non-null    int64  \n",
      " 1   sex       303 non-null    int64  \n",
      " 2   cp        303 non-null    int64  \n",
      " 3   trestbps  303 non-null    int64  \n",
      " 4   chol      303 non-null    int64  \n",
      " 5   fbs       303 non-null    int64  \n",
      " 6   restecg   303 non-null    int64  \n",
      " 7   thalach   303 non-null    int64  \n",
      " 8   exang     303 non-null    int64  \n",
      " 9   oldpeak   303 non-null    float64\n",
      " 10  slope     303 non-null    int64  \n",
      " 11  ca        303 non-null    int64  \n",
      " 12  thal      303 non-null    int64  \n",
      " 13  target    303 non-null    int64  \n",
      "dtypes: float64(1), int64(13)\n",
      "memory usage: 33.3 KB\n",
      "None\n"
     ]
    },
    {
     "data": {
      "text/plain": "          age     sex      cp  trestbps    chol     fbs  restecg  thalach  \\\ncount  303.00  303.00  303.00    303.00  303.00  303.00   303.00   303.00   \nmean    54.37    0.68    0.97    131.62  246.26    0.15     0.53   149.65   \nstd      9.08    0.47    1.03     17.54   51.83    0.36     0.53    22.91   \nmin     29.00    0.00    0.00     94.00  126.00    0.00     0.00    71.00   \n25%     47.50    0.00    0.00    120.00  211.00    0.00     0.00   133.50   \n50%     55.00    1.00    1.00    130.00  240.00    0.00     1.00   153.00   \n75%     61.00    1.00    2.00    140.00  274.50    0.00     1.00   166.00   \nmax     77.00    1.00    3.00    200.00  564.00    1.00     2.00   202.00   \n\n        exang  oldpeak   slope      ca    thal  target  \ncount  303.00   303.00  303.00  303.00  303.00  303.00  \nmean     0.33     1.04    1.40    0.73    2.31    0.54  \nstd      0.47     1.16    0.62    1.02    0.61    0.50  \nmin      0.00     0.00    0.00    0.00    0.00    0.00  \n25%      0.00     0.00    1.00    0.00    2.00    0.00  \n50%      0.00     0.80    1.00    0.00    2.00    1.00  \n75%      1.00     1.60    2.00    1.00    3.00    1.00  \nmax      1.00     6.20    2.00    4.00    3.00    1.00  ",
      "text/html": "<div>\n<style scoped>\n    .dataframe tbody tr th:only-of-type {\n        vertical-align: middle;\n    }\n\n    .dataframe tbody tr th {\n        vertical-align: top;\n    }\n\n    .dataframe thead th {\n        text-align: right;\n    }\n</style>\n<table border=\"1\" class=\"dataframe\">\n  <thead>\n    <tr style=\"text-align: right;\">\n      <th></th>\n      <th>age</th>\n      <th>sex</th>\n      <th>cp</th>\n      <th>trestbps</th>\n      <th>chol</th>\n      <th>fbs</th>\n      <th>restecg</th>\n      <th>thalach</th>\n      <th>exang</th>\n      <th>oldpeak</th>\n      <th>slope</th>\n      <th>ca</th>\n      <th>thal</th>\n      <th>target</th>\n    </tr>\n  </thead>\n  <tbody>\n    <tr>\n      <th>count</th>\n      <td>303.00</td>\n      <td>303.00</td>\n      <td>303.00</td>\n      <td>303.00</td>\n      <td>303.00</td>\n      <td>303.00</td>\n      <td>303.00</td>\n      <td>303.00</td>\n      <td>303.00</td>\n      <td>303.00</td>\n      <td>303.00</td>\n      <td>303.00</td>\n      <td>303.00</td>\n      <td>303.00</td>\n    </tr>\n    <tr>\n      <th>mean</th>\n      <td>54.37</td>\n      <td>0.68</td>\n      <td>0.97</td>\n      <td>131.62</td>\n      <td>246.26</td>\n      <td>0.15</td>\n      <td>0.53</td>\n      <td>149.65</td>\n      <td>0.33</td>\n      <td>1.04</td>\n      <td>1.40</td>\n      <td>0.73</td>\n      <td>2.31</td>\n      <td>0.54</td>\n    </tr>\n    <tr>\n      <th>std</th>\n      <td>9.08</td>\n      <td>0.47</td>\n      <td>1.03</td>\n      <td>17.54</td>\n      <td>51.83</td>\n      <td>0.36</td>\n      <td>0.53</td>\n      <td>22.91</td>\n      <td>0.47</td>\n      <td>1.16</td>\n      <td>0.62</td>\n      <td>1.02</td>\n      <td>0.61</td>\n      <td>0.50</td>\n    </tr>\n    <tr>\n      <th>min</th>\n      <td>29.00</td>\n      <td>0.00</td>\n      <td>0.00</td>\n      <td>94.00</td>\n      <td>126.00</td>\n      <td>0.00</td>\n      <td>0.00</td>\n      <td>71.00</td>\n      <td>0.00</td>\n      <td>0.00</td>\n      <td>0.00</td>\n      <td>0.00</td>\n      <td>0.00</td>\n      <td>0.00</td>\n    </tr>\n    <tr>\n      <th>25%</th>\n      <td>47.50</td>\n      <td>0.00</td>\n      <td>0.00</td>\n      <td>120.00</td>\n      <td>211.00</td>\n      <td>0.00</td>\n      <td>0.00</td>\n      <td>133.50</td>\n      <td>0.00</td>\n      <td>0.00</td>\n      <td>1.00</td>\n      <td>0.00</td>\n      <td>2.00</td>\n      <td>0.00</td>\n    </tr>\n    <tr>\n      <th>50%</th>\n      <td>55.00</td>\n      <td>1.00</td>\n      <td>1.00</td>\n      <td>130.00</td>\n      <td>240.00</td>\n      <td>0.00</td>\n      <td>1.00</td>\n      <td>153.00</td>\n      <td>0.00</td>\n      <td>0.80</td>\n      <td>1.00</td>\n      <td>0.00</td>\n      <td>2.00</td>\n      <td>1.00</td>\n    </tr>\n    <tr>\n      <th>75%</th>\n      <td>61.00</td>\n      <td>1.00</td>\n      <td>2.00</td>\n      <td>140.00</td>\n      <td>274.50</td>\n      <td>0.00</td>\n      <td>1.00</td>\n      <td>166.00</td>\n      <td>1.00</td>\n      <td>1.60</td>\n      <td>2.00</td>\n      <td>1.00</td>\n      <td>3.00</td>\n      <td>1.00</td>\n    </tr>\n    <tr>\n      <th>max</th>\n      <td>77.00</td>\n      <td>1.00</td>\n      <td>3.00</td>\n      <td>200.00</td>\n      <td>564.00</td>\n      <td>1.00</td>\n      <td>2.00</td>\n      <td>202.00</td>\n      <td>1.00</td>\n      <td>6.20</td>\n      <td>2.00</td>\n      <td>4.00</td>\n      <td>3.00</td>\n      <td>1.00</td>\n    </tr>\n  </tbody>\n</table>\n</div>"
     },
     "execution_count": 17,
     "metadata": {},
     "output_type": "execute_result"
    }
   ],
   "source": [
    "data = pd.read_csv(\"./heart.csv\")\n",
    "print(data.info())\n",
    "data.describe()"
   ],
   "metadata": {
    "collapsed": false,
    "pycharm": {
     "name": "#%%\n"
    }
   }
  },
  {
   "cell_type": "code",
   "execution_count": 21,
   "outputs": [
    {
     "data": {
      "text/plain": "    age  sex\n10   54    1\n11   48    0\n12   49    1\n13   64    1\n14   58    0\n15   50    0\n16   58    0\n17   66    0\n18   43    1\n19   69    0\n20   59    1",
      "text/html": "<div>\n<style scoped>\n    .dataframe tbody tr th:only-of-type {\n        vertical-align: middle;\n    }\n\n    .dataframe tbody tr th {\n        vertical-align: top;\n    }\n\n    .dataframe thead th {\n        text-align: right;\n    }\n</style>\n<table border=\"1\" class=\"dataframe\">\n  <thead>\n    <tr style=\"text-align: right;\">\n      <th></th>\n      <th>age</th>\n      <th>sex</th>\n    </tr>\n  </thead>\n  <tbody>\n    <tr>\n      <th>10</th>\n      <td>54</td>\n      <td>1</td>\n    </tr>\n    <tr>\n      <th>11</th>\n      <td>48</td>\n      <td>0</td>\n    </tr>\n    <tr>\n      <th>12</th>\n      <td>49</td>\n      <td>1</td>\n    </tr>\n    <tr>\n      <th>13</th>\n      <td>64</td>\n      <td>1</td>\n    </tr>\n    <tr>\n      <th>14</th>\n      <td>58</td>\n      <td>0</td>\n    </tr>\n    <tr>\n      <th>15</th>\n      <td>50</td>\n      <td>0</td>\n    </tr>\n    <tr>\n      <th>16</th>\n      <td>58</td>\n      <td>0</td>\n    </tr>\n    <tr>\n      <th>17</th>\n      <td>66</td>\n      <td>0</td>\n    </tr>\n    <tr>\n      <th>18</th>\n      <td>43</td>\n      <td>1</td>\n    </tr>\n    <tr>\n      <th>19</th>\n      <td>69</td>\n      <td>0</td>\n    </tr>\n    <tr>\n      <th>20</th>\n      <td>59</td>\n      <td>1</td>\n    </tr>\n  </tbody>\n</table>\n</div>"
     },
     "execution_count": 21,
     "metadata": {},
     "output_type": "execute_result"
    }
   ],
   "source": [
    "data[data[\"target\"] == 1].mean()\n",
    "data.loc[10:20, \"age\":\"sex\"]"
   ],
   "metadata": {
    "collapsed": false,
    "pycharm": {
     "name": "#%%\n"
    }
   }
  }
 ],
 "metadata": {
  "kernelspec": {
   "name": "python3",
   "language": "python",
   "display_name": "Python 3"
  },
  "language_info": {
   "codemirror_mode": {
    "name": "ipython",
    "version": 2
   },
   "file_extension": ".py",
   "mimetype": "text/x-python",
   "name": "python",
   "nbconvert_exporter": "python",
   "pygments_lexer": "ipython2",
   "version": "2.7.6"
  }
 },
 "nbformat": 4,
 "nbformat_minor": 0
}