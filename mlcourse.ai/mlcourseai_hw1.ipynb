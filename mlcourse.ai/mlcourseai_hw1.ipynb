{
 "cells": [
  {
   "cell_type": "markdown",
   "source": [
    "This is a homework for Topic 1 of MLCourse.ai\n",
    "\n",
    "https://www.kaggle.com/kashnitsky/a1-demo-pandas-and-uci-adult-dataset"
   ],
   "metadata": {
    "collapsed": false
   }
  },
  {
   "cell_type": "code",
   "execution_count": 1,
   "outputs": [
    {
     "name": "stdout",
     "output_type": "stream",
     "text": [
      "Requirement already satisfied: numpy in d:\\projects\\olimps\\python\\venv\\lib\\site-packages (1.20.0)\n",
      "Requirement already satisfied: pandas in d:\\projects\\olimps\\python\\venv\\lib\\site-packages (1.2.1)\n",
      "Requirement already satisfied: python-dateutil>=2.7.3 in d:\\projects\\olimps\\python\\venv\\lib\\site-packages (from pandas) (2.8.1)\n",
      "Requirement already satisfied: numpy>=1.16.5 in d:\\projects\\olimps\\python\\venv\\lib\\site-packages (from pandas) (1.20.0)\n",
      "Requirement already satisfied: pytz>=2017.3 in d:\\projects\\olimps\\python\\venv\\lib\\site-packages (from pandas) (2021.1)\n",
      "Requirement already satisfied: six>=1.5 in d:\\projects\\olimps\\python\\venv\\lib\\site-packages (from python-dateutil>=2.7.3->pandas) (1.15.0)\n"
     ]
    },
    {
     "name": "stderr",
     "output_type": "stream",
     "text": [
      "WARNING: You are using pip version 20.3.3; however, version 21.0.1 is available.\n",
      "You should consider upgrading via the 'd:\\projects\\olimps\\python\\venv\\scripts\\python.exe -m pip install --upgrade pip' command.\n",
      "WARNING: You are using pip version 20.3.3; however, version 21.0.1 is available.\n",
      "You should consider upgrading via the 'd:\\projects\\olimps\\python\\venv\\scripts\\python.exe -m pip install --upgrade pip' command.\n"
     ]
    }
   ],
   "source": [
    "!pip install numpy\n",
    "!pip install pandas"
   ],
   "metadata": {
    "collapsed": false,
    "pycharm": {
     "name": "#%%\n"
    }
   }
  },
  {
   "cell_type": "code",
   "execution_count": 2,
   "outputs": [],
   "source": [
    "import pandas as pd\n",
    "import numpy as np\n",
    "pd.set_option('display.precision', 2)\n",
    "pd.set_option('display.max_columns', 100)"
   ],
   "metadata": {
    "collapsed": false,
    "pycharm": {
     "name": "#%%\n"
    }
   }
  },
  {
   "cell_type": "code",
   "execution_count": 3,
   "outputs": [
    {
     "name": "stdout",
     "output_type": "stream",
     "text": [
      "<class 'pandas.core.frame.DataFrame'>\n",
      "RangeIndex: 32561 entries, 0 to 32560\n",
      "Data columns (total 15 columns):\n",
      " #   Column          Non-Null Count  Dtype \n",
      "---  ------          --------------  ----- \n",
      " 0   age             32561 non-null  int64 \n",
      " 1   workclass       32561 non-null  object\n",
      " 2   fnlwgt          32561 non-null  int64 \n",
      " 3   education       32561 non-null  object\n",
      " 4   education-num   32561 non-null  int64 \n",
      " 5   marital-status  32561 non-null  object\n",
      " 6   occupation      32561 non-null  object\n",
      " 7   relationship    32561 non-null  object\n",
      " 8   race            32561 non-null  object\n",
      " 9   sex             32561 non-null  object\n",
      " 10  capital-gain    32561 non-null  int64 \n",
      " 11  capital-loss    32561 non-null  int64 \n",
      " 12  hours-per-week  32561 non-null  int64 \n",
      " 13  native-country  32561 non-null  object\n",
      " 14  salary          32561 non-null  object\n",
      "dtypes: int64(6), object(9)\n",
      "memory usage: 3.7+ MB\n",
      "None\n"
     ]
    },
    {
     "data": {
      "text/plain": "            age    fnlwgt  education-num  capital-gain  capital-loss  \\\ncount  32561.00  3.26e+04       32561.00      32561.00      32561.00   \nmean      38.58  1.90e+05          10.08       1077.65         87.30   \nstd       13.64  1.06e+05           2.57       7385.29        402.96   \nmin       17.00  1.23e+04           1.00          0.00          0.00   \n25%       28.00  1.18e+05           9.00          0.00          0.00   \n50%       37.00  1.78e+05          10.00          0.00          0.00   \n75%       48.00  2.37e+05          12.00          0.00          0.00   \nmax       90.00  1.48e+06          16.00      99999.00       4356.00   \n\n       hours-per-week  \ncount        32561.00  \nmean            40.44  \nstd             12.35  \nmin              1.00  \n25%             40.00  \n50%             40.00  \n75%             45.00  \nmax             99.00  ",
      "text/html": "<div>\n<style scoped>\n    .dataframe tbody tr th:only-of-type {\n        vertical-align: middle;\n    }\n\n    .dataframe tbody tr th {\n        vertical-align: top;\n    }\n\n    .dataframe thead th {\n        text-align: right;\n    }\n</style>\n<table border=\"1\" class=\"dataframe\">\n  <thead>\n    <tr style=\"text-align: right;\">\n      <th></th>\n      <th>age</th>\n      <th>fnlwgt</th>\n      <th>education-num</th>\n      <th>capital-gain</th>\n      <th>capital-loss</th>\n      <th>hours-per-week</th>\n    </tr>\n  </thead>\n  <tbody>\n    <tr>\n      <th>count</th>\n      <td>32561.00</td>\n      <td>3.26e+04</td>\n      <td>32561.00</td>\n      <td>32561.00</td>\n      <td>32561.00</td>\n      <td>32561.00</td>\n    </tr>\n    <tr>\n      <th>mean</th>\n      <td>38.58</td>\n      <td>1.90e+05</td>\n      <td>10.08</td>\n      <td>1077.65</td>\n      <td>87.30</td>\n      <td>40.44</td>\n    </tr>\n    <tr>\n      <th>std</th>\n      <td>13.64</td>\n      <td>1.06e+05</td>\n      <td>2.57</td>\n      <td>7385.29</td>\n      <td>402.96</td>\n      <td>12.35</td>\n    </tr>\n    <tr>\n      <th>min</th>\n      <td>17.00</td>\n      <td>1.23e+04</td>\n      <td>1.00</td>\n      <td>0.00</td>\n      <td>0.00</td>\n      <td>1.00</td>\n    </tr>\n    <tr>\n      <th>25%</th>\n      <td>28.00</td>\n      <td>1.18e+05</td>\n      <td>9.00</td>\n      <td>0.00</td>\n      <td>0.00</td>\n      <td>40.00</td>\n    </tr>\n    <tr>\n      <th>50%</th>\n      <td>37.00</td>\n      <td>1.78e+05</td>\n      <td>10.00</td>\n      <td>0.00</td>\n      <td>0.00</td>\n      <td>40.00</td>\n    </tr>\n    <tr>\n      <th>75%</th>\n      <td>48.00</td>\n      <td>2.37e+05</td>\n      <td>12.00</td>\n      <td>0.00</td>\n      <td>0.00</td>\n      <td>45.00</td>\n    </tr>\n    <tr>\n      <th>max</th>\n      <td>90.00</td>\n      <td>1.48e+06</td>\n      <td>16.00</td>\n      <td>99999.00</td>\n      <td>4356.00</td>\n      <td>99.00</td>\n    </tr>\n  </tbody>\n</table>\n</div>"
     },
     "execution_count": 3,
     "metadata": {},
     "output_type": "execute_result"
    }
   ],
   "source": [
    "data = pd.read_csv('../data/adult.csv')\n",
    "print(data.info())\n",
    "data.describe()"
   ],
   "metadata": {
    "collapsed": false,
    "pycharm": {
     "name": "#%%\n"
    }
   }
  },
  {
   "cell_type": "code",
   "execution_count": 4,
   "outputs": [
    {
     "data": {
      "text/plain": "count     32561\nunique        2\ntop        Male\nfreq      21790\nName: sex, dtype: object"
     },
     "execution_count": 4,
     "metadata": {},
     "output_type": "execute_result"
    }
   ],
   "source": [
    "data[\"sex\"].describe()"
   ],
   "metadata": {
    "collapsed": false,
    "pycharm": {
     "name": "#%% Task 1\n"
    }
   }
  },
  {
   "cell_type": "code",
   "execution_count": 5,
   "outputs": [
    {
     "data": {
      "text/plain": "count    10771.00\nmean        36.86\nstd         14.01\nmin         17.00\n25%         25.00\n50%         35.00\n75%         46.00\nmax         90.00\nName: age, dtype: float64"
     },
     "execution_count": 5,
     "metadata": {},
     "output_type": "execute_result"
    }
   ],
   "source": [
    "data[data[\"sex\"] == \"Female\"][\"age\"].describe()"
   ],
   "metadata": {
    "collapsed": false,
    "pycharm": {
     "name": "#%% Task 2\n"
    }
   }
  },
  {
   "cell_type": "code",
   "execution_count": 6,
   "outputs": [
    {
     "data": {
      "text/plain": "United-States                 8.96e-01\nMexico                        1.97e-02\n?                             1.79e-02\nPhilippines                   6.08e-03\nGermany                       4.21e-03\nCanada                        3.72e-03\nPuerto-Rico                   3.50e-03\nEl-Salvador                   3.26e-03\nIndia                         3.07e-03\nCuba                          2.92e-03\nEngland                       2.76e-03\nJamaica                       2.49e-03\nSouth                         2.46e-03\nChina                         2.30e-03\nItaly                         2.24e-03\nDominican-Republic            2.15e-03\nVietnam                       2.06e-03\nGuatemala                     1.97e-03\nJapan                         1.90e-03\nPoland                        1.84e-03\nColumbia                      1.81e-03\nTaiwan                        1.57e-03\nHaiti                         1.35e-03\nIran                          1.32e-03\nPortugal                      1.14e-03\nNicaragua                     1.04e-03\nPeru                          9.52e-04\nGreece                        8.91e-04\nFrance                        8.91e-04\nEcuador                       8.60e-04\nIreland                       7.37e-04\nHong                          6.14e-04\nTrinadad&Tobago               5.84e-04\nCambodia                      5.84e-04\nThailand                      5.53e-04\nLaos                          5.53e-04\nYugoslavia                    4.91e-04\nOutlying-US(Guam-USVI-etc)    4.30e-04\nHonduras                      3.99e-04\nHungary                       3.99e-04\nScotland                      3.69e-04\nHoland-Netherlands            3.07e-05\nName: native-country, dtype: float64"
     },
     "execution_count": 6,
     "metadata": {},
     "output_type": "execute_result"
    }
   ],
   "source": [
    "data[\"native-country\"].value_counts(normalize=True)"
   ],
   "metadata": {
    "collapsed": false,
    "pycharm": {
     "name": "#%% Task 3\n"
    }
   }
  },
  {
   "cell_type": "code",
   "execution_count": 7,
   "outputs": [
    {
     "name": "stdout",
     "output_type": "stream",
     "text": [
      "<=50K    24720\n",
      ">50K      7841\n",
      "Name: salary, dtype: int64\n",
      "count    7841.00\n",
      "mean       44.25\n",
      "std        10.52\n",
      "min        19.00\n",
      "25%        36.00\n",
      "50%        44.00\n",
      "75%        51.00\n",
      "max        90.00\n",
      "Name: age, dtype: float64\n",
      "count    24720.00\n",
      "mean        36.78\n",
      "std         14.02\n",
      "min         17.00\n",
      "25%         25.00\n",
      "50%         34.00\n",
      "75%         46.00\n",
      "max         90.00\n",
      "Name: age, dtype: float64\n"
     ]
    }
   ],
   "source": [
    "print(data[\"salary\"].value_counts())\n",
    "print(data[data[\"salary\"] == \">50K\"][\"age\"].describe())\n",
    "print(data[data[\"salary\"] == \"<=50K\"][\"age\"].describe())"
   ],
   "metadata": {
    "collapsed": false,
    "pycharm": {
     "name": "#%% Tasks 4 and 5\n"
    }
   }
  },
  {
   "cell_type": "code",
   "execution_count": 9,
   "outputs": [
    {
     "data": {
      "text/plain": "Bachelors       2221\nHS-grad         1675\nSome-college    1387\nMasters          959\nProf-school      423\nAssoc-voc        361\nDoctorate        306\nAssoc-acdm       265\n10th              62\n11th              60\n7th-8th           40\n12th              33\n9th               27\n5th-6th           16\n1st-4th            6\nName: education, dtype: int64"
     },
     "execution_count": 9,
     "metadata": {},
     "output_type": "execute_result"
    }
   ],
   "source": [
    "data[data[\"salary\"] == \">50K\"][\"education\"].value_counts()"
   ],
   "metadata": {
    "collapsed": false,
    "pycharm": {
     "name": "#%% Task 6\n"
    }
   }
  },
  {
   "cell_type": "code",
   "execution_count": 12,
   "outputs": [
    {
     "data": {
      "text/plain": "82"
     },
     "execution_count": 12,
     "metadata": {},
     "output_type": "execute_result"
    }
   ],
   "source": [
    "data[\"race\"].value_counts()\n",
    "data[data[\"race\"] == \"Amer-Indian-Eskimo\"][\"age\"].max()"
   ],
   "metadata": {
    "collapsed": false,
    "pycharm": {
     "name": "#%% Task 7\n"
    }
   }
  },
  {
   "cell_type": "code",
   "execution_count": 15,
   "outputs": [
    {
     "name": "stdout",
     "output_type": "stream",
     "text": [
      "<=50K    0.56\n",
      ">50K     0.44\n",
      "Name: salary, dtype: float64\n",
      "<=50K    0.94\n",
      ">50K     0.06\n",
      "Name: salary, dtype: float64\n"
     ]
    }
   ],
   "source": [
    "print(data[data[\"marital-status\"].apply(lambda s: s.startswith(\"Married\"))][\"salary\"].value_counts(normalize=True))\n",
    "print(data[data[\"marital-status\"].apply(lambda s: not s.startswith(\"Married\"))][\"salary\"].value_counts(normalize=True))"
   ],
   "metadata": {
    "collapsed": false,
    "pycharm": {
     "name": "#%% Task 8\n"
    }
   }
  },
  {
   "cell_type": "code",
   "execution_count": 17,
   "outputs": [
    {
     "name": "stdout",
     "output_type": "stream",
     "text": [
      "99\n",
      "85\n",
      "<=50K    0.71\n",
      ">50K     0.29\n",
      "Name: salary, dtype: float64\n"
     ]
    }
   ],
   "source": [
    "print(data[\"hours-per-week\"].max())\n",
    "l = data[data[\"hours-per-week\"] == data[\"hours-per-week\"].max()]\n",
    "print(len(l.index))\n",
    "print(l[\"salary\"].value_counts(normalize=True))"
   ],
   "metadata": {
    "collapsed": false,
    "pycharm": {
     "name": "#%% Task 9\n"
    }
   }
  },
  {
   "cell_type": "code",
   "execution_count": 24,
   "outputs": [
    {
     "data": {
      "text/plain": "                              count   mean    std   min    25%   50%    75%  \\\nnative-country                                                                \n?                             437.0  40.16  12.82   1.0  40.00  40.0  45.00   \nCambodia                       12.0  41.42   3.09  40.0  40.00  40.0  40.50   \nCanada                         82.0  37.91  13.01   8.0  32.75  40.0  40.00   \nChina                          55.0  37.38  11.44   1.0  36.00  40.0  40.00   \nColumbia                       57.0  38.68   8.61   5.0  40.00  40.0  40.00   \nCuba                           70.0  37.99   9.96   5.0  40.00  40.0  40.00   \nDominican-Republic             68.0  42.34  11.12  22.0  40.00  40.0  40.00   \nEcuador                        24.0  38.04  10.25  22.0  30.00  40.0  40.00   \nEl-Salvador                    97.0  36.03   9.40   3.0  32.00  40.0  40.00   \nEngland                        60.0  40.48  15.18   7.0  40.00  40.0  45.00   \nFrance                         17.0  41.06  12.40  15.0  40.00  40.0  50.00   \nGermany                        93.0  39.14  12.12   6.0  38.00  40.0  45.00   \nGreece                         21.0  41.81  16.86   4.0  40.00  40.0  55.00   \nGuatemala                      61.0  39.36   6.57  18.0  40.00  40.0  40.00   \nHaiti                          40.0  36.33  11.94  10.0  30.00  40.0  40.00   \nHoland-Netherlands              1.0  40.00    NaN  40.0  40.00  40.0  40.00   \nHonduras                       12.0  34.33   8.63  17.0  30.00  37.5  40.00   \nHong                           14.0  39.14   4.29  30.0  37.75  40.0  40.00   \nHungary                        10.0  31.30  18.60   3.0  20.00  30.0  47.50   \nIndia                          60.0  38.23  12.62   8.0  35.00  40.0  40.00   \nIran                           25.0  41.44  12.44   6.0  40.00  40.0  48.00   \nIreland                        19.0  40.95   7.18  25.0  38.00  40.0  42.00   \nItaly                          48.0  39.62  15.09   6.0  38.75  40.0  40.00   \nJamaica                        71.0  38.24   9.67  10.0  35.00  40.0  40.00   \nJapan                          38.0  41.00  11.90  10.0  40.00  40.0  41.50   \nLaos                           16.0  40.38   4.11  31.0  40.00  40.0  40.00   \nMexico                        610.0  40.00  10.38   4.0  40.00  40.0  40.00   \nNicaragua                      32.0  36.09   8.66  11.0  30.00  40.0  40.00   \nOutlying-US(Guam-USVI-etc)     14.0  41.86  10.75  24.0  36.25  40.0  50.25   \nPeru                           29.0  35.07  11.61   4.0  28.00  40.0  40.00   \nPhilippines                   137.0  38.07  11.27   8.0  40.00  40.0  40.00   \nPoland                         48.0  38.17  12.24   3.0  40.00  40.0  40.00   \nPortugal                       33.0  41.94   9.06  30.0  40.00  40.0  40.00   \nPuerto-Rico                   102.0  38.47   9.75   6.0  36.00  40.0  40.00   \nScotland                        9.0  39.44   9.17  20.0  40.00  40.0  40.00   \nSouth                          64.0  40.16  16.83   4.0  35.00  40.0  48.50   \nTaiwan                         31.0  33.77  14.27   2.0  20.00  40.0  40.00   \nThailand                       15.0  42.87  20.41  10.0  35.00  40.0  52.50   \nTrinadad&Tobago                17.0  37.06  12.48  14.0  35.00  40.0  40.00   \nUnited-States               21999.0  38.80  12.40   1.0  35.00  40.0  40.00   \nVietnam                        62.0  37.19  12.42   1.0  40.00  40.0  40.00   \nYugoslavia                     10.0  41.60  11.31  20.0  40.00  40.0  40.00   \n\n                             max  \nnative-country                    \n?                           99.0  \nCambodia                    50.0  \nCanada                      70.0  \nChina                       60.0  \nColumbia                    60.0  \nCuba                        70.0  \nDominican-Republic          98.0  \nEcuador                     66.0  \nEl-Salvador                 60.0  \nEngland                     99.0  \nFrance                      66.0  \nGermany                     70.0  \nGreece                      75.0  \nGuatemala                   60.0  \nHaiti                       75.0  \nHoland-Netherlands          40.0  \nHonduras                    45.0  \nHong                        50.0  \nHungary                     60.0  \nIndia                       84.0  \nIran                        65.0  \nIreland                     55.0  \nItaly                       80.0  \nJamaica                     70.0  \nJapan                       65.0  \nLaos                        50.0  \nMexico                      99.0  \nNicaragua                   60.0  \nOutlying-US(Guam-USVI-etc)  60.0  \nPeru                        60.0  \nPhilippines                 99.0  \nPoland                      65.0  \nPortugal                    84.0  \nPuerto-Rico                 80.0  \nScotland                    55.0  \nSouth                       99.0  \nTaiwan                      60.0  \nThailand                    80.0  \nTrinadad&Tobago             60.0  \nUnited-States               99.0  \nVietnam                     77.0  \nYugoslavia                  66.0  ",
      "text/html": "<div>\n<style scoped>\n    .dataframe tbody tr th:only-of-type {\n        vertical-align: middle;\n    }\n\n    .dataframe tbody tr th {\n        vertical-align: top;\n    }\n\n    .dataframe thead th {\n        text-align: right;\n    }\n</style>\n<table border=\"1\" class=\"dataframe\">\n  <thead>\n    <tr style=\"text-align: right;\">\n      <th></th>\n      <th>count</th>\n      <th>mean</th>\n      <th>std</th>\n      <th>min</th>\n      <th>25%</th>\n      <th>50%</th>\n      <th>75%</th>\n      <th>max</th>\n    </tr>\n    <tr>\n      <th>native-country</th>\n      <th></th>\n      <th></th>\n      <th></th>\n      <th></th>\n      <th></th>\n      <th></th>\n      <th></th>\n      <th></th>\n    </tr>\n  </thead>\n  <tbody>\n    <tr>\n      <th>?</th>\n      <td>437.0</td>\n      <td>40.16</td>\n      <td>12.82</td>\n      <td>1.0</td>\n      <td>40.00</td>\n      <td>40.0</td>\n      <td>45.00</td>\n      <td>99.0</td>\n    </tr>\n    <tr>\n      <th>Cambodia</th>\n      <td>12.0</td>\n      <td>41.42</td>\n      <td>3.09</td>\n      <td>40.0</td>\n      <td>40.00</td>\n      <td>40.0</td>\n      <td>40.50</td>\n      <td>50.0</td>\n    </tr>\n    <tr>\n      <th>Canada</th>\n      <td>82.0</td>\n      <td>37.91</td>\n      <td>13.01</td>\n      <td>8.0</td>\n      <td>32.75</td>\n      <td>40.0</td>\n      <td>40.00</td>\n      <td>70.0</td>\n    </tr>\n    <tr>\n      <th>China</th>\n      <td>55.0</td>\n      <td>37.38</td>\n      <td>11.44</td>\n      <td>1.0</td>\n      <td>36.00</td>\n      <td>40.0</td>\n      <td>40.00</td>\n      <td>60.0</td>\n    </tr>\n    <tr>\n      <th>Columbia</th>\n      <td>57.0</td>\n      <td>38.68</td>\n      <td>8.61</td>\n      <td>5.0</td>\n      <td>40.00</td>\n      <td>40.0</td>\n      <td>40.00</td>\n      <td>60.0</td>\n    </tr>\n    <tr>\n      <th>Cuba</th>\n      <td>70.0</td>\n      <td>37.99</td>\n      <td>9.96</td>\n      <td>5.0</td>\n      <td>40.00</td>\n      <td>40.0</td>\n      <td>40.00</td>\n      <td>70.0</td>\n    </tr>\n    <tr>\n      <th>Dominican-Republic</th>\n      <td>68.0</td>\n      <td>42.34</td>\n      <td>11.12</td>\n      <td>22.0</td>\n      <td>40.00</td>\n      <td>40.0</td>\n      <td>40.00</td>\n      <td>98.0</td>\n    </tr>\n    <tr>\n      <th>Ecuador</th>\n      <td>24.0</td>\n      <td>38.04</td>\n      <td>10.25</td>\n      <td>22.0</td>\n      <td>30.00</td>\n      <td>40.0</td>\n      <td>40.00</td>\n      <td>66.0</td>\n    </tr>\n    <tr>\n      <th>El-Salvador</th>\n      <td>97.0</td>\n      <td>36.03</td>\n      <td>9.40</td>\n      <td>3.0</td>\n      <td>32.00</td>\n      <td>40.0</td>\n      <td>40.00</td>\n      <td>60.0</td>\n    </tr>\n    <tr>\n      <th>England</th>\n      <td>60.0</td>\n      <td>40.48</td>\n      <td>15.18</td>\n      <td>7.0</td>\n      <td>40.00</td>\n      <td>40.0</td>\n      <td>45.00</td>\n      <td>99.0</td>\n    </tr>\n    <tr>\n      <th>France</th>\n      <td>17.0</td>\n      <td>41.06</td>\n      <td>12.40</td>\n      <td>15.0</td>\n      <td>40.00</td>\n      <td>40.0</td>\n      <td>50.00</td>\n      <td>66.0</td>\n    </tr>\n    <tr>\n      <th>Germany</th>\n      <td>93.0</td>\n      <td>39.14</td>\n      <td>12.12</td>\n      <td>6.0</td>\n      <td>38.00</td>\n      <td>40.0</td>\n      <td>45.00</td>\n      <td>70.0</td>\n    </tr>\n    <tr>\n      <th>Greece</th>\n      <td>21.0</td>\n      <td>41.81</td>\n      <td>16.86</td>\n      <td>4.0</td>\n      <td>40.00</td>\n      <td>40.0</td>\n      <td>55.00</td>\n      <td>75.0</td>\n    </tr>\n    <tr>\n      <th>Guatemala</th>\n      <td>61.0</td>\n      <td>39.36</td>\n      <td>6.57</td>\n      <td>18.0</td>\n      <td>40.00</td>\n      <td>40.0</td>\n      <td>40.00</td>\n      <td>60.0</td>\n    </tr>\n    <tr>\n      <th>Haiti</th>\n      <td>40.0</td>\n      <td>36.33</td>\n      <td>11.94</td>\n      <td>10.0</td>\n      <td>30.00</td>\n      <td>40.0</td>\n      <td>40.00</td>\n      <td>75.0</td>\n    </tr>\n    <tr>\n      <th>Holand-Netherlands</th>\n      <td>1.0</td>\n      <td>40.00</td>\n      <td>NaN</td>\n      <td>40.0</td>\n      <td>40.00</td>\n      <td>40.0</td>\n      <td>40.00</td>\n      <td>40.0</td>\n    </tr>\n    <tr>\n      <th>Honduras</th>\n      <td>12.0</td>\n      <td>34.33</td>\n      <td>8.63</td>\n      <td>17.0</td>\n      <td>30.00</td>\n      <td>37.5</td>\n      <td>40.00</td>\n      <td>45.0</td>\n    </tr>\n    <tr>\n      <th>Hong</th>\n      <td>14.0</td>\n      <td>39.14</td>\n      <td>4.29</td>\n      <td>30.0</td>\n      <td>37.75</td>\n      <td>40.0</td>\n      <td>40.00</td>\n      <td>50.0</td>\n    </tr>\n    <tr>\n      <th>Hungary</th>\n      <td>10.0</td>\n      <td>31.30</td>\n      <td>18.60</td>\n      <td>3.0</td>\n      <td>20.00</td>\n      <td>30.0</td>\n      <td>47.50</td>\n      <td>60.0</td>\n    </tr>\n    <tr>\n      <th>India</th>\n      <td>60.0</td>\n      <td>38.23</td>\n      <td>12.62</td>\n      <td>8.0</td>\n      <td>35.00</td>\n      <td>40.0</td>\n      <td>40.00</td>\n      <td>84.0</td>\n    </tr>\n    <tr>\n      <th>Iran</th>\n      <td>25.0</td>\n      <td>41.44</td>\n      <td>12.44</td>\n      <td>6.0</td>\n      <td>40.00</td>\n      <td>40.0</td>\n      <td>48.00</td>\n      <td>65.0</td>\n    </tr>\n    <tr>\n      <th>Ireland</th>\n      <td>19.0</td>\n      <td>40.95</td>\n      <td>7.18</td>\n      <td>25.0</td>\n      <td>38.00</td>\n      <td>40.0</td>\n      <td>42.00</td>\n      <td>55.0</td>\n    </tr>\n    <tr>\n      <th>Italy</th>\n      <td>48.0</td>\n      <td>39.62</td>\n      <td>15.09</td>\n      <td>6.0</td>\n      <td>38.75</td>\n      <td>40.0</td>\n      <td>40.00</td>\n      <td>80.0</td>\n    </tr>\n    <tr>\n      <th>Jamaica</th>\n      <td>71.0</td>\n      <td>38.24</td>\n      <td>9.67</td>\n      <td>10.0</td>\n      <td>35.00</td>\n      <td>40.0</td>\n      <td>40.00</td>\n      <td>70.0</td>\n    </tr>\n    <tr>\n      <th>Japan</th>\n      <td>38.0</td>\n      <td>41.00</td>\n      <td>11.90</td>\n      <td>10.0</td>\n      <td>40.00</td>\n      <td>40.0</td>\n      <td>41.50</td>\n      <td>65.0</td>\n    </tr>\n    <tr>\n      <th>Laos</th>\n      <td>16.0</td>\n      <td>40.38</td>\n      <td>4.11</td>\n      <td>31.0</td>\n      <td>40.00</td>\n      <td>40.0</td>\n      <td>40.00</td>\n      <td>50.0</td>\n    </tr>\n    <tr>\n      <th>Mexico</th>\n      <td>610.0</td>\n      <td>40.00</td>\n      <td>10.38</td>\n      <td>4.0</td>\n      <td>40.00</td>\n      <td>40.0</td>\n      <td>40.00</td>\n      <td>99.0</td>\n    </tr>\n    <tr>\n      <th>Nicaragua</th>\n      <td>32.0</td>\n      <td>36.09</td>\n      <td>8.66</td>\n      <td>11.0</td>\n      <td>30.00</td>\n      <td>40.0</td>\n      <td>40.00</td>\n      <td>60.0</td>\n    </tr>\n    <tr>\n      <th>Outlying-US(Guam-USVI-etc)</th>\n      <td>14.0</td>\n      <td>41.86</td>\n      <td>10.75</td>\n      <td>24.0</td>\n      <td>36.25</td>\n      <td>40.0</td>\n      <td>50.25</td>\n      <td>60.0</td>\n    </tr>\n    <tr>\n      <th>Peru</th>\n      <td>29.0</td>\n      <td>35.07</td>\n      <td>11.61</td>\n      <td>4.0</td>\n      <td>28.00</td>\n      <td>40.0</td>\n      <td>40.00</td>\n      <td>60.0</td>\n    </tr>\n    <tr>\n      <th>Philippines</th>\n      <td>137.0</td>\n      <td>38.07</td>\n      <td>11.27</td>\n      <td>8.0</td>\n      <td>40.00</td>\n      <td>40.0</td>\n      <td>40.00</td>\n      <td>99.0</td>\n    </tr>\n    <tr>\n      <th>Poland</th>\n      <td>48.0</td>\n      <td>38.17</td>\n      <td>12.24</td>\n      <td>3.0</td>\n      <td>40.00</td>\n      <td>40.0</td>\n      <td>40.00</td>\n      <td>65.0</td>\n    </tr>\n    <tr>\n      <th>Portugal</th>\n      <td>33.0</td>\n      <td>41.94</td>\n      <td>9.06</td>\n      <td>30.0</td>\n      <td>40.00</td>\n      <td>40.0</td>\n      <td>40.00</td>\n      <td>84.0</td>\n    </tr>\n    <tr>\n      <th>Puerto-Rico</th>\n      <td>102.0</td>\n      <td>38.47</td>\n      <td>9.75</td>\n      <td>6.0</td>\n      <td>36.00</td>\n      <td>40.0</td>\n      <td>40.00</td>\n      <td>80.0</td>\n    </tr>\n    <tr>\n      <th>Scotland</th>\n      <td>9.0</td>\n      <td>39.44</td>\n      <td>9.17</td>\n      <td>20.0</td>\n      <td>40.00</td>\n      <td>40.0</td>\n      <td>40.00</td>\n      <td>55.0</td>\n    </tr>\n    <tr>\n      <th>South</th>\n      <td>64.0</td>\n      <td>40.16</td>\n      <td>16.83</td>\n      <td>4.0</td>\n      <td>35.00</td>\n      <td>40.0</td>\n      <td>48.50</td>\n      <td>99.0</td>\n    </tr>\n    <tr>\n      <th>Taiwan</th>\n      <td>31.0</td>\n      <td>33.77</td>\n      <td>14.27</td>\n      <td>2.0</td>\n      <td>20.00</td>\n      <td>40.0</td>\n      <td>40.00</td>\n      <td>60.0</td>\n    </tr>\n    <tr>\n      <th>Thailand</th>\n      <td>15.0</td>\n      <td>42.87</td>\n      <td>20.41</td>\n      <td>10.0</td>\n      <td>35.00</td>\n      <td>40.0</td>\n      <td>52.50</td>\n      <td>80.0</td>\n    </tr>\n    <tr>\n      <th>Trinadad&amp;Tobago</th>\n      <td>17.0</td>\n      <td>37.06</td>\n      <td>12.48</td>\n      <td>14.0</td>\n      <td>35.00</td>\n      <td>40.0</td>\n      <td>40.00</td>\n      <td>60.0</td>\n    </tr>\n    <tr>\n      <th>United-States</th>\n      <td>21999.0</td>\n      <td>38.80</td>\n      <td>12.40</td>\n      <td>1.0</td>\n      <td>35.00</td>\n      <td>40.0</td>\n      <td>40.00</td>\n      <td>99.0</td>\n    </tr>\n    <tr>\n      <th>Vietnam</th>\n      <td>62.0</td>\n      <td>37.19</td>\n      <td>12.42</td>\n      <td>1.0</td>\n      <td>40.00</td>\n      <td>40.0</td>\n      <td>40.00</td>\n      <td>77.0</td>\n    </tr>\n    <tr>\n      <th>Yugoslavia</th>\n      <td>10.0</td>\n      <td>41.60</td>\n      <td>11.31</td>\n      <td>20.0</td>\n      <td>40.00</td>\n      <td>40.0</td>\n      <td>40.00</td>\n      <td>66.0</td>\n    </tr>\n  </tbody>\n</table>\n</div>"
     },
     "execution_count": 24,
     "metadata": {},
     "output_type": "execute_result"
    }
   ],
   "source": [
    "# data[data[\"salary\"] == \">50K\"].groupby([\"native-country\"])[\"hours-per-week\"].describe()\n",
    "data[data[\"salary\"] == \"<=50K\"].groupby([\"native-country\"])[\"hours-per-week\"].describe()"
   ],
   "metadata": {
    "collapsed": false,
    "pycharm": {
     "name": "#%% Task 10\n"
    }
   }
  }
 ],
 "metadata": {
  "kernelspec": {
   "display_name": "Python 3",
   "language": "python",
   "name": "python3"
  },
  "language_info": {
   "codemirror_mode": {
    "name": "ipython",
    "version": 2
   },
   "file_extension": ".py",
   "mimetype": "text/x-python",
   "name": "python",
   "nbconvert_exporter": "python",
   "pygments_lexer": "ipython2",
   "version": "2.7.6"
  }
 },
 "nbformat": 4,
 "nbformat_minor": 0
}