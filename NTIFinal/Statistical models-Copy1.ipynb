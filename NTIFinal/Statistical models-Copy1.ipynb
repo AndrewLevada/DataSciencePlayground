{
 "cells": [
  {
   "cell_type": "code",
   "execution_count": 4,
   "id": "geographic-bracket",
   "metadata": {},
   "outputs": [],
   "source": [
    "# Importing libraries\n",
    "import os\n",
    "import warnings\n",
    "warnings.filterwarnings('ignore')\n",
    "import numpy as np \n",
    "import pandas as pd\n",
    "from pandas.plotting import autocorrelation_plot\n",
    "import seaborn as sns\n",
    "from datetime import datetime\n",
    "import matplotlib.pyplot as plt\n",
    "plt.style.use('fivethirtyeight') \n",
    "# Above is a special style template for matplotlib, highly useful for visualizing time series data\n",
    "%matplotlib inline\n",
    "import statsmodels.api as sm\n",
    "from numpy.random import normal, seed\n",
    "from scipy.stats import norm\n",
    "from statsmodels.tsa.arima_model import ARMA\n",
    "from statsmodels.tsa.stattools import adfuller\n",
    "from statsmodels.graphics.tsaplots import plot_acf, plot_pacf\n",
    "from statsmodels.tsa.arima_process import ArmaProcess\n",
    "from statsmodels.tsa.arima_model import ARIMA\n",
    "import math\n",
    "from sklearn.metrics import mean_squared_error"
   ]
  },
  {
   "cell_type": "code",
   "execution_count": 5,
   "id": "adolescent-commander",
   "metadata": {},
   "outputs": [
    {
     "data": {
      "text/html": [
       "<div>\n",
       "<style scoped>\n",
       "    .dataframe tbody tr th:only-of-type {\n",
       "        vertical-align: middle;\n",
       "    }\n",
       "\n",
       "    .dataframe tbody tr th {\n",
       "        vertical-align: top;\n",
       "    }\n",
       "\n",
       "    .dataframe thead th {\n",
       "        text-align: right;\n",
       "    }\n",
       "</style>\n",
       "<table border=\"1\" class=\"dataframe\">\n",
       "  <thead>\n",
       "    <tr style=\"text-align: right;\">\n",
       "      <th></th>\n",
       "      <th>Coolness_RHEED</th>\n",
       "      <th>R FWHM_RHEED</th>\n",
       "      <th>X FWHM_RHEED</th>\n",
       "      <th>Y FWHM_RHEED</th>\n",
       "      <th>Crystal Position</th>\n",
       "      <th>Filtered Rate</th>\n",
       "      <th>Length</th>\n",
       "      <th>Raw Rate</th>\n",
       "      <th>Source Power</th>\n",
       "    </tr>\n",
       "    <tr>\n",
       "      <th>Time</th>\n",
       "      <th></th>\n",
       "      <th></th>\n",
       "      <th></th>\n",
       "      <th></th>\n",
       "      <th></th>\n",
       "      <th></th>\n",
       "      <th></th>\n",
       "      <th></th>\n",
       "      <th></th>\n",
       "    </tr>\n",
       "  </thead>\n",
       "  <tbody>\n",
       "    <tr>\n",
       "      <th>2021-02-23 02:21:05</th>\n",
       "      <td>0.0</td>\n",
       "      <td>0.0</td>\n",
       "      <td>0.0</td>\n",
       "      <td>0.0</td>\n",
       "      <td>1.0</td>\n",
       "      <td>6.000</td>\n",
       "      <td>0.003721</td>\n",
       "      <td>5.990</td>\n",
       "      <td>21.64</td>\n",
       "    </tr>\n",
       "    <tr>\n",
       "      <th>2021-02-23 02:21:06</th>\n",
       "      <td>0.0</td>\n",
       "      <td>0.0</td>\n",
       "      <td>0.0</td>\n",
       "      <td>0.0</td>\n",
       "      <td>1.0</td>\n",
       "      <td>6.094</td>\n",
       "      <td>0.028870</td>\n",
       "      <td>6.110</td>\n",
       "      <td>21.06</td>\n",
       "    </tr>\n",
       "    <tr>\n",
       "      <th>2021-02-23 02:21:07</th>\n",
       "      <td>0.0</td>\n",
       "      <td>0.0</td>\n",
       "      <td>0.0</td>\n",
       "      <td>0.0</td>\n",
       "      <td>1.0</td>\n",
       "      <td>6.082</td>\n",
       "      <td>0.040400</td>\n",
       "      <td>6.168</td>\n",
       "      <td>20.97</td>\n",
       "    </tr>\n",
       "    <tr>\n",
       "      <th>2021-02-23 02:21:08</th>\n",
       "      <td>0.0</td>\n",
       "      <td>0.0</td>\n",
       "      <td>0.0</td>\n",
       "      <td>0.0</td>\n",
       "      <td>1.0</td>\n",
       "      <td>6.168</td>\n",
       "      <td>0.067750</td>\n",
       "      <td>6.156</td>\n",
       "      <td>20.70</td>\n",
       "    </tr>\n",
       "    <tr>\n",
       "      <th>2021-02-23 02:21:09</th>\n",
       "      <td>0.0</td>\n",
       "      <td>0.0</td>\n",
       "      <td>0.0</td>\n",
       "      <td>0.0</td>\n",
       "      <td>1.0</td>\n",
       "      <td>6.168</td>\n",
       "      <td>0.083560</td>\n",
       "      <td>6.145</td>\n",
       "      <td>20.60</td>\n",
       "    </tr>\n",
       "  </tbody>\n",
       "</table>\n",
       "</div>"
      ],
      "text/plain": [
       "                     Coolness_RHEED  R FWHM_RHEED  X FWHM_RHEED  Y FWHM_RHEED  \\\n",
       "Time                                                                            \n",
       "2021-02-23 02:21:05             0.0           0.0           0.0           0.0   \n",
       "2021-02-23 02:21:06             0.0           0.0           0.0           0.0   \n",
       "2021-02-23 02:21:07             0.0           0.0           0.0           0.0   \n",
       "2021-02-23 02:21:08             0.0           0.0           0.0           0.0   \n",
       "2021-02-23 02:21:09             0.0           0.0           0.0           0.0   \n",
       "\n",
       "                     Crystal Position  Filtered Rate    Length  Raw Rate  \\\n",
       "Time                                                                       \n",
       "2021-02-23 02:21:05               1.0          6.000  0.003721     5.990   \n",
       "2021-02-23 02:21:06               1.0          6.094  0.028870     6.110   \n",
       "2021-02-23 02:21:07               1.0          6.082  0.040400     6.168   \n",
       "2021-02-23 02:21:08               1.0          6.168  0.067750     6.156   \n",
       "2021-02-23 02:21:09               1.0          6.168  0.083560     6.145   \n",
       "\n",
       "                     Source Power  \n",
       "Time                               \n",
       "2021-02-23 02:21:05         21.64  \n",
       "2021-02-23 02:21:06         21.06  \n",
       "2021-02-23 02:21:07         20.97  \n",
       "2021-02-23 02:21:08         20.70  \n",
       "2021-02-23 02:21:09         20.60  "
      ]
     },
     "execution_count": 5,
     "metadata": {},
     "output_type": "execute_result"
    }
   ],
   "source": [
    "dateparse = lambda x: datetime.strptime(x, '%Y-%m-%d %H:%M:%S')\n",
    "data = pd.read_csv(\"../data/onti_c.csv\", low_memory=False, index_col='Time',parse_dates=['Time'], date_parser=dateparse)\n",
    "data.head()"
   ]
  },
  {
   "cell_type": "code",
   "execution_count": 3,
   "id": "individual-customs",
   "metadata": {},
   "outputs": [
    {
     "data": {
      "text/plain": [
       "<AxesSubplot:xlabel='Time'>"
      ]
     },
     "execution_count": 3,
     "metadata": {},
     "output_type": "execute_result"
    },
    {
     "data": {
      "image/png": "[encoded data removed]",
      "text/plain": [
       "<Figure size 432x288 with 1 Axes>"
      ]
     },
     "metadata": {
      "needs_background": "light"
     },
     "output_type": "display_data"
    }
   ],
   "source": [
    "(data['Coolness_RHEED']).plot()"
   ]
  },
  {
   "cell_type": "code",
   "execution_count": 4,
   "id": "minor-lover",
   "metadata": {
    "tags": []
   },
   "outputs": [
    {
     "data": {
      "text/plain": [
       "<matplotlib.collections.PathCollection at 0x7f07e85e2f10>"
      ]
     },
     "execution_count": 4,
     "metadata": {},
     "output_type": "execute_result"
    },
    {
     "data": {
      "image/png": "[encoded data removed]",
      "text/plain": [
       "<Figure size 432x288 with 1 Axes>"
      ]
     },
     "metadata": {
      "needs_background": "light"
     },
     "output_type": "display_data"
    }
   ],
   "source": [
    "plt.scatter(data['Length'], data['Coolness_RHEED'])"
   ]
  },
  {
   "cell_type": "code",
   "execution_count": 5,
   "id": "dedicated-breath",
   "metadata": {},
   "outputs": [
    {
     "data": {
      "image/png": "[encoded data removed]",
      "text/plain": [
       "<Figure size 432x288 with 4 Axes>"
      ]
     },
     "metadata": {
      "needs_background": "light"
     },
     "output_type": "display_data"
    }
   ],
   "source": [
    "decomposed_coolness = sm.tsa.seasonal_decompose(data[\"Coolness_RHEED\"],freq=240) # The frequncy is 3 times a minute\n",
    "figure = decomposed_coolness.plot()\n",
    "plt.show()"
   ]
  },
  {
   "cell_type": "code",
   "execution_count": 6,
   "id": "standing-cemetery",
   "metadata": {},
   "outputs": [
    {
     "data": {
      "text/html": [
       "<div>\n",
       "<style scoped>\n",
       "    .dataframe tbody tr th:only-of-type {\n",
       "        vertical-align: middle;\n",
       "    }\n",
       "\n",
       "    .dataframe tbody tr th {\n",
       "        vertical-align: top;\n",
       "    }\n",
       "\n",
       "    .dataframe thead th {\n",
       "        text-align: right;\n",
       "    }\n",
       "</style>\n",
       "<table border=\"1\" class=\"dataframe\">\n",
       "  <thead>\n",
       "    <tr style=\"text-align: right;\">\n",
       "      <th></th>\n",
       "      <th>Coolness_RHEED</th>\n",
       "      <th>R FWHM_RHEED</th>\n",
       "      <th>X FWHM_RHEED</th>\n",
       "      <th>Y FWHM_RHEED</th>\n",
       "      <th>Crystal Position</th>\n",
       "      <th>Filtered Rate</th>\n",
       "      <th>Length</th>\n",
       "      <th>Raw Rate</th>\n",
       "      <th>Source Power</th>\n",
       "    </tr>\n",
       "    <tr>\n",
       "      <th>Time</th>\n",
       "      <th></th>\n",
       "      <th></th>\n",
       "      <th></th>\n",
       "      <th></th>\n",
       "      <th></th>\n",
       "      <th></th>\n",
       "      <th></th>\n",
       "      <th></th>\n",
       "      <th></th>\n",
       "    </tr>\n",
       "  </thead>\n",
       "  <tbody>\n",
       "    <tr>\n",
       "      <th>2021-02-23 02:21:05</th>\n",
       "      <td>0.0</td>\n",
       "      <td>0.0</td>\n",
       "      <td>0.0</td>\n",
       "      <td>0.0</td>\n",
       "      <td>1.0</td>\n",
       "      <td>6.000</td>\n",
       "      <td>0.003721</td>\n",
       "      <td>5.990</td>\n",
       "      <td>21.64</td>\n",
       "    </tr>\n",
       "    <tr>\n",
       "      <th>2021-02-23 02:21:06</th>\n",
       "      <td>0.0</td>\n",
       "      <td>0.0</td>\n",
       "      <td>0.0</td>\n",
       "      <td>0.0</td>\n",
       "      <td>1.0</td>\n",
       "      <td>6.094</td>\n",
       "      <td>0.028870</td>\n",
       "      <td>6.110</td>\n",
       "      <td>21.06</td>\n",
       "    </tr>\n",
       "    <tr>\n",
       "      <th>2021-02-23 02:21:07</th>\n",
       "      <td>0.0</td>\n",
       "      <td>0.0</td>\n",
       "      <td>0.0</td>\n",
       "      <td>0.0</td>\n",
       "      <td>1.0</td>\n",
       "      <td>6.082</td>\n",
       "      <td>0.040400</td>\n",
       "      <td>6.168</td>\n",
       "      <td>20.97</td>\n",
       "    </tr>\n",
       "    <tr>\n",
       "      <th>2021-02-23 02:21:08</th>\n",
       "      <td>0.0</td>\n",
       "      <td>0.0</td>\n",
       "      <td>0.0</td>\n",
       "      <td>0.0</td>\n",
       "      <td>1.0</td>\n",
       "      <td>6.168</td>\n",
       "      <td>0.067750</td>\n",
       "      <td>6.156</td>\n",
       "      <td>20.70</td>\n",
       "    </tr>\n",
       "    <tr>\n",
       "      <th>2021-02-23 02:21:09</th>\n",
       "      <td>0.0</td>\n",
       "      <td>0.0</td>\n",
       "      <td>0.0</td>\n",
       "      <td>0.0</td>\n",
       "      <td>1.0</td>\n",
       "      <td>6.168</td>\n",
       "      <td>0.083560</td>\n",
       "      <td>6.145</td>\n",
       "      <td>20.60</td>\n",
       "    </tr>\n",
       "  </tbody>\n",
       "</table>\n",
       "</div>"
      ],
      "text/plain": [
       "                     Coolness_RHEED  R FWHM_RHEED  X FWHM_RHEED  Y FWHM_RHEED  \\\n",
       "Time                                                                            \n",
       "2021-02-23 02:21:05             0.0           0.0           0.0           0.0   \n",
       "2021-02-23 02:21:06             0.0           0.0           0.0           0.0   \n",
       "2021-02-23 02:21:07             0.0           0.0           0.0           0.0   \n",
       "2021-02-23 02:21:08             0.0           0.0           0.0           0.0   \n",
       "2021-02-23 02:21:09             0.0           0.0           0.0           0.0   \n",
       "\n",
       "                     Crystal Position  Filtered Rate    Length  Raw Rate  \\\n",
       "Time                                                                       \n",
       "2021-02-23 02:21:05               1.0          6.000  0.003721     5.990   \n",
       "2021-02-23 02:21:06               1.0          6.094  0.028870     6.110   \n",
       "2021-02-23 02:21:07               1.0          6.082  0.040400     6.168   \n",
       "2021-02-23 02:21:08               1.0          6.168  0.067750     6.156   \n",
       "2021-02-23 02:21:09               1.0          6.168  0.083560     6.145   \n",
       "\n",
       "                     Source Power  \n",
       "Time                               \n",
       "2021-02-23 02:21:05         21.64  \n",
       "2021-02-23 02:21:06         21.06  \n",
       "2021-02-23 02:21:07         20.97  \n",
       "2021-02-23 02:21:08         20.70  \n",
       "2021-02-23 02:21:09         20.60  "
      ]
     },
     "execution_count": 6,
     "metadata": {},
     "output_type": "execute_result"
    },
    {
     "data": {
      "image/png": "[encoded data removed]",
      "text/plain": [
       "<Figure size 432x288 with 1 Axes>"
      ]
     },
     "metadata": {
      "needs_background": "light"
     },
     "output_type": "display_data"
    }
   ],
   "source": [
    "data['Coolness_RHEED'].resample('10min').mean().plot(kind='bar')\n",
    "data.head()"
   ]
  },
  {
   "cell_type": "code",
   "execution_count": 7,
   "id": "heard-infection",
   "metadata": {},
   "outputs": [
    {
     "data": {
      "text/html": [
       "<div>\n",
       "<style scoped>\n",
       "    .dataframe tbody tr th:only-of-type {\n",
       "        vertical-align: middle;\n",
       "    }\n",
       "\n",
       "    .dataframe tbody tr th {\n",
       "        vertical-align: top;\n",
       "    }\n",
       "\n",
       "    .dataframe thead th {\n",
       "        text-align: right;\n",
       "    }\n",
       "</style>\n",
       "<table border=\"1\" class=\"dataframe\">\n",
       "  <thead>\n",
       "    <tr style=\"text-align: right;\">\n",
       "      <th></th>\n",
       "      <th>Coolness_RHEED</th>\n",
       "      <th>R FWHM_RHEED</th>\n",
       "      <th>X FWHM_RHEED</th>\n",
       "      <th>Y FWHM_RHEED</th>\n",
       "      <th>Crystal Position</th>\n",
       "      <th>Filtered Rate</th>\n",
       "      <th>Length</th>\n",
       "      <th>Raw Rate</th>\n",
       "      <th>Source Power</th>\n",
       "    </tr>\n",
       "    <tr>\n",
       "      <th>Time</th>\n",
       "      <th></th>\n",
       "      <th></th>\n",
       "      <th></th>\n",
       "      <th></th>\n",
       "      <th></th>\n",
       "      <th></th>\n",
       "      <th></th>\n",
       "      <th></th>\n",
       "      <th></th>\n",
       "    </tr>\n",
       "  </thead>\n",
       "  <tbody>\n",
       "    <tr>\n",
       "      <th>2021-02-23 00:00:00</th>\n",
       "      <td>43.918467</td>\n",
       "      <td>15.657263</td>\n",
       "      <td>12.587497</td>\n",
       "      <td>20.023498</td>\n",
       "      <td>inf</td>\n",
       "      <td>6.491989</td>\n",
       "      <td>876.884270</td>\n",
       "      <td>6.961512</td>\n",
       "      <td>19.156465</td>\n",
       "    </tr>\n",
       "    <tr>\n",
       "      <th>2021-02-23 01:00:00</th>\n",
       "      <td>43.951492</td>\n",
       "      <td>15.780112</td>\n",
       "      <td>12.675965</td>\n",
       "      <td>20.181294</td>\n",
       "      <td>inf</td>\n",
       "      <td>6.522924</td>\n",
       "      <td>896.632927</td>\n",
       "      <td>7.038413</td>\n",
       "      <td>19.127990</td>\n",
       "    </tr>\n",
       "    <tr>\n",
       "      <th>2021-02-23 02:00:00</th>\n",
       "      <td>42.867041</td>\n",
       "      <td>15.863597</td>\n",
       "      <td>12.673689</td>\n",
       "      <td>19.978661</td>\n",
       "      <td>inf</td>\n",
       "      <td>6.528862</td>\n",
       "      <td>876.596814</td>\n",
       "      <td>7.084470</td>\n",
       "      <td>19.187268</td>\n",
       "    </tr>\n",
       "    <tr>\n",
       "      <th>2021-02-23 03:00:00</th>\n",
       "      <td>41.920065</td>\n",
       "      <td>15.631934</td>\n",
       "      <td>12.458573</td>\n",
       "      <td>19.631527</td>\n",
       "      <td>inf</td>\n",
       "      <td>6.711772</td>\n",
       "      <td>854.726618</td>\n",
       "      <td>7.255185</td>\n",
       "      <td>19.726125</td>\n",
       "    </tr>\n",
       "    <tr>\n",
       "      <th>2021-02-23 04:00:00</th>\n",
       "      <td>42.712514</td>\n",
       "      <td>15.731766</td>\n",
       "      <td>12.604864</td>\n",
       "      <td>20.057884</td>\n",
       "      <td>inf</td>\n",
       "      <td>6.753357</td>\n",
       "      <td>800.725279</td>\n",
       "      <td>7.256337</td>\n",
       "      <td>19.957942</td>\n",
       "    </tr>\n",
       "  </tbody>\n",
       "</table>\n",
       "</div>"
      ],
      "text/plain": [
       "                     Coolness_RHEED  R FWHM_RHEED  X FWHM_RHEED  Y FWHM_RHEED  \\\n",
       "Time                                                                            \n",
       "2021-02-23 00:00:00       43.918467     15.657263     12.587497     20.023498   \n",
       "2021-02-23 01:00:00       43.951492     15.780112     12.675965     20.181294   \n",
       "2021-02-23 02:00:00       42.867041     15.863597     12.673689     19.978661   \n",
       "2021-02-23 03:00:00       41.920065     15.631934     12.458573     19.631527   \n",
       "2021-02-23 04:00:00       42.712514     15.731766     12.604864     20.057884   \n",
       "\n",
       "                     Crystal Position  Filtered Rate      Length  Raw Rate  \\\n",
       "Time                                                                         \n",
       "2021-02-23 00:00:00               inf       6.491989  876.884270  6.961512   \n",
       "2021-02-23 01:00:00               inf       6.522924  896.632927  7.038413   \n",
       "2021-02-23 02:00:00               inf       6.528862  876.596814  7.084470   \n",
       "2021-02-23 03:00:00               inf       6.711772  854.726618  7.255185   \n",
       "2021-02-23 04:00:00               inf       6.753357  800.725279  7.256337   \n",
       "\n",
       "                     Source Power  \n",
       "Time                               \n",
       "2021-02-23 00:00:00     19.156465  \n",
       "2021-02-23 01:00:00     19.127990  \n",
       "2021-02-23 02:00:00     19.187268  \n",
       "2021-02-23 03:00:00     19.726125  \n",
       "2021-02-23 04:00:00     19.957942  "
      ]
     },
     "execution_count": 7,
     "metadata": {},
     "output_type": "execute_result"
    }
   ],
   "source": [
    "data_h = data.resample('H').mean()\n",
    "data_h.head()"
   ]
  },
  {
   "cell_type": "code",
   "execution_count": 8,
   "id": "interested-martin",
   "metadata": {},
   "outputs": [
    {
     "ename": "NameError",
     "evalue": "name 'pyplot' is not defined",
     "output_type": "error",
     "traceback": [
      "\u001b[0;31m---------------------------------------------------------------------------\u001b[0m",
      "\u001b[0;31mNameError\u001b[0m                                 Traceback (most recent call last)",
      "\u001b[0;32m<ipython-input-8-9c78c4849761>\u001b[0m in \u001b[0;36m<module>\u001b[0;34m\u001b[0m\n\u001b[1;32m      1\u001b[0m \u001b[0mautocorrelation_plot\u001b[0m\u001b[0;34m(\u001b[0m\u001b[0mdata_h\u001b[0m\u001b[0;34m[\u001b[0m\u001b[0;34m'Coolness_RHEED'\u001b[0m\u001b[0;34m]\u001b[0m\u001b[0;34m)\u001b[0m\u001b[0;34m\u001b[0m\u001b[0;34m\u001b[0m\u001b[0m\n\u001b[0;32m----> 2\u001b[0;31m \u001b[0mpyplot\u001b[0m\u001b[0;34m.\u001b[0m\u001b[0mshow\u001b[0m\u001b[0;34m(\u001b[0m\u001b[0;34m)\u001b[0m\u001b[0;34m\u001b[0m\u001b[0;34m\u001b[0m\u001b[0m\n\u001b[0m\u001b[1;32m      3\u001b[0m \u001b[0;31m# this plot means P will be less than 5\u001b[0m\u001b[0;34m\u001b[0m\u001b[0;34m\u001b[0m\u001b[0;34m\u001b[0m\u001b[0m\n",
      "\u001b[0;31mNameError\u001b[0m: name 'pyplot' is not defined"
     ]
    },
    {
     "data": {
      "image/png": "[encoded data removed]",
      "text/plain": [
       "<Figure size 432x288 with 1 Axes>"
      ]
     },
     "metadata": {
      "needs_background": "light"
     },
     "output_type": "display_data"
    }
   ],
   "source": [
    "autocorrelation_plot(data_h['Coolness_RHEED'])\n",
    "pyplot.show()\n",
    "# this plot means P will be less than 5"
   ]
  },
  {
   "cell_type": "code",
   "execution_count": 9,
   "id": "accepted-summer",
   "metadata": {},
   "outputs": [
    {
     "data": {
      "image/png": "[encoded data removed]",
      "text/plain": [
       "<Figure size 432x288 with 1 Axes>"
      ]
     },
     "execution_count": 9,
     "metadata": {},
     "output_type": "execute_result"
    },
    {
     "data": {
      "image/png": "[encoded data removed]",
      "text/plain": [
       "<Figure size 432x288 with 1 Axes>"
      ]
     },
     "metadata": {
      "needs_background": "light"
     },
     "output_type": "display_data"
    }
   ],
   "source": [
    "plot_pacf(data_h['Coolness_RHEED'], lags=11)\n",
    "# q can be 1 or 3 or 4"
   ]
  },
  {
   "cell_type": "code",
   "execution_count": null,
   "id": "responsible-target",
   "metadata": {
    "tags": []
   },
   "outputs": [],
   "source": [
    "# Forecasting and predicting coolness\n",
    "ps = range(10)\n",
    "ds = [1]\n",
    "qs = range(10)\n",
    "for p in ps:\n",
    "    for d in ds:\n",
    "        for q in qs:\n",
    "            try:\n",
    "                print(p, d, q)\n",
    "                model = ARIMA(data_h['Coolness_RHEED'], order = (p, d, q))\n",
    "                model_fit = model.fit()\n",
    "                model_fit.summary()\n",
    "                model_fit.plot_predict(dynamic=False)\n",
    "                plt.show()\n",
    "            except Exception:\n",
    "                pass\n",
    "# the best is 0 1 1 (6 0 6 good 4 0 2)"
   ]
  },
  {
   "cell_type": "code",
   "execution_count": null,
   "id": "optional-edwards",
   "metadata": {},
   "outputs": [],
   "source": [
    "model_fit.plot_predict(dynamic=False)\n",
    "plt.show()"
   ]
  },
  {
   "cell_type": "code",
   "execution_count": null,
   "id": "coral-recruitment",
   "metadata": {},
   "outputs": [],
   "source": [
    "%matplotlib inline\n",
    "plt.style.use('Solarize_Light2')\n",
    "sns.set_context(\n",
    "    \"notebook\",\n",
    "    rc={\n",
    "        \"figure.figsize\": (17, 8),\n",
    "        \"axes.titlesize\": 18\n",
    "    }\n",
    ")\n",
    "\n",
    "from matplotlib import rcParams\n",
    "rcParams['figure.figsize'] = 17, 8\n",
    "\n",
    "%config InlineBackend.figure_format = 'retina'"
   ]
  },
  {
   "cell_type": "code",
   "execution_count": 10,
   "id": "textile-cooler",
   "metadata": {},
   "outputs": [
    {
     "name": "stdout",
     "output_type": "stream",
     "text": [
      "                             ARIMA Model Results                              \n",
      "==============================================================================\n",
      "Dep. Variable:       D.Coolness_RHEED   No. Observations:                   23\n",
      "Model:                 ARIMA(0, 1, 1)   Log Likelihood                 -49.593\n",
      "Method:                       css-mle   S.D. of innovations              2.089\n",
      "Date:                Wed, 24 Feb 2021   AIC                            105.185\n",
      "Time:                        14:06:48   BIC                            108.592\n",
      "Sample:                    02-23-2021   HQIC                           106.042\n",
      "                         - 02-23-2021                                         \n",
      "==========================================================================================\n",
      "                             coef    std err          z      P>|z|      [0.025      0.975]\n",
      "------------------------------------------------------------------------------------------\n",
      "const                     -0.0378      0.370     -0.102      0.919      -0.763       0.687\n",
      "ma.L1.D.Coolness_RHEED    -0.1585      0.343     -0.463      0.644      -0.830       0.513\n",
      "                                    Roots                                    \n",
      "=============================================================================\n",
      "                  Real          Imaginary           Modulus         Frequency\n",
      "-----------------------------------------------------------------------------\n",
      "MA.1            6.3103           +0.0000j            6.3103            0.0000\n",
      "-----------------------------------------------------------------------------\n"
     ]
    }
   ],
   "source": [
    "model = ARIMA(data_h['Coolness_RHEED'], order = (0, 1, 1))\n",
    "model_fit = model.fit()\n",
    "print(model_fit.summary())"
   ]
  },
  {
   "cell_type": "code",
   "execution_count": null,
   "id": "upper-orlando",
   "metadata": {},
   "outputs": [],
   "source": [
    "print(model.predict([0, 1, 1], start=10000, end=10435))"
   ]
  },
  {
   "cell_type": "code",
   "execution_count": null,
   "id": "irish-evolution",
   "metadata": {},
   "outputs": [],
   "source": [
    "#rmse = math.sqrt(mean_squared_error(data['Coolness_RHEED'].diff().iloc[700:1001].values, result.predict(start=700,end=1000)))\n",
    "sklearn.metrics.roc_auc_score(data['Coolness_RHEED'].[700:1001].values, result.predict(start=700,end=1000))"
   ]
  },
  {
   "cell_type": "code",
   "execution_count": 8,
   "id": "fourth-massachusetts",
   "metadata": {},
   "outputs": [],
   "source": [
    "from pandas import read_csv\n",
    "from statsmodels.tsa.arima.model import ARIMA\n",
    "import numpy\n",
    "from pandas import datetime"
   ]
  },
  {
   "cell_type": "code",
   "execution_count": 10,
   "id": "employed-queue",
   "metadata": {},
   "outputs": [],
   "source": [
    "# create a differenced series\n",
    "def difference(dataset, interval=1):\n",
    "\tdiff = list()\n",
    "\tfor i in range(interval, len(dataset)):\n",
    "\t\tvalue = dataset[i] - dataset[i - interval]\n",
    "\t\tdiff.append(value)\n",
    "\treturn numpy.array(diff)\n",
    "\n",
    "# invert differenced value\n",
    "def inverse_difference(history, yhat, interval=1):\n",
    "\treturn yhat + history[-interval]\n"
   ]
  },
  {
   "cell_type": "code",
   "execution_count": 13,
   "id": "conscious-german",
   "metadata": {},
   "outputs": [
    {
     "data": {
      "text/plain": [
       "count    2.363772e+06\n",
       "mean     4.301308e+01\n",
       "std      1.162788e+01\n",
       "min      0.000000e+00\n",
       "25%      4.380000e+01\n",
       "50%      4.580000e+01\n",
       "75%      4.740000e+01\n",
       "max      8.520000e+01\n",
       "Name: Coolness_RHEED, dtype: float64"
      ]
     },
     "execution_count": 13,
     "metadata": {},
     "output_type": "execute_result"
    }
   ],
   "source": [
    "data['Coolness_RHEED'].describe()"
   ]
  },
  {
   "cell_type": "code",
   "execution_count": null,
   "id": "caroline-madagascar",
   "metadata": {},
   "outputs": [],
   "source": [
    "# load dataset\n",
    "series = data['Coolness_RHEED']\n",
    "# seasonal difference\n",
    "X = series.values\n",
    "days_in_year = 50\n",
    "differenced = difference(X, days_in_year)\n",
    "# fit model\n",
    "model = ARIMA(X, order=(0,1,1))\n",
    "model_fit = model.fit()\n",
    "print(model_fit.summary())"
   ]
  },
  {
   "cell_type": "code",
   "execution_count": null,
   "id": "special-singer",
   "metadata": {},
   "outputs": [],
   "source": [
    "# one-step out of sample forecast\n",
    "start_index = len(X)\n",
    "end_index = len(X) + 445\n",
    "forecast = model_fit.predict(start=start_index, end=end_index)\n",
    "# invert the differenced forecast to something usable\n",
    "forecast"
   ]
  },
  {
   "cell_type": "code",
   "execution_count": 6,
   "id": "decimal-cambridge",
   "metadata": {},
   "outputs": [
    {
     "name": "stdout",
     "output_type": "stream",
     "text": [
      "Time\n",
      "2021-02-23 02:22:44    0.0\n",
      "2021-02-23 02:22:45    0.0\n",
      "2021-02-23 02:22:46    0.0\n",
      "2021-02-23 02:22:47    0.0\n",
      "2021-02-23 02:22:48    0.0\n",
      "                      ... \n",
      "2021-02-23 02:29:55    0.0\n",
      "2021-02-23 02:29:56    0.0\n",
      "2021-02-23 02:29:57    0.0\n",
      "2021-02-23 02:29:58    0.0\n",
      "2021-02-23 02:29:59    0.0\n",
      "Name: predicted_mean, Length: 436, dtype: float64\n"
     ]
    }
   ],
   "source": [
    "# SARIMAX example\n",
    "from statsmodels.tsa.statespace.sarimax import SARIMAX\n",
    "from random import random\n",
    "# contrived dataset\n",
    "# fit model\n",
    "model = SARIMAX(data['Coolness_RHEED'], order=(1, 1, 1), seasonal_order=(0, 0, 0, 0))\n",
    "model_fit = model.fit(disp=True)\n",
    "# make prediction\n",
    "yhat = model_fit.predict(len(data1), len(data1) + 435)\n",
    "print(yhat)"
   ]
  },
  {
   "cell_type": "code",
   "execution_count": 8,
   "id": "descending-endorsement",
   "metadata": {},
   "outputs": [
    {
     "data": {
      "text/plain": [
       "0.0    436\n",
       "Name: predicted_mean, dtype: int64"
      ]
     },
     "execution_count": 8,
     "metadata": {},
     "output_type": "execute_result"
    }
   ],
   "source": [
    "yhat.value_counts()"
   ]
  }
 ],
 "metadata": {
  "kernelspec": {
   "display_name": "Python 3",
   "language": "python",
   "name": "python3"
  },
  "language_info": {
   "codemirror_mode": {
    "name": "ipython",
    "version": 3
   },
   "file_extension": ".py",
   "mimetype": "text/x-python",
   "name": "python",
   "nbconvert_exporter": "python",
   "pygments_lexer": "ipython3",
   "version": "3.7.9"
  }
 },
 "nbformat": 4,
 "nbformat_minor": 5
}
