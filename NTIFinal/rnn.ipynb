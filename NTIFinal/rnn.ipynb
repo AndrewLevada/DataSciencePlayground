{
 "cells": [
  {
   "cell_type": "code",
   "execution_count": 1,
   "id": "neither-portland",
   "metadata": {},
   "outputs": [],
   "source": [
    "import numpy as np\n",
    "import pandas as pd\n",
    "import tensorflow as tf\n",
    "import random\n",
    "from sklearn.metrics import roc_auc_score, roc_curve\n",
    "from tensorflow.keras.models import Sequential\n",
    "from tensorflow.keras.layers import Dense, GRU\n",
    "from tensorflow.keras.optimizers import Adam, RMSprop, SGD\n",
    "from sklearn.preprocessing import MinMaxScaler"
   ]
  },
  {
   "cell_type": "code",
   "execution_count": 2,
   "id": "introductory-salon",
   "metadata": {},
   "outputs": [
    {
     "data": {
      "text/html": [
       "<div>\n",
       "<style scoped>\n",
       "    .dataframe tbody tr th:only-of-type {\n",
       "        vertical-align: middle;\n",
       "    }\n",
       "\n",
       "    .dataframe tbody tr th {\n",
       "        vertical-align: top;\n",
       "    }\n",
       "\n",
       "    .dataframe thead th {\n",
       "        text-align: right;\n",
       "    }\n",
       "</style>\n",
       "<table border=\"1\" class=\"dataframe\">\n",
       "  <thead>\n",
       "    <tr style=\"text-align: right;\">\n",
       "      <th></th>\n",
       "      <th>Coolness_RHEED</th>\n",
       "      <th>R FWHM_RHEED</th>\n",
       "      <th>X FWHM_RHEED</th>\n",
       "      <th>Y FWHM_RHEED</th>\n",
       "      <th>Filtered Rate</th>\n",
       "      <th>Length</th>\n",
       "      <th>Raw Rate</th>\n",
       "      <th>Source Power</th>\n",
       "    </tr>\n",
       "  </thead>\n",
       "  <tbody>\n",
       "    <tr>\n",
       "      <th>2363767</th>\n",
       "      <td>0.0</td>\n",
       "      <td>0.0</td>\n",
       "      <td>0.0</td>\n",
       "      <td>0.0</td>\n",
       "      <td>0.003712</td>\n",
       "      <td>1733.0</td>\n",
       "      <td>0.0</td>\n",
       "      <td>3.0</td>\n",
       "    </tr>\n",
       "    <tr>\n",
       "      <th>2363768</th>\n",
       "      <td>0.0</td>\n",
       "      <td>0.0</td>\n",
       "      <td>0.0</td>\n",
       "      <td>0.0</td>\n",
       "      <td>0.004330</td>\n",
       "      <td>1733.0</td>\n",
       "      <td>0.0</td>\n",
       "      <td>3.0</td>\n",
       "    </tr>\n",
       "    <tr>\n",
       "      <th>2363769</th>\n",
       "      <td>0.0</td>\n",
       "      <td>0.0</td>\n",
       "      <td>0.0</td>\n",
       "      <td>0.0</td>\n",
       "      <td>0.004020</td>\n",
       "      <td>1733.0</td>\n",
       "      <td>0.0</td>\n",
       "      <td>3.0</td>\n",
       "    </tr>\n",
       "    <tr>\n",
       "      <th>2363770</th>\n",
       "      <td>0.0</td>\n",
       "      <td>0.0</td>\n",
       "      <td>0.0</td>\n",
       "      <td>0.0</td>\n",
       "      <td>0.004020</td>\n",
       "      <td>1733.0</td>\n",
       "      <td>0.0</td>\n",
       "      <td>3.0</td>\n",
       "    </tr>\n",
       "    <tr>\n",
       "      <th>2363771</th>\n",
       "      <td>0.0</td>\n",
       "      <td>0.0</td>\n",
       "      <td>0.0</td>\n",
       "      <td>0.0</td>\n",
       "      <td>0.004640</td>\n",
       "      <td>1733.0</td>\n",
       "      <td>0.0</td>\n",
       "      <td>3.0</td>\n",
       "    </tr>\n",
       "  </tbody>\n",
       "</table>\n",
       "</div>"
      ],
      "text/plain": [
       "         Coolness_RHEED  R FWHM_RHEED  X FWHM_RHEED  Y FWHM_RHEED  \\\n",
       "2363767             0.0           0.0           0.0           0.0   \n",
       "2363768             0.0           0.0           0.0           0.0   \n",
       "2363769             0.0           0.0           0.0           0.0   \n",
       "2363770             0.0           0.0           0.0           0.0   \n",
       "2363771             0.0           0.0           0.0           0.0   \n",
       "\n",
       "         Filtered Rate  Length  Raw Rate  Source Power  \n",
       "2363767       0.003712  1733.0       0.0           3.0  \n",
       "2363768       0.004330  1733.0       0.0           3.0  \n",
       "2363769       0.004020  1733.0       0.0           3.0  \n",
       "2363770       0.004020  1733.0       0.0           3.0  \n",
       "2363771       0.004640  1733.0       0.0           3.0  "
      ]
     },
     "execution_count": 2,
     "metadata": {},
     "output_type": "execute_result"
    }
   ],
   "source": [
    "data = pd.read_csv('../data/onti_c.csv')\n",
    "data.drop(['Time'], axis=1, inplace=True)\n",
    "data.drop(['Crystal Position'], axis=1, inplace=True) # Beacuse has infs (try to fix later)\n",
    "data.tail()"
   ]
  },
  {
   "cell_type": "code",
   "execution_count": 3,
   "id": "outdoor-scanner",
   "metadata": {},
   "outputs": [],
   "source": [
    "# data['Anomaly'] = data['Coolness_RHEED']\n",
    "# data['Anomaly'] = (data['Anomaly'] - data['Anomaly'].rolling(50).mean()).apply(lambda x: (1 if abs(x) >= 5 else 0))\n",
    "\n",
    "data['Anomaly'] = data['Coolness_RHEED'].rolling(50).mean()\n",
    "data['Anomaly'] = ((data['Anomaly']- data['Anomaly'].shift(-435)) > 5)\n",
    "\n",
    "temp = data[11000:len(data.index)-1000]\n",
    "anom_indexes = temp[temp['Anomaly'] == 1].index\n",
    "norm_indexes = temp[temp['Anomaly'] == 0].index"
   ]
  },
  {
   "cell_type": "code",
   "execution_count": 21,
   "id": "concerned-current",
   "metadata": {},
   "outputs": [],
   "source": [
    "num_data = len(data.index)\n",
    "\n",
    "train_split = 1\n",
    "num_train = int(train_split * num_data)\n",
    "num_test = num_data - num_train\n",
    "\n",
    "train = data.drop('Anomaly', axis=1).values[0:num_train]\n",
    "# test = data.drop('Anomaly', axis=1).values[num_train:]\n",
    "# scaler = MinMaxScaler()\n",
    "# train = scaler.fit_transform(train)\n",
    "# test = scaler.transform(test)\n",
    "\n",
    "num_x_signals = train.shape[1]\n",
    "\n",
    "def get_data_entry(length=1000):\n",
    "    # Allocate a new array for the batch of input-signals.\n",
    "    x_shape = (length, 10000, num_x_signals)\n",
    "    x_batch = np.zeros(shape=x_shape, dtype=np.float32)\n",
    "\n",
    "    # Allocate a new array for the batch of output-signals.\n",
    "    y_shape = (length, 1, 1)\n",
    "    y_batch = np.zeros(shape=y_shape, dtype=np.float32)\n",
    "\n",
    "    # Fill the batch with random sequences of data.\n",
    "    for i in range(length):\n",
    "        # Get a random start-index.\n",
    "        # This points somewhere into the training-data.\n",
    "        idx = random.choice(anom_indexes) if i % 2 == 0 else random.choice(norm_indexes)\n",
    "            \n",
    "        # Copy the sequences of data starting at this index.\n",
    "        x_batch[i] = train[idx - 10000:idx]\n",
    "        y_mean = train[idx + 385:idx + 435][0].mean()\n",
    "#         y_batch[i] = [1 if (abs(train[idx + 435][0] - y_mean) >= 5) else 0]\n",
    "        y_batch[i] = [[1 if i % 2 == 0 else 0, 0 if i % 2 == 0 else 1]]\n",
    "        \n",
    "    return (x_batch, y_batch)\n",
    "\n",
    "def batch_generator(batch_size):\n",
    "    while True:\n",
    "        yield get_data_entry(length=batch_size)\n",
    "        \n",
    "generator = batch_generator(2)\n"
   ]
  },
  {
   "cell_type": "code",
   "execution_count": 22,
   "id": "medieval-polyester",
   "metadata": {},
   "outputs": [
    {
     "name": "stdout",
     "output_type": "stream",
     "text": [
      "Model: \"sequential_5\"\n",
      "_________________________________________________________________\n",
      "Layer (type)                 Output Shape              Param #   \n",
      "=================================================================\n",
      "gru_10 (GRU)                 (None, None, 32)          4032      \n",
      "_________________________________________________________________\n",
      "gru_11 (GRU)                 (None, 16)                2400      \n",
      "_________________________________________________________________\n",
      "dense_5 (Dense)              (None, 2)                 34        \n",
      "=================================================================\n",
      "Total params: 6,466\n",
      "Trainable params: 6,466\n",
      "Non-trainable params: 0\n",
      "_________________________________________________________________\n"
     ]
    }
   ],
   "source": [
    "def create_model():\n",
    "    m = Sequential()\n",
    "    m.add(GRU(units=32, input_shape=(None, num_x_signals,), return_sequences=True))\n",
    "    m.add(GRU(units=16, input_shape=(None, num_x_signals,)))\n",
    "    m.add(Dense(2, activation='softmax'))\n",
    "\n",
    "    m.compile(loss='mean_squared_logarithmic_error', optimizer='adam',\n",
    "              metrics=[tf.keras.metrics.AUC(name='auc', num_thresholds=10000)])\n",
    "    return m\n",
    "\n",
    "model = create_model()\n",
    "model.summary()"
   ]
  },
  {
   "cell_type": "code",
   "execution_count": 23,
   "id": "plain-kitty",
   "metadata": {},
   "outputs": [
    {
     "ename": "ValueError",
     "evalue": "cannot copy sequence with size 2 to array axis with dimension 1",
     "output_type": "error",
     "traceback": [
      "\u001b[0;31m---------------------------------------------------------------------------\u001b[0m",
      "\u001b[0;31mValueError\u001b[0m                                Traceback (most recent call last)",
      "\u001b[0;32m<ipython-input-23-c1ff07a10da0>\u001b[0m in \u001b[0;36m<module>\u001b[0;34m\u001b[0m\n\u001b[1;32m      2\u001b[0m           \u001b[0mepochs\u001b[0m\u001b[0;34m=\u001b[0m\u001b[0;36m20\u001b[0m\u001b[0;34m,\u001b[0m\u001b[0;34m\u001b[0m\u001b[0;34m\u001b[0m\u001b[0m\n\u001b[1;32m      3\u001b[0m           \u001b[0msteps_per_epoch\u001b[0m\u001b[0;34m=\u001b[0m\u001b[0;36m8\u001b[0m\u001b[0;34m,\u001b[0m\u001b[0;34m\u001b[0m\u001b[0;34m\u001b[0m\u001b[0m\n\u001b[0;32m----> 4\u001b[0;31m           validation_data=get_data_entry(200))\n\u001b[0m",
      "\u001b[0;32m<ipython-input-21-7c5f0a375b6a>\u001b[0m in \u001b[0;36mget_data_entry\u001b[0;34m(length)\u001b[0m\n\u001b[1;32m     32\u001b[0m         \u001b[0my_mean\u001b[0m \u001b[0;34m=\u001b[0m \u001b[0mtrain\u001b[0m\u001b[0;34m[\u001b[0m\u001b[0midx\u001b[0m \u001b[0;34m+\u001b[0m \u001b[0;36m385\u001b[0m\u001b[0;34m:\u001b[0m\u001b[0midx\u001b[0m \u001b[0;34m+\u001b[0m \u001b[0;36m435\u001b[0m\u001b[0;34m]\u001b[0m\u001b[0;34m[\u001b[0m\u001b[0;36m0\u001b[0m\u001b[0;34m]\u001b[0m\u001b[0;34m.\u001b[0m\u001b[0mmean\u001b[0m\u001b[0;34m(\u001b[0m\u001b[0;34m)\u001b[0m\u001b[0;34m\u001b[0m\u001b[0;34m\u001b[0m\u001b[0m\n\u001b[1;32m     33\u001b[0m \u001b[0;31m#         y_batch[i] = [1 if (abs(train[idx + 435][0] - y_mean) >= 5) else 0]\u001b[0m\u001b[0;34m\u001b[0m\u001b[0;34m\u001b[0m\u001b[0;34m\u001b[0m\u001b[0m\n\u001b[0;32m---> 34\u001b[0;31m         \u001b[0my_batch\u001b[0m\u001b[0;34m[\u001b[0m\u001b[0mi\u001b[0m\u001b[0;34m]\u001b[0m \u001b[0;34m=\u001b[0m \u001b[0;34m[\u001b[0m\u001b[0;34m[\u001b[0m\u001b[0;36m1\u001b[0m \u001b[0;32mif\u001b[0m \u001b[0mi\u001b[0m \u001b[0;34m%\u001b[0m \u001b[0;36m2\u001b[0m \u001b[0;34m==\u001b[0m \u001b[0;36m0\u001b[0m \u001b[0;32melse\u001b[0m \u001b[0;36m0\u001b[0m\u001b[0;34m,\u001b[0m \u001b[0;36m0\u001b[0m \u001b[0;32mif\u001b[0m \u001b[0mi\u001b[0m \u001b[0;34m%\u001b[0m \u001b[0;36m2\u001b[0m \u001b[0;34m==\u001b[0m \u001b[0;36m0\u001b[0m \u001b[0;32melse\u001b[0m \u001b[0;36m1\u001b[0m\u001b[0;34m]\u001b[0m\u001b[0;34m]\u001b[0m\u001b[0;34m\u001b[0m\u001b[0;34m\u001b[0m\u001b[0m\n\u001b[0m\u001b[1;32m     35\u001b[0m \u001b[0;34m\u001b[0m\u001b[0m\n\u001b[1;32m     36\u001b[0m     \u001b[0;32mreturn\u001b[0m \u001b[0;34m(\u001b[0m\u001b[0mx_batch\u001b[0m\u001b[0;34m,\u001b[0m \u001b[0my_batch\u001b[0m\u001b[0;34m)\u001b[0m\u001b[0;34m\u001b[0m\u001b[0;34m\u001b[0m\u001b[0m\n",
      "\u001b[0;31mValueError\u001b[0m: cannot copy sequence with size 2 to array axis with dimension 1"
     ]
    }
   ],
   "source": [
    "model.fit(x=generator,\n",
    "          epochs=20,\n",
    "          steps_per_epoch=8,\n",
    "          validation_data=get_data_entry(200))"
   ]
  },
  {
   "cell_type": "code",
   "execution_count": null,
   "id": "compound-decline",
   "metadata": {},
   "outputs": [],
   "source": [
    "test = get_data_entry()\n",
    "# expected = test[1]\n",
    "# predicted = model.predict(x=test[0], use_multiprocessing=True)\n",
    "\n",
    "result = model.evaluate(test[0], test[1])\n",
    "print(\"AUC: {0:.3%}\".format(result[1]))"
   ]
  },
  {
   "cell_type": "code",
   "execution_count": null,
   "id": "associate-mozambique",
   "metadata": {
    "tags": []
   },
   "outputs": [],
   "source": [
    "model.save('new_model.h5')"
   ]
  },
  {
   "cell_type": "code",
   "execution_count": null,
   "id": "identical-evanescence",
   "metadata": {},
   "outputs": [],
   "source": [
    "l_model = tf.keras.models.load_model('my_model.h5')\n",
    "test = get_data_entry()\n",
    "result = l_model.evaluate(test[0], test[1])\n",
    "print(\"AUC: {0:.3%}\".format(result[1]))"
   ]
  }
 ],
 "metadata": {
  "kernelspec": {
   "display_name": "Python 3",
   "language": "python",
   "name": "python3"
  },
  "language_info": {
   "codemirror_mode": {
    "name": "ipython",
    "version": 3
   },
   "file_extension": ".py",
   "mimetype": "text/x-python",
   "name": "python",
   "nbconvert_exporter": "python",
   "pygments_lexer": "ipython3",
   "version": "3.7.9"
  }
 },
 "nbformat": 4,
 "nbformat_minor": 5
}
