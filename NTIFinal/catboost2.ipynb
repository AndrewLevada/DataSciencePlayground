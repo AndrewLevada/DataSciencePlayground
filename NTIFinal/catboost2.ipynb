{
 "cells": [
  {
   "cell_type": "code",
   "execution_count": 1,
   "metadata": {},
   "outputs": [],
   "source": [
    "import pandas as pd\n",
    "import os\n",
    "import numpy as np\n",
    "import pandas as pd\n",
    "import sklearn\n",
    "import numpy as np\n",
    "import lightgbm\n",
    "from sklearn.model_selection import train_test_split\n",
    "import joblib\n",
    "import scipy as sp\n",
    "from sklearn.feature_extraction.text import TfidfVectorizer\n",
    "from sklearn.preprocessing import OneHotEncoder, LabelEncoder\n",
    "\n",
    "from sklearn.linear_model import LogisticRegression, Ridge, RidgeClassifier\n",
    "\n",
    "from sklearn.metrics import accuracy_score\n",
    "from sklearn.preprocessing import StandardScaler\n",
    "import matplotlib.pyplot as plt\n"
   ]
  },
  {
   "cell_type": "code",
   "execution_count": 2,
   "metadata": {},
   "outputs": [],
   "source": [
    "from catboost import CatBoostClassifier, Pool, cv\n",
    "from sklearn.metrics import accuracy_score"
   ]
  },
  {
   "cell_type": "code",
   "execution_count": 3,
   "metadata": {},
   "outputs": [
    {
     "data": {
      "text/html": [
       "<div>\n",
       "<style scoped>\n",
       "    .dataframe tbody tr th:only-of-type {\n",
       "        vertical-align: middle;\n",
       "    }\n",
       "\n",
       "    .dataframe tbody tr th {\n",
       "        vertical-align: top;\n",
       "    }\n",
       "\n",
       "    .dataframe thead th {\n",
       "        text-align: right;\n",
       "    }\n",
       "</style>\n",
       "<table border=\"1\" class=\"dataframe\">\n",
       "  <thead>\n",
       "    <tr style=\"text-align: right;\">\n",
       "      <th></th>\n",
       "      <th>Coolness_RHEED</th>\n",
       "      <th>R FWHM_RHEED</th>\n",
       "      <th>X FWHM_RHEED</th>\n",
       "      <th>Y FWHM_RHEED</th>\n",
       "      <th>Crystal Position</th>\n",
       "      <th>Displayed Rate</th>\n",
       "      <th>Filtered Rate</th>\n",
       "      <th>Length</th>\n",
       "      <th>Raw Rate</th>\n",
       "      <th>Source Power</th>\n",
       "      <th>Time</th>\n",
       "    </tr>\n",
       "  </thead>\n",
       "  <tbody>\n",
       "    <tr>\n",
       "      <th>0</th>\n",
       "      <td>0.0</td>\n",
       "      <td>0.0</td>\n",
       "      <td>0.0</td>\n",
       "      <td>0.0</td>\n",
       "      <td>1.0</td>\n",
       "      <td>6.027</td>\n",
       "      <td>6.000</td>\n",
       "      <td>0.003721</td>\n",
       "      <td>5.990</td>\n",
       "      <td>21.64</td>\n",
       "      <td>2021-02-23 02:21:05</td>\n",
       "    </tr>\n",
       "    <tr>\n",
       "      <th>1</th>\n",
       "      <td>0.0</td>\n",
       "      <td>0.0</td>\n",
       "      <td>0.0</td>\n",
       "      <td>0.0</td>\n",
       "      <td>1.0</td>\n",
       "      <td>6.070</td>\n",
       "      <td>6.094</td>\n",
       "      <td>0.028870</td>\n",
       "      <td>6.110</td>\n",
       "      <td>21.06</td>\n",
       "      <td>2021-02-23 02:21:06</td>\n",
       "    </tr>\n",
       "    <tr>\n",
       "      <th>2</th>\n",
       "      <td>0.0</td>\n",
       "      <td>0.0</td>\n",
       "      <td>0.0</td>\n",
       "      <td>0.0</td>\n",
       "      <td>1.0</td>\n",
       "      <td>6.156</td>\n",
       "      <td>6.082</td>\n",
       "      <td>0.040400</td>\n",
       "      <td>6.168</td>\n",
       "      <td>20.97</td>\n",
       "      <td>2021-02-23 02:21:07</td>\n",
       "    </tr>\n",
       "    <tr>\n",
       "      <th>3</th>\n",
       "      <td>0.0</td>\n",
       "      <td>0.0</td>\n",
       "      <td>0.0</td>\n",
       "      <td>0.0</td>\n",
       "      <td>1.0</td>\n",
       "      <td>6.110</td>\n",
       "      <td>6.168</td>\n",
       "      <td>0.067750</td>\n",
       "      <td>6.156</td>\n",
       "      <td>20.70</td>\n",
       "      <td>2021-02-23 02:21:08</td>\n",
       "    </tr>\n",
       "    <tr>\n",
       "      <th>4</th>\n",
       "      <td>0.0</td>\n",
       "      <td>0.0</td>\n",
       "      <td>0.0</td>\n",
       "      <td>0.0</td>\n",
       "      <td>1.0</td>\n",
       "      <td>6.094</td>\n",
       "      <td>6.168</td>\n",
       "      <td>0.083560</td>\n",
       "      <td>6.145</td>\n",
       "      <td>20.60</td>\n",
       "      <td>2021-02-23 02:21:09</td>\n",
       "    </tr>\n",
       "  </tbody>\n",
       "</table>\n",
       "</div>"
      ],
      "text/plain": [
       "   Coolness_RHEED  R FWHM_RHEED  X FWHM_RHEED  Y FWHM_RHEED  Crystal Position  \\\n",
       "0             0.0           0.0           0.0           0.0               1.0   \n",
       "1             0.0           0.0           0.0           0.0               1.0   \n",
       "2             0.0           0.0           0.0           0.0               1.0   \n",
       "3             0.0           0.0           0.0           0.0               1.0   \n",
       "4             0.0           0.0           0.0           0.0               1.0   \n",
       "\n",
       "   Displayed Rate  Filtered Rate    Length  Raw Rate  Source Power  \\\n",
       "0           6.027          6.000  0.003721     5.990         21.64   \n",
       "1           6.070          6.094  0.028870     6.110         21.06   \n",
       "2           6.156          6.082  0.040400     6.168         20.97   \n",
       "3           6.110          6.168  0.067750     6.156         20.70   \n",
       "4           6.094          6.168  0.083560     6.145         20.60   \n",
       "\n",
       "                  Time  \n",
       "0  2021-02-23 02:21:05  \n",
       "1  2021-02-23 02:21:06  \n",
       "2  2021-02-23 02:21:07  \n",
       "3  2021-02-23 02:21:08  \n",
       "4  2021-02-23 02:21:09  "
      ]
     },
     "execution_count": 3,
     "metadata": {},
     "output_type": "execute_result"
    }
   ],
   "source": [
    "train = pd.read_csv(\"../data/onti_p.csv\")\n",
    "train.head()"
   ]
  },
  {
   "cell_type": "code",
   "execution_count": 4,
   "metadata": {},
   "outputs": [],
   "source": [
    "#важные колонки для использования\n",
    "val_col = ['Coolness_RHEED',  'R FWHM_RHEED',  'X FWHM_RHEED', 'Y FWHM_RHEED',\n",
    "        'Filtered Rate', 'Displayed Rate', 'Raw Rate',\n",
    "       'Source Power', 'Crystal Position']\n"
   ]
  },
  {
   "cell_type": "code",
   "execution_count": 5,
   "metadata": {},
   "outputs": [],
   "source": [
    "#создаем датасет разными аггрегационными функциями\n",
    "def generated_dataset(series, wind_size=5):\n",
    "    result = series.rolling(wind_size).agg(['mean', 'std', 'var'])\n",
    "    delta = series - series.shift(wind_size)\n",
    "    delta.columns = [col+'_'+str(wind_size) for col in delta.columns]\n",
    "    result.columns = [col[0]+'_'+col[1]+'_'+str(wind_size) for col in result.columns]\n",
    "    result = result.join(delta)\n",
    "    return result"
   ]
  },
  {
   "cell_type": "code",
   "execution_count": 6,
   "metadata": {},
   "outputs": [
    {
     "data": {
      "text/plain": [
       "((2363772, 36),\n",
       " Index(['Coolness_RHEED_mean_5', 'Coolness_RHEED_std_5', 'Coolness_RHEED_var_5',\n",
       "        'R FWHM_RHEED_mean_5', 'R FWHM_RHEED_std_5', 'R FWHM_RHEED_var_5',\n",
       "        'X FWHM_RHEED_mean_5', 'X FWHM_RHEED_std_5', 'X FWHM_RHEED_var_5',\n",
       "        'Y FWHM_RHEED_mean_5', 'Y FWHM_RHEED_std_5', 'Y FWHM_RHEED_var_5',\n",
       "        'Filtered Rate_mean_5', 'Filtered Rate_std_5', 'Filtered Rate_var_5',\n",
       "        'Displayed Rate_mean_5', 'Displayed Rate_std_5', 'Displayed Rate_var_5',\n",
       "        'Raw Rate_mean_5', 'Raw Rate_std_5', 'Raw Rate_var_5',\n",
       "        'Source Power_mean_5', 'Source Power_std_5', 'Source Power_var_5',\n",
       "        'Crystal Position_mean_5', 'Crystal Position_std_5',\n",
       "        'Crystal Position_var_5', 'Coolness_RHEED_5', 'R FWHM_RHEED_5',\n",
       "        'X FWHM_RHEED_5', 'Y FWHM_RHEED_5', 'Filtered Rate_5',\n",
       "        'Displayed Rate_5', 'Raw Rate_5', 'Source Power_5',\n",
       "        'Crystal Position_5'],\n",
       "       dtype='object'))"
      ]
     },
     "execution_count": 6,
     "metadata": {},
     "output_type": "execute_result"
    }
   ],
   "source": [
    "df_X = generated_dataset(train[val_col])\n",
    "df_X.shape, df_X.columns"
   ]
  },
  {
   "cell_type": "code",
   "execution_count": 7,
   "metadata": {},
   "outputs": [
    {
     "data": {
      "text/plain": [
       "(2363772, 72)"
      ]
     },
     "execution_count": 7,
     "metadata": {},
     "output_type": "execute_result"
    }
   ],
   "source": [
    "df_X = df_X.join(generated_dataset(train[val_col],wind_size=50))\n",
    "df_X.shape"
   ]
  },
  {
   "cell_type": "code",
   "execution_count": 8,
   "metadata": {},
   "outputs": [
    {
     "data": {
      "text/plain": [
       "(2363772, 108)"
      ]
     },
     "execution_count": 8,
     "metadata": {},
     "output_type": "execute_result"
    }
   ],
   "source": [
    "df_X = df_X.join(generated_dataset(train[val_col],wind_size=500))\n",
    "df_X.shape"
   ]
  },
  {
   "cell_type": "code",
   "execution_count": 9,
   "metadata": {},
   "outputs": [
    {
     "data": {
      "text/plain": [
       "(2363772, 144)"
      ]
     },
     "execution_count": 9,
     "metadata": {},
     "output_type": "execute_result"
    }
   ],
   "source": [
    "df_X = df_X.join(generated_dataset(train[val_col],wind_size=1500))\n",
    "df_X.shape"
   ]
  },
  {
   "cell_type": "code",
   "execution_count": 10,
   "metadata": {},
   "outputs": [
    {
     "data": {
      "text/plain": [
       "(2363772, 144)"
      ]
     },
     "execution_count": 10,
     "metadata": {},
     "output_type": "execute_result"
    }
   ],
   "source": [
    "mask_base = df_X.isna().sum(axis=1)==0\n",
    "df_X.shape"
   ]
  },
  {
   "cell_type": "code",
   "execution_count": 11,
   "metadata": {},
   "outputs": [
    {
     "data": {
      "text/plain": [
       "2287456"
      ]
     },
     "execution_count": 11,
     "metadata": {},
     "output_type": "execute_result"
    }
   ],
   "source": [
    "mask_base.sum()"
   ]
  },
  {
   "cell_type": "code",
   "execution_count": null,
   "metadata": {},
   "outputs": [],
   "source": [
    "wind_size = 435\n",
    "\n",
    "df = df_X[wind_size:-wind_size]\n",
    "#y = (rheed_long.Coolness < rheed_long.Coolness.shift(wind_size) )\n",
    "#y = y[wind_size:-wind_size]\n",
    "cool_col = 'Coolness_RHEED_mean_50'\n",
    "y = (abs((df[cool_col].shift(wind_size) -  df[cool_col]))>5)\n",
    "\n",
    "\n",
    "mask = mask_base #&(y>30)\n",
    "df = df[mask]\n",
    "y = y[mask]\n",
    "categorical_features_indices = np.where(df.dtypes != np.float)[0]\n",
    "X_train, X_test, y_train, y_test = train_test_split(df, y, test_size=0.10, shuffle=False)"
   ]
  },
  {
   "cell_type": "code",
   "execution_count": null,
   "metadata": {},
   "outputs": [],
   "source": [
    "import hyperopt\n",
    "\n",
    "def hyperopt_objective(params):\n",
    "    model = CatBoostClassifier(\n",
    "        l2_leaf_reg=int(params['l2_leaf_reg']),\n",
    "        learning_rate=params['learning_rate'],\n",
    "        iterations=10,\n",
    "        eval_metric='AUC',\n",
    "        random_seed=42,\n",
    "        verbose=False,\n",
    "        loss_function='Logloss',\n",
    "    )\n",
    "    \n",
    "    cv_data = cv(\n",
    "        Pool(X_train, y_train, cat_features=categorical_features_indices),\n",
    "        model.get_params()\n",
    "    )\n",
    "    best_accuracy = np.max(cv_data['test-AUC-mean'])\n",
    "    \n",
    "    return 1 - best_accuracy # as hyperopt minimises"
   ]
  },
  {
   "cell_type": "code",
   "execution_count": null,
   "metadata": {},
   "outputs": [],
   "source": [
    "from numpy.random import RandomState\n",
    "\n",
    "params_space = {\n",
    "    'l2_leaf_reg': hyperopt.hp.qloguniform('l2_leaf_reg', 0, 2, 1),\n",
    "    'learning_rate': hyperopt.hp.uniform('learning_rate', 1e-3, 5e-1),\n",
    "    'colsample_bylevel': hyperopt.hp.uniform('colsample_bylevel', 0.5, 1.0),\n",
    "    'bagging_temperature': hyperopt.hp.uniform('bagging_temperature', 0.0, 100),\n",
    "    'random_strength': hyperopt.hp.uniform('random_strength', 0.0, 100),\n",
    "    'n_estimators': hyperopt.hp.choice('n_estimators', np.arange(50, 250, 25)),\n",
    "    'max_depth': hyperopt.hp.choice('max_depth', np.arange(5, 11)),\n",
    "    'reg_lambda': hyperopt.hp.uniform('reg_lambda', 1, 10),\n",
    "    'scale_pos_weight': hyperopt.hp.uniform('scale_pos_weight', 1, 50)\n",
    "}\n",
    "\n",
    "trials = hyperopt.Trials()\n",
    "\n",
    "best = hyperopt.fmin(\n",
    "    hyperopt_objective,\n",
    "    space=params_space,\n",
    "    algo=hyperopt.tpe.suggest,\n",
    "    max_evals=1500,\n",
    "    trials=trials,\n",
    "    rstate=RandomState(42)\n",
    ")\n",
    "\n",
    "print(best)"
   ]
  },
  {
   "cell_type": "code",
   "execution_count": null,
   "metadata": {},
   "outputs": [],
   "source": [
    "model = CatBoostClassifier(\n",
    "#     l2_leaf_reg=int(best['l2_leaf_reg']),\n",
    "#     learning_rate=best['learning_rate'],\n",
    "    iterations=15000,\n",
    "    eval_metric='AUC',\n",
    "    random_seed=42,\n",
    "    verbose=True,\n",
    "    loss_function='Logloss',\n",
    "    od_type='Iter',\n",
    "    od_wait=150\n",
    ")\n",
    "\n",
    "train_pool = Pool(X_train, y_train, cat_features=categorical_features_indices)\n",
    "validate_pool = Pool(X_test, y_test, cat_features=categorical_features_indices)\n",
    "\n",
    "model.fit(train_pool, eval_set=validate_pool)"
   ]
  },
  {
   "cell_type": "code",
   "execution_count": null,
   "metadata": {},
   "outputs": [],
   "source": [
    "import pickle\n",
    "with open(\"../saves/catboost3.pkl\",\"wb\") as f:\n",
    "    pickle.dump(model, f)"
   ]
  },
  {
   "cell_type": "code",
   "execution_count": null,
   "metadata": {
    "tags": []
   },
   "outputs": [],
   "source": [
    "fpr, tpr, _ = sklearn.metrics.roc_curve(y_test, model.predict_proba(X_test)[:,1])\n",
    "roc_auc = sklearn.metrics.roc_auc_score(y_test, model.predict_proba(X_test)[:,1])\n",
    "plt.figure()\n",
    "lw = 2\n",
    "plt.plot(fpr, tpr,color='darkorange', lw=lw, label='ROC curve (area = %0.2f)' % roc_auc)\n",
    "plt.plot([0, 1], [0, 1], color='navy', lw=lw, linestyle='--')\n",
    "plt.xlim([0.0, 1.0])\n",
    "plt.ylim([0.0, 1.05])\n",
    "plt.xlabel('False Positive Rate')\n",
    "plt.ylabel('True Positive Rate')\n",
    "plt.title('Receiver operating characteristic example')\n",
    "plt.legend(loc=\"lower right\")\n",
    "plt.show()"
   ]
  },
  {
   "cell_type": "code",
   "execution_count": null,
   "metadata": {},
   "outputs": [],
   "source": [
    "roc_auc"
   ]
  },
  {
   "cell_type": "code",
   "execution_count": null,
   "metadata": {},
   "outputs": [],
   "source": []
  }
 ],
 "metadata": {
  "kernelspec": {
   "display_name": "Python 3",
   "language": "python",
   "name": "python3"
  },
  "language_info": {
   "codemirror_mode": {
    "name": "ipython",
    "version": 3
   },
   "file_extension": ".py",
   "mimetype": "text/x-python",
   "name": "python",
   "nbconvert_exporter": "python",
   "pygments_lexer": "ipython3",
   "version": "3.7.9"
  }
 },
 "nbformat": 4,
 "nbformat_minor": 4
}
