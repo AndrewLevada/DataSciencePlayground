{
 "cells": [
  {
   "cell_type": "code",
   "execution_count": 21,
   "metadata": {},
   "outputs": [],
   "source": [
    "import pandas as pd\n",
    "import os\n",
    "import numpy as np\n",
    "import pandas as pd\n",
    "import sklearn\n",
    "import swifter\n",
    "import numpy as np\n",
    "import lightgbm\n",
    "from sklearn.model_selection import train_test_split\n",
    "import joblib\n",
    "import scipy as sp\n",
    "from sklearn.feature_extraction.text import TfidfVectorizer\n",
    "from sklearn.preprocessing import OneHotEncoder, LabelEncoder\n",
    "\n",
    "from sklearn.linear_model import LogisticRegression, Ridge, RidgeClassifier\n",
    "\n",
    "from sklearn.metrics import accuracy_score\n",
    "from sklearn.preprocessing import StandardScaler\n",
    "import matplotlib.pyplot as plt\n"
   ]
  },
  {
   "cell_type": "code",
   "execution_count": 22,
   "metadata": {},
   "outputs": [],
   "source": [
    "from catboost import CatBoostClassifier, Pool, cv\n",
    "from sklearn.metrics import accuracy_score"
   ]
  },
  {
   "cell_type": "code",
   "execution_count": 23,
   "metadata": {},
   "outputs": [],
   "source": [
    "rheed_long = pd.read_csv(\"../data/onti_p.csv\")"
   ]
  },
  {
   "cell_type": "code",
   "execution_count": 24,
   "metadata": {},
   "outputs": [
    {
     "name": "stdout",
     "output_type": "stream",
     "text": [
      "(2363772, 18)\n"
     ]
    },
    {
     "data": {
      "text/html": [
       "<div>\n",
       "<style scoped>\n",
       "    .dataframe tbody tr th:only-of-type {\n",
       "        vertical-align: middle;\n",
       "    }\n",
       "\n",
       "    .dataframe tbody tr th {\n",
       "        vertical-align: top;\n",
       "    }\n",
       "\n",
       "    .dataframe thead th {\n",
       "        text-align: right;\n",
       "    }\n",
       "</style>\n",
       "<table border=\"1\" class=\"dataframe\">\n",
       "  <thead>\n",
       "    <tr style=\"text-align: right;\">\n",
       "      <th></th>\n",
       "      <th>Unnamed: 0</th>\n",
       "      <th>Unnamed: 0.1</th>\n",
       "      <th>Coolness_RHEED</th>\n",
       "      <th>Length_RHEED</th>\n",
       "      <th>R FWHM_RHEED</th>\n",
       "      <th>Speed_RHEED</th>\n",
       "      <th>Time_RHEED</th>\n",
       "      <th>X FWHM_RHEED</th>\n",
       "      <th>Y FWHM_RHEED</th>\n",
       "      <th>Crystal Position</th>\n",
       "      <th>Displayed Rate</th>\n",
       "      <th>Filtered Rate</th>\n",
       "      <th>Fundamental Freq</th>\n",
       "      <th>Length</th>\n",
       "      <th>Raw Rate</th>\n",
       "      <th>Source Power</th>\n",
       "      <th>Speed</th>\n",
       "      <th>Time</th>\n",
       "    </tr>\n",
       "  </thead>\n",
       "  <tbody>\n",
       "    <tr>\n",
       "      <th>0</th>\n",
       "      <td>0</td>\n",
       "      <td>0.0</td>\n",
       "      <td>0.0</td>\n",
       "      <td>0.003721</td>\n",
       "      <td>0.0</td>\n",
       "      <td>0.040601</td>\n",
       "      <td>2021-02-23 02:21:05</td>\n",
       "      <td>0.0</td>\n",
       "      <td>0.0</td>\n",
       "      <td>1.0</td>\n",
       "      <td>6.025618</td>\n",
       "      <td>5.999182</td>\n",
       "      <td>5.967367e+06</td>\n",
       "      <td>0.003721</td>\n",
       "      <td>5.987163</td>\n",
       "      <td>21.635099</td>\n",
       "      <td>NaN</td>\n",
       "      <td>2021-02-23 02:21:05</td>\n",
       "    </tr>\n",
       "  </tbody>\n",
       "</table>\n",
       "</div>"
      ],
      "text/plain": [
       "   Unnamed: 0  Unnamed: 0.1  Coolness_RHEED  Length_RHEED  R FWHM_RHEED  \\\n",
       "0           0           0.0             0.0      0.003721           0.0   \n",
       "\n",
       "   Speed_RHEED           Time_RHEED  X FWHM_RHEED  Y FWHM_RHEED  \\\n",
       "0     0.040601  2021-02-23 02:21:05           0.0           0.0   \n",
       "\n",
       "   Crystal Position  Displayed Rate  Filtered Rate  Fundamental Freq  \\\n",
       "0               1.0        6.025618       5.999182      5.967367e+06   \n",
       "\n",
       "     Length  Raw Rate  Source Power  Speed                 Time  \n",
       "0  0.003721  5.987163     21.635099    NaN  2021-02-23 02:21:05  "
      ]
     },
     "execution_count": 24,
     "metadata": {},
     "output_type": "execute_result"
    }
   ],
   "source": [
    "#проверка на корректную склейку\n",
    "print(rheed_long.shape)\n",
    "rheed_long[:1]"
   ]
  },
  {
   "cell_type": "code",
   "execution_count": 25,
   "metadata": {},
   "outputs": [
    {
     "data": {
      "text/plain": [
       "(2363772, 18)"
      ]
     },
     "execution_count": 25,
     "metadata": {},
     "output_type": "execute_result"
    }
   ],
   "source": [
    "#rheed_long = df_comma_to_float(rheed_long)\n",
    "rheed_long.shape"
   ]
  },
  {
   "cell_type": "code",
   "execution_count": 26,
   "metadata": {},
   "outputs": [],
   "source": [
    "#важные колонки для использования\n",
    "val_col = ['Coolness_RHEED',  'R FWHM_RHEED',  'X FWHM_RHEED', 'Y FWHM_RHEED',\n",
    "        'Filtered Rate', 'Displayed Rate', 'Raw Rate',\n",
    "       'Source Power', 'Crystal Position']\n"
   ]
  },
  {
   "cell_type": "code",
   "execution_count": 27,
   "metadata": {},
   "outputs": [],
   "source": [
    "#создаем датасет разными аггрегационными функциями\n",
    "def generated_dataset(series, wind_size=5):\n",
    "    result = series.rolling(wind_size).agg([\"mean\", \"std\", \"var\"])\n",
    "    print(result.shape) \n",
    "    delta = series - series.shift(wind_size)\n",
    "    print(delta.shape)\n",
    "    result = result.join(delta)\n",
    "    result.rename(columns={c:str(c)+\"_\"+str(wind_size) for c in result.columns}, inplace=True)\n",
    "\n",
    "    print(result.shape)\n",
    "\n",
    "    return result"
   ]
  },
  {
   "cell_type": "code",
   "execution_count": 28,
   "metadata": {},
   "outputs": [
    {
     "name": "stdout",
     "output_type": "stream",
     "text": [
      "(2363772, 27)\n",
      "(2363772, 9)\n"
     ]
    },
    {
     "name": "stderr",
     "output_type": "stream",
     "text": [
      "/home/ec2-user/anaconda3/lib/python3.7/site-packages/pandas/core/reshape/merge.py:648: UserWarning: merging between different levels can give an unintended result (2 levels on the left,1 on the right)\n",
      "  warnings.warn(msg, UserWarning)\n"
     ]
    },
    {
     "name": "stdout",
     "output_type": "stream",
     "text": [
      "(2363772, 36)\n"
     ]
    },
    {
     "data": {
      "text/plain": [
       "((2363772, 36),\n",
       " Index(['('Coolness_RHEED', 'mean')_5', '('Coolness_RHEED', 'std')_5',\n",
       "        '('Coolness_RHEED', 'var')_5', '('R FWHM_RHEED', 'mean')_5',\n",
       "        '('R FWHM_RHEED', 'std')_5', '('R FWHM_RHEED', 'var')_5',\n",
       "        '('X FWHM_RHEED', 'mean')_5', '('X FWHM_RHEED', 'std')_5',\n",
       "        '('X FWHM_RHEED', 'var')_5', '('Y FWHM_RHEED', 'mean')_5',\n",
       "        '('Y FWHM_RHEED', 'std')_5', '('Y FWHM_RHEED', 'var')_5',\n",
       "        '('Filtered Rate', 'mean')_5', '('Filtered Rate', 'std')_5',\n",
       "        '('Filtered Rate', 'var')_5', '('Displayed Rate', 'mean')_5',\n",
       "        '('Displayed Rate', 'std')_5', '('Displayed Rate', 'var')_5',\n",
       "        '('Raw Rate', 'mean')_5', '('Raw Rate', 'std')_5',\n",
       "        '('Raw Rate', 'var')_5', '('Source Power', 'mean')_5',\n",
       "        '('Source Power', 'std')_5', '('Source Power', 'var')_5',\n",
       "        '('Crystal Position', 'mean')_5', '('Crystal Position', 'std')_5',\n",
       "        '('Crystal Position', 'var')_5', 'Coolness_RHEED_5', 'R FWHM_RHEED_5',\n",
       "        'X FWHM_RHEED_5', 'Y FWHM_RHEED_5', 'Filtered Rate_5',\n",
       "        'Displayed Rate_5', 'Raw Rate_5', 'Source Power_5',\n",
       "        'Crystal Position_5'],\n",
       "       dtype='object'))"
      ]
     },
     "execution_count": 28,
     "metadata": {},
     "output_type": "execute_result"
    }
   ],
   "source": [
    "df_X = generated_dataset(rheed_long[val_col])\n",
    "df_X.shape, df_X.columns"
   ]
  },
  {
   "cell_type": "code",
   "execution_count": 29,
   "metadata": {},
   "outputs": [
    {
     "name": "stdout",
     "output_type": "stream",
     "text": [
      "(2363772, 27)\n",
      "(2363772, 9)\n",
      "(2363772, 36)\n"
     ]
    },
    {
     "data": {
      "text/plain": [
       "(2363772, 72)"
      ]
     },
     "execution_count": 29,
     "metadata": {},
     "output_type": "execute_result"
    }
   ],
   "source": [
    "df_X = df_X.join(generated_dataset(rheed_long[val_col],wind_size=50))#,rsuffix=\"_100_\")\n",
    "df_X.shape"
   ]
  },
  {
   "cell_type": "code",
   "execution_count": 30,
   "metadata": {},
   "outputs": [
    {
     "name": "stdout",
     "output_type": "stream",
     "text": [
      "(2363772, 27)\n",
      "(2363772, 9)\n",
      "(2363772, 36)\n"
     ]
    },
    {
     "data": {
      "text/plain": [
       "(2363772, 108)"
      ]
     },
     "execution_count": 30,
     "metadata": {},
     "output_type": "execute_result"
    }
   ],
   "source": [
    "df_X = df_X.join(generated_dataset(rheed_long[val_col],wind_size=500))#,rsuffix=\"_500_\")\n",
    "df_X.shape"
   ]
  },
  {
   "cell_type": "code",
   "execution_count": 31,
   "metadata": {},
   "outputs": [
    {
     "name": "stdout",
     "output_type": "stream",
     "text": [
      "(2363772, 27)\n",
      "(2363772, 9)\n",
      "(2363772, 36)\n"
     ]
    },
    {
     "data": {
      "text/plain": [
       "(2363772, 144)"
      ]
     },
     "execution_count": 31,
     "metadata": {},
     "output_type": "execute_result"
    }
   ],
   "source": [
    "df_X = df_X.join(generated_dataset(rheed_long[val_col],wind_size=1500))#,rsuffix=\"_1500_\")\n",
    "df_X.shape"
   ]
  },
  {
   "cell_type": "code",
   "execution_count": 32,
   "metadata": {},
   "outputs": [
    {
     "data": {
      "text/plain": [
       "(2363772, 144)"
      ]
     },
     "execution_count": 32,
     "metadata": {},
     "output_type": "execute_result"
    }
   ],
   "source": [
    "mask_base = df_X.isna().sum(axis=1)==0\n",
    "#df_X.fill(inplace=True)\n",
    "df_X.shape"
   ]
  },
  {
   "cell_type": "code",
   "execution_count": 33,
   "metadata": {},
   "outputs": [
    {
     "data": {
      "text/plain": [
       "(RangeIndex(start=435, stop=2363337, step=1),\n",
       " Int64Index([    435,     436,     437,     438,     439,     440,     441,\n",
       "                 442,     443,     444,\n",
       "             ...\n",
       "             2363327, 2363328, 2363329, 2363330, 2363331, 2363332, 2363333,\n",
       "             2363334, 2363335, 2363336],\n",
       "            dtype='int64', length=2362902))"
      ]
     },
     "execution_count": 33,
     "metadata": {},
     "output_type": "execute_result"
    }
   ],
   "source": [
    "import random\n",
    "from sklearn.svm import LinearSVC, SVC\n",
    "from sklearn.pipeline import make_pipeline\n",
    "from sklearn.preprocessing import StandardScaler\n",
    "wind_size = 435\n",
    "\n",
    "df = df_X[wind_size:-wind_size]\n",
    "\n",
    "cool_col = '(\\'Coolness_RHEED\\', \\'mean\\')_50'\n",
    "y2 = pd.Series((abs(rheed_long['Coolness_RHEED'] - df[cool_col].shift(-wind_size))>5)[435:2363337])\n",
    "y = ((df[cool_col] - df[cool_col].shift(-wind_size))>5)\n",
    "y.index, y2.index"
   ]
  },
  {
   "cell_type": "code",
   "execution_count": 34,
   "metadata": {},
   "outputs": [
    {
     "name": "stderr",
     "output_type": "stream",
     "text": [
      "/home/ec2-user/anaconda3/lib/python3.7/site-packages/ipykernel_launcher.py:7: UserWarning: Boolean Series key will be reindexed to match DataFrame index.\n",
      "  import sys\n",
      "/home/ec2-user/anaconda3/lib/python3.7/site-packages/ipykernel_launcher.py:9: DeprecationWarning: `np.float` is a deprecated alias for the builtin `float`. To silence this warning, use `float` by itself. Doing this will not modify any behavior and is safe. If you specifically wanted the numpy scalar type, use `np.float64` here.\n",
      "Deprecated in NumPy 1.20; for more details and guidance: https://numpy.org/devdocs/release/1.20.0-notes.html#deprecations\n",
      "  if __name__ == '__main__':\n"
     ]
    }
   ],
   "source": [
    "index_list = random.sample([ i for i in y[(y==1)].index.tolist() if i > 10001],18000)\n",
    "\n",
    "index_list+=random.sample([ i for i in y[(y==0)].index.tolist() if i > 10001],25000)\n",
    "df = df.loc[index_list]\n",
    "y = y.loc[index_list]\n",
    "mask = mask_base #&(y>30)\n",
    "df = df[mask]\n",
    "y=y[mask]\n",
    "categorical_features_indices = np.where(df.dtypes != np.float)[0]\n",
    "X_train, X_test, y_train, y_test = train_test_split(df, y, test_size=0.0005, shuffle=False)\n",
    "#X_train = df\n",
    "#y_train = y"
   ]
  },
  {
   "cell_type": "code",
   "execution_count": 35,
   "metadata": {},
   "outputs": [],
   "source": [
    "import hyperopt\n",
    "\n",
    "def hyperopt_objective(params):\n",
    "    model = CatBoostClassifier(\n",
    "#        l2_leaf_reg=int(params['l2_leaf_reg']),\n",
    "        learning_rate=params['learning_rate'],\n",
    "        iterations=13,\n",
    "        eval_metric='AUC',\n",
    "        random_seed=42,\n",
    "        verbose=False,\n",
    "        loss_function='Logloss',\n",
    "    )\n",
    "    \n",
    "    cv_data = cv(\n",
    "        Pool(X_train, y_train, cat_features=categorical_features_indices),\n",
    "        model.get_params()\n",
    "    )\n",
    "    best_accuracy = np.max(cv_data['test-AUC-mean'])\n",
    "    \n",
    "    return 1 - best_accuracy # as hyperopt minimises"
   ]
  },
  {
   "cell_type": "code",
   "execution_count": null,
   "metadata": {},
   "outputs": [
    {
     "name": "stdout",
     "output_type": "stream",
     "text": [
      " 25%|██▌       | 125/500 [04:01<15:25,  2.47s/trial, best loss: 0.07854494621933972]"
     ]
    }
   ],
   "source": [
    "from numpy.random import RandomState\n",
    "\n",
    "params_space = {\n",
    "#    'l2_leaf_reg': hyperopt.hp.qloguniform('l2_leaf_reg', 0, 2, 1),\n",
    "    'learning_rate': hyperopt.hp.uniform('learning_rate', 1e-4, 1e-1)\n",
    "#     'colsample_bylevel': hyperopt.hp.uniform('colsample_bylevel', 0.5, 1.0),\n",
    "#     'bagging_temperature': hyperopt.hp.uniform('bagging_temperature', 0.0, 100),\n",
    "#     'random_strength': hyperopt.hp.uniform('random_strength', 0.0, 100),\n",
    "#     'n_estimators': hyperopt.hp.choice('n_estimators', np.arange(50, 250, 25)),\n",
    "#     'max_depth': hyperopt.hp.choice('max_depth', np.arange(5, 11)),\n",
    "#     'reg_lambda': hyperopt.hp.uniform('reg_lambda', 1, 10),\n",
    "#     'scale_pos_weight': hyperopt.hp.uniform('scale_pos_weight', 1, 50)\n",
    "}\n",
    "\n",
    "trials = hyperopt.Trials()\n",
    "\n",
    "best = hyperopt.fmin(\n",
    "    hyperopt_objective,\n",
    "    space=params_space,\n",
    "    algo=hyperopt.tpe.suggest,\n",
    "    max_evals=500,\n",
    "    trials=trials,\n",
    "    rstate=RandomState(123)\n",
    ")\n",
    "\n",
    "print(best)"
   ]
  },
  {
   "cell_type": "code",
   "execution_count": null,
   "metadata": {},
   "outputs": [],
   "source": [
    "model = CatBoostClassifier(\n",
    "    #l2_leaf_reg=int(best['l2_leaf_reg']),\n",
    "    learning_rate=best['learning_rate'],\n",
    "    iterations=250,\n",
    "    eval_metric='AUC',\n",
    "    random_seed=42,\n",
    "    verbose=True,\n",
    "    loss_function='Logloss',\n",
    "    #od_type='Iter',\n",
    "    #od_wait=250\n",
    ")\n",
    "# Learning rate 0.035394\n",
    "\n",
    "# cv_params = model.get_params()\n",
    "# cv_data = cv(\n",
    "#     Pool(df, y, cat_features=categorical_features_indices),\n",
    "#     cv_params,\n",
    "#     plot=True,\n",
    "#     seed=42\n",
    "# )\n",
    "\n",
    "# cv_data"
   ]
  },
  {
   "cell_type": "code",
   "execution_count": null,
   "metadata": {},
   "outputs": [],
   "source": [
    "# print('Best validation AUC score: {:.2f}±{:.2f} on step {}'.format(\n",
    "#     np.max(cv_data['test-AUC-mean']),\n",
    "#     cv_data['test-AUC-std'][np.argmax(cv_data['test-AUC-mean'])],\n",
    "#     np.argmax(cv_data['test-AUC-mean'])\n",
    "# ))"
   ]
  },
  {
   "cell_type": "code",
   "execution_count": null,
   "metadata": {},
   "outputs": [],
   "source": [
    "train_pool = Pool(X_train, y_train, cat_features=categorical_features_indices)\n",
    "#validate_pool = Pool(X_test, y_test, cat_features=categorical_features_indices)\n",
    "\n",
    "model.fit(train_pool)#, eval_set=validate_pool)"
   ]
  },
  {
   "cell_type": "code",
   "execution_count": null,
   "metadata": {},
   "outputs": [],
   "source": [
    "fpr, tpr, _ = sklearn.metrics.roc_curve(y_test, model.predict_proba(X_test[model_cols])[:,1])\n",
    "roc_auc = sklearn.metrics.roc_auc_score(y_test, model.predict_proba(X_test[model_cols])[:,1])\n",
    "plt.figure()\n",
    "lw = 2\n",
    "plt.plot(fpr, tpr,color='darkorange', lw=lw, label='ROC curve (area = %0.2f)' % roc_auc)\n",
    "plt.plot([0, 1], [0, 1], color='navy', lw=lw, linestyle='--')\n",
    "plt.xlim([0.0, 1.0])\n",
    "plt.ylim([0.0, 1.05])\n",
    "plt.xlabel('False Positive Rate')\n",
    "plt.ylabel('True Positive Rate')\n",
    "plt.legend(loc=\"lower right\")\n",
    "plt.show()"
   ]
  },
  {
   "cell_type": "code",
   "execution_count": null,
   "metadata": {},
   "outputs": [],
   "source": [
    "roc_auc"
   ]
  },
  {
   "cell_type": "code",
   "execution_count": null,
   "metadata": {},
   "outputs": [],
   "source": [
    "import pickle\n",
    "with open(\"../saves/catboost/catboostn_1.pkl\",\"wb\") as f:\n",
    "    pickle.dump(model, f)"
   ]
  },
  {
   "cell_type": "code",
   "execution_count": null,
   "metadata": {},
   "outputs": [],
   "source": []
  },
  {
   "cell_type": "code",
   "execution_count": null,
   "metadata": {},
   "outputs": [],
   "source": []
  },
  {
   "cell_type": "code",
   "execution_count": null,
   "metadata": {},
   "outputs": [],
   "source": []
  }
 ],
 "metadata": {
  "kernelspec": {
   "display_name": "Python 3",
   "language": "python",
   "name": "python3"
  },
  "language_info": {
   "codemirror_mode": {
    "name": "ipython",
    "version": 3
   },
   "file_extension": ".py",
   "mimetype": "text/x-python",
   "name": "python",
   "nbconvert_exporter": "python",
   "pygments_lexer": "ipython3",
   "version": "3.7.9"
  }
 },
 "nbformat": 4,
 "nbformat_minor": 4
}
