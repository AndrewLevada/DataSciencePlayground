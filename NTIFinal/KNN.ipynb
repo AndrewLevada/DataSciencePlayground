{
 "cells": [
  {
   "cell_type": "code",
   "execution_count": null,
   "metadata": {},
   "outputs": [],
   "source": [
    "import pandas as pd\n",
    "import random\n",
    "from sklearn.metrics import roc_auc_score, roc_curve"
   ]
  },
  {
   "cell_type": "code",
   "execution_count": null,
   "metadata": {},
   "outputs": [],
   "source": [
    "from sklearn.pipeline import Pipeline\n",
    "data = pd.read_csv('../data/onti_c.csv')\n",
    "data.drop(['Time', 'Crystal Position'], axis=1, inplace=True)\n",
    "# data.drop(['R FWHM_RHEED', 'X FWHM_RHEED', 'Y FWHM_RHEED'], axis=1, inplace=True)\n",
    "data.tail()"
   ]
  },
  {
   "cell_type": "code",
   "execution_count": null,
   "metadata": {},
   "outputs": [],
   "source": [
    "# data['Anomaly'] = data['Coolness_RHEED']\n",
    "# data['Anomaly'] = (data['Anomaly'] - data['Anomaly'].rolling(50).mean()).apply(lambda x: (1 if abs(x) >= 5 else 0))\n",
    "\n",
    "data['Anomaly'] = data['Coolness_RHEED'].rolling(50).mean()\n",
    "data['Anomaly'] = ((data['Anomaly']- data['Anomaly'].shift(-435)) > 5)\n",
    "\n",
    "temp = data[11000:len(data.index)-1000]\n",
    "anom_indexes = temp[temp['Anomaly'] == 1].index\n",
    "norm_indexes = temp[temp['Anomaly'] == 0].index"
   ]
  },
  {
   "cell_type": "code",
   "execution_count": null,
   "metadata": {},
   "outputs": [],
   "source": [
    "import sklearn\n",
    "import numpy as np\n",
    "\n",
    "num_data = len(data.index)\n",
    "\n",
    "train_split = 1\n",
    "num_train = int(train_split * num_data)\n",
    "num_test = num_data - num_train\n",
    "\n",
    "train = data.drop('Anomaly', axis=1).values[0:num_train]\n",
    "# test = data.drop('Anomaly', axis=1).values[num_train:]\n",
    "scaler = sklearn.preprocessing.StandardScaler()\n",
    "train = scaler.fit_transform(train)\n",
    "# test = scaler.transform(test)\n",
    "\n",
    "num_x_signals = train.shape[1]\n",
    "\n",
    "def get_data_entry(length=1000):\n",
    "    # Allocate a new array for the batch of input-signals.\n",
    "    x_shape = (length, 10000, num_x_signals)\n",
    "    x_batch = np.zeros(shape=x_shape, dtype=np.float32)\n",
    "\n",
    "    # Allocate a new array for the batch of output-signals.\n",
    "    y_shape = (length, 1, 1)\n",
    "    y_batch = np.zeros(shape=y_shape, dtype=np.float32)\n",
    "\n",
    "    # Fill the batch with random sequences of data.\n",
    "    for i in range(length):\n",
    "        # Get a random start-index.\n",
    "        # This points somewhere into the training-data.\n",
    "        idx = random.choice(anom_indexes) if i % 2 == 0 else random.choice(norm_indexes)\n",
    "            \n",
    "        # Copy the sequences of data starting at this index.\n",
    "        x_batch[i] = train[idx - 10000:idx]\n",
    "        y_mean = train[idx + 385:idx + 435][0].mean()\n",
    "#         y_batch[i] = [1 if (abs(train[idx + 435][0] - y_mean) >= 5) else 0]\n",
    "        y_batch[i] = [1 if i % 2 == 0 else 0]\n",
    "        \n",
    "    return (x_batch, y_batch)\n",
    "\n",
    "def batch_generator(batch_size):\n",
    "    while True:\n",
    "        yield get_data_entry(length=batch_size)\n",
    "        \n",
    "generator = batch_generator(2)\n"
   ]
  },
  {
   "cell_type": "code",
   "execution_count": null,
   "metadata": {},
   "outputs": [],
   "source": [
    "import joblib\n",
    "from sklearn.neighbors import KNeighborsClassifier\n",
    "from sklearn.model_selection import train_test_split\n",
    "from sklearn.model_selection import GridSearchCV\n",
    "\n",
    "k_range = list(range(1,27))\n",
    "\n",
    "param_grid = dict(n_neighbors = k_range)\n",
    "\n",
    "# tmp = get_data_entry(320)\n",
    "# x_train = tmp[0]\n",
    "# y_train = tmp[1][:, :, 0]\n",
    "\n",
    "x_train, x_test, y_train, y_test = train_test_split(data.drop('Anomaly', axis=1).values, data['Anomaly'].values, test_size=0.1, random_state=17)\n",
    "scaler = sklearn.preprocessing.StandardScaler()\n",
    "x_train = scaler.fit_transform(x_train)\n",
    "x_test = scaler.transform(x_test)\n",
    "\n",
    "# x_train = data.drop('Anomaly', axis=1).values\n",
    "# y_train = data['Anomaly'].values\n",
    "\n",
    "knn = KNeighborsClassifier()\n",
    "grid = GridSearchCV(knn, param_grid, cv = 2, scoring = 'roc_auc', verbose=3)\n",
    "grid.fit(x_train, y_train)\n",
    "\n",
    "pred = grid.best_estimator_.predict(x_test)\n",
    "roc_auc_score(y_test, pred)\n",
    "\n",
    "# pipeline = Pipeline([\n",
    "#     ('clf', knn)\n",
    "# ])\n",
    "\n",
    "joblib.dump(grid.best_estimator_, 'sub_knn/model.pkl', compress = 4)"
   ]
  }
 ],
 "metadata": {
  "kernelspec": {
   "display_name": "Python 3",
   "language": "python",
   "name": "python3"
  },
  "language_info": {
   "codemirror_mode": {
    "name": "ipython",
    "version": 3
   },
   "file_extension": ".py",
   "mimetype": "text/x-python",
   "name": "python",
   "nbconvert_exporter": "python",
   "pygments_lexer": "ipython3",
   "version": "3.7.9"
  }
 },
 "nbformat": 4,
 "nbformat_minor": 4
}