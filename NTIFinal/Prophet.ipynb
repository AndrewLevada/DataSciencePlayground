{
 "cells": [
  {
   "cell_type": "code",
   "execution_count": 2,
   "id": "intense-swing",
   "metadata": {},
   "outputs": [],
   "source": [
    "import numpy as np\n",
    "import pandas as pd\n",
    "import seaborn as sns\n",
    "import matplotlib.pyplot as plt\n",
    "from fbprophet import Prophet\n",
    "from datetime import datetime\n",
    "from sklearn.metrics import roc_auc_score\n",
    "plt.style.use('fivethirtyeight') # For plots"
   ]
  },
  {
   "cell_type": "code",
   "execution_count": 17,
   "id": "sunrise-kansas",
   "metadata": {},
   "outputs": [
    {
     "data": {
      "text/plain": [
       "0.0"
      ]
     },
     "execution_count": 17,
     "metadata": {},
     "output_type": "execute_result"
    }
   ],
   "source": [
    "dateparse = lambda x: datetime.strptime(x, '%Y-%m-%d %H:%M:%S')\n",
    "\n",
    "data = pd.read_csv(\"../data/onti_c.csv\", low_memory=False)\n",
    "data_len = len(data.index)\n",
    "data['Coolness_RHEED'].min()"
   ]
  },
  {
   "cell_type": "code",
   "execution_count": 4,
   "id": "chicken-appointment",
   "metadata": {},
   "outputs": [],
   "source": [
    "train = data.iloc[:, :int(data_len * 0.9)]\n",
    "test = data.iloc[:, int(data_len * 0.9):]"
   ]
  },
  {
   "cell_type": "code",
   "execution_count": null,
   "id": "moving-mexican",
   "metadata": {
    "tags": []
   },
   "outputs": [
    {
     "name": "stdout",
     "output_type": "stream",
     "text": [
      "0\n"
     ]
    },
    {
     "name": "stderr",
     "output_type": "stream",
     "text": [
      "INFO:fbprophet:Disabling yearly seasonality. Run prophet with yearly_seasonality=True to override this.\n",
      "INFO:fbprophet:Disabling weekly seasonality. Run prophet with weekly_seasonality=True to override this.\n",
      "INFO:fbprophet:Disabling daily seasonality. Run prophet with daily_seasonality=True to override this.\n"
     ]
    }
   ],
   "source": [
    "model = Prophet(changepoint_prior_scale=0.01)\n",
    "print(0)\n",
    "model.fit(data)"
   ]
  },
  {
   "cell_type": "code",
   "execution_count": null,
   "id": "labeled-defense",
   "metadata": {},
   "outputs": [],
   "source": [
    "pred = model.predict(df=test.reset_index().rename(columns={'Time':'ds'}))\n",
    "pred.head()"
   ]
  },
  {
   "cell_type": "code",
   "execution_count": null,
   "id": "dental-symposium",
   "metadata": {},
   "outputs": [],
   "source": []
  },
  {
   "cell_type": "code",
   "execution_count": null,
   "id": "thousand-deputy",
   "metadata": {},
   "outputs": [],
   "source": [
    "model = Prophet(changepoint_prior_scale=0.01)"
   ]
  },
  {
   "cell_type": "code",
   "execution_count": null,
   "id": "packed-finish",
   "metadata": {},
   "outputs": [],
   "source": []
  },
  {
   "cell_type": "code",
   "execution_count": null,
   "id": "challenging-airline",
   "metadata": {},
   "outputs": [],
   "source": []
  }
 ],
 "metadata": {
  "kernelspec": {
   "display_name": "Python 3",
   "language": "python",
   "name": "python3"
  },
  "language_info": {
   "codemirror_mode": {
    "name": "ipython",
    "version": 3
   },
   "file_extension": ".py",
   "mimetype": "text/x-python",
   "name": "python",
   "nbconvert_exporter": "python",
   "pygments_lexer": "ipython3",
   "version": "3.7.9"
  }
 },
 "nbformat": 4,
 "nbformat_minor": 5
}
