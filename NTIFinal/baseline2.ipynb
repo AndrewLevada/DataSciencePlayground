{
 "cells": [
  {
   "cell_type": "code",
   "execution_count": 1,
   "metadata": {},
   "outputs": [],
   "source": [
    "import pandas as pd\n",
    "import os\n",
    "import numpy as np\n",
    "import pandas as pd\n",
    "import sklearn\n",
    "import numpy as np\n",
    "import lightgbm\n",
    "from sklearn.model_selection import train_test_split\n",
    "import joblib\n",
    "import scipy as sp\n",
    "from sklearn.feature_extraction.text import TfidfVectorizer\n",
    "from sklearn.preprocessing import OneHotEncoder, LabelEncoder\n",
    "\n",
    "from sklearn.linear_model import LogisticRegression, Ridge, RidgeClassifier\n",
    "\n",
    "from sklearn.metrics import accuracy_score\n",
    "from sklearn.preprocessing import StandardScaler\n",
    "import matplotlib.pyplot as plt\n"
   ]
  },
  {
   "cell_type": "code",
   "execution_count": 2,
   "metadata": {},
   "outputs": [],
   "source": [
    "import catboost"
   ]
  },
  {
   "cell_type": "code",
   "execution_count": 3,
   "metadata": {},
   "outputs": [],
   "source": [
    "train = pd.read_csv(\"../data/onti_c.csv\")\n"
   ]
  },
  {
   "cell_type": "code",
   "execution_count": 4,
   "metadata": {},
   "outputs": [],
   "source": [
    "#важные колонки для использования\n",
    "val_col = ['Coolness_RHEED',  'R FWHM_RHEED',  'X FWHM_RHEED', 'Y FWHM_RHEED',\n",
    "        'Filtered Rate', 'Raw Rate',\n",
    "       'Source Power', 'Crystal Position']\n"
   ]
  },
  {
   "cell_type": "code",
   "execution_count": 5,
   "metadata": {},
   "outputs": [],
   "source": [
    "#создаем датасет разными аггрегационными функциями\n",
    "def generated_dataset(series, wind_size=5):\n",
    "    result = series.rolling(wind_size).agg(['mean', 'std', 'var'])\n",
    "    delta = series - series.shift(wind_size)\n",
    "    delta.columns = [col+'_'+str(wind_size) for col in delta.columns]\n",
    "    result.columns = [col[0]+'_'+col[1]+'_'+str(wind_size) for col in result.columns]\n",
    "    result = result.join(delta)\n",
    "    return result"
   ]
  },
  {
   "cell_type": "code",
   "execution_count": 6,
   "metadata": {},
   "outputs": [
    {
     "data": {
      "text/plain": [
       "((2363772, 32),\n",
       " Index(['Coolness_RHEED_mean_5', 'Coolness_RHEED_std_5', 'Coolness_RHEED_var_5',\n",
       "        'R FWHM_RHEED_mean_5', 'R FWHM_RHEED_std_5', 'R FWHM_RHEED_var_5',\n",
       "        'X FWHM_RHEED_mean_5', 'X FWHM_RHEED_std_5', 'X FWHM_RHEED_var_5',\n",
       "        'Y FWHM_RHEED_mean_5', 'Y FWHM_RHEED_std_5', 'Y FWHM_RHEED_var_5',\n",
       "        'Filtered Rate_mean_5', 'Filtered Rate_std_5', 'Filtered Rate_var_5',\n",
       "        'Raw Rate_mean_5', 'Raw Rate_std_5', 'Raw Rate_var_5',\n",
       "        'Source Power_mean_5', 'Source Power_std_5', 'Source Power_var_5',\n",
       "        'Crystal Position_mean_5', 'Crystal Position_std_5',\n",
       "        'Crystal Position_var_5', 'Coolness_RHEED_5', 'R FWHM_RHEED_5',\n",
       "        'X FWHM_RHEED_5', 'Y FWHM_RHEED_5', 'Filtered Rate_5', 'Raw Rate_5',\n",
       "        'Source Power_5', 'Crystal Position_5'],\n",
       "       dtype='object'))"
      ]
     },
     "execution_count": 6,
     "metadata": {},
     "output_type": "execute_result"
    }
   ],
   "source": [
    "df_X = generated_dataset(train[val_col])\n",
    "df_X.shape, df_X.columns"
   ]
  },
  {
   "cell_type": "code",
   "execution_count": 7,
   "metadata": {},
   "outputs": [
    {
     "data": {
      "text/plain": [
       "(2363772, 64)"
      ]
     },
     "execution_count": 7,
     "metadata": {},
     "output_type": "execute_result"
    }
   ],
   "source": [
    "df_X = df_X.join(generated_dataset(train[val_col],wind_size=50))\n",
    "df_X.shape"
   ]
  },
  {
   "cell_type": "code",
   "execution_count": 8,
   "metadata": {},
   "outputs": [
    {
     "data": {
      "text/plain": [
       "(2363772, 96)"
      ]
     },
     "execution_count": 8,
     "metadata": {},
     "output_type": "execute_result"
    }
   ],
   "source": [
    "df_X = df_X.join(generated_dataset(train[val_col],wind_size=500))\n",
    "df_X.shape"
   ]
  },
  {
   "cell_type": "code",
   "execution_count": 9,
   "metadata": {},
   "outputs": [
    {
     "data": {
      "text/plain": [
       "(2363772, 128)"
      ]
     },
     "execution_count": 9,
     "metadata": {},
     "output_type": "execute_result"
    }
   ],
   "source": [
    "df_X = df_X.join(generated_dataset(train[val_col],wind_size=1500))\n",
    "df_X.shape"
   ]
  },
  {
   "cell_type": "code",
   "execution_count": 10,
   "metadata": {},
   "outputs": [
    {
     "data": {
      "text/plain": [
       "(2363772, 128)"
      ]
     },
     "execution_count": 10,
     "metadata": {},
     "output_type": "execute_result"
    }
   ],
   "source": [
    "mask_base = df_X.isna().sum(axis=1)==0\n",
    "df_X.shape"
   ]
  },
  {
   "cell_type": "code",
   "execution_count": 11,
   "metadata": {},
   "outputs": [
    {
     "data": {
      "text/plain": [
       "2287456"
      ]
     },
     "execution_count": 11,
     "metadata": {},
     "output_type": "execute_result"
    }
   ],
   "source": [
    "mask_base.sum()"
   ]
  },
  {
   "cell_type": "code",
   "execution_count": 12,
   "metadata": {},
   "outputs": [
    {
     "name": "stderr",
     "output_type": "stream",
     "text": [
      "/home/ec2-user/anaconda3/lib/python3.7/site-packages/ipykernel_launcher.py:16: UserWarning: Boolean Series key will be reindexed to match DataFrame index.\n",
      "  app.launch_new_instance()\n",
      "/home/ec2-user/anaconda3/lib/python3.7/site-packages/sklearn/linear_model/_logistic.py:765: ConvergenceWarning: lbfgs failed to converge (status=1):\n",
      "STOP: TOTAL NO. of ITERATIONS REACHED LIMIT.\n",
      "\n",
      "Increase the number of iterations (max_iter) or scale the data as shown in:\n",
      "    https://scikit-learn.org/stable/modules/preprocessing.html\n",
      "Please also refer to the documentation for alternative solver options:\n",
      "    https://scikit-learn.org/stable/modules/linear_model.html#logistic-regression\n",
      "  extra_warning_msg=_LOGISTIC_SOLVER_CONVERGENCE_MSG)\n"
     ]
    },
    {
     "data": {
      "text/plain": [
       "Pipeline(steps=[('standardscaler', StandardScaler()),\n",
       "                ('logisticregression', LogisticRegression())])"
      ]
     },
     "execution_count": 12,
     "metadata": {},
     "output_type": "execute_result"
    }
   ],
   "source": [
    "from sklearn.svm import LinearSVC, SVC\n",
    "from sklearn.pipeline import make_pipeline\n",
    "from sklearn.preprocessing import StandardScaler\n",
    "from sklearn.linear_model import Ridge\n",
    "\n",
    "wind_size = 435\n",
    "\n",
    "df = df_X[wind_size:-wind_size]\n",
    "#y = (rheed_long.Coolness < rheed_long.Coolness.shift(wind_size) )\n",
    "#y = y[wind_size:-wind_size]\n",
    "cool_col = 'Coolness_RHEED_mean_50'\n",
    "y = (abs((df[cool_col].shift(wind_size) -  df[cool_col]))>5)\n",
    "\n",
    "\n",
    "mask = mask_base #&(y>30)\n",
    "df = df[mask]\n",
    "y = y[mask]\n",
    "X_train, X_test, y_train, y_test = train_test_split(df, y, test_size=0.25, shuffle=False)\n",
    "\n",
    "lg = make_pipeline(StandardScaler(), sklearn.linear_model.LogisticRegression())#alpha=1000))\n",
    "\n",
    "lg.fit(X_train, y_train)"
   ]
  },
  {
   "cell_type": "code",
   "execution_count": 28,
   "metadata": {},
   "outputs": [
    {
     "ename": "ImportError",
     "evalue": "cannot import name 'auc_score' from 'sklearn.metrics' (/home/ec2-user/anaconda3/lib/python3.7/site-packages/sklearn/metrics/__init__.py)",
     "output_type": "error",
     "traceback": [
      "\u001b[0;31m---------------------------------------------------------------------------\u001b[0m",
      "\u001b[0;31mImportError\u001b[0m                               Traceback (most recent call last)",
      "\u001b[0;32m<ipython-input-28-fc940cd38fe6>\u001b[0m in \u001b[0;36m<module>\u001b[0;34m\u001b[0m\n\u001b[0;32m----> 1\u001b[0;31m \u001b[0;32mfrom\u001b[0m \u001b[0msklearn\u001b[0m\u001b[0;34m.\u001b[0m\u001b[0mmetrics\u001b[0m \u001b[0;32mimport\u001b[0m \u001b[0mauc_score\u001b[0m\u001b[0;34m\u001b[0m\u001b[0;34m\u001b[0m\u001b[0m\n\u001b[0m\u001b[1;32m      2\u001b[0m \u001b[0mauc_score\u001b[0m\u001b[0;34m(\u001b[0m\u001b[0mlg\u001b[0m\u001b[0;34m.\u001b[0m\u001b[0mpredict\u001b[0m\u001b[0;34m(\u001b[0m\u001b[0mX_test\u001b[0m\u001b[0;34m)\u001b[0m\u001b[0;34m,\u001b[0m \u001b[0my_test\u001b[0m\u001b[0;34m)\u001b[0m\u001b[0;34m\u001b[0m\u001b[0;34m\u001b[0m\u001b[0m\n",
      "\u001b[0;31mImportError\u001b[0m: cannot import name 'auc_score' from 'sklearn.metrics' (/home/ec2-user/anaconda3/lib/python3.7/site-packages/sklearn/metrics/__init__.py)"
     ]
    }
   ],
   "source": [
    "from sklearn.metrics import roc_auc_score\n",
    "roc_auc_score(lg.predict(X_test), y_test)"
   ]
  },
  {
   "cell_type": "code",
   "execution_count": null,
   "metadata": {},
   "outputs": [],
   "source": []
  },
  {
   "cell_type": "code",
   "execution_count": 13,
   "metadata": {},
   "outputs": [],
   "source": [
    "import pickle\n",
    "with open(\"model.pkl\",\"wb\") as f:\n",
    "    pickle.dump(lg,f)"
   ]
  },
  {
   "cell_type": "code",
   "execution_count": 14,
   "metadata": {},
   "outputs": [
    {
     "data": {
      "text/plain": [
       "False    544078\n",
       "True      27786\n",
       "Name: Coolness_RHEED_mean_50, dtype: int64"
      ]
     },
     "execution_count": 14,
     "metadata": {},
     "output_type": "execute_result"
    }
   ],
   "source": [
    "y_test.value_counts()"
   ]
  },
  {
   "cell_type": "code",
   "execution_count": 15,
   "metadata": {},
   "outputs": [
    {
     "data": {
      "image/png": "[encoded data removed]",
      "text/plain": [
       "<Figure size 432x288 with 2 Axes>"
      ]
     },
     "metadata": {
      "needs_background": "light"
     },
     "output_type": "display_data"
    }
   ],
   "source": [
    "sklearn.metrics.plot_confusion_matrix(lg, X_train, y_train,normalize='all')  # doctest: +SKIP\n",
    "plt.show()  # doctest: +SKIP"
   ]
  },
  {
   "cell_type": "code",
   "execution_count": 16,
   "metadata": {},
   "outputs": [
    {
     "data": {
      "image/png": "[encoded data removed]",
      "text/plain": [
       "<Figure size 432x288 with 2 Axes>"
      ]
     },
     "metadata": {
      "needs_background": "light"
     },
     "output_type": "display_data"
    }
   ],
   "source": [
    "sklearn.metrics.plot_confusion_matrix(lg, X_test, y_test,normalize='all')  # doctest: +SKIP\n",
    "plt.show()  # doctest: +SKIP"
   ]
  },
  {
   "cell_type": "code",
   "execution_count": 17,
   "metadata": {},
   "outputs": [
    {
     "data": {
      "text/plain": [
       "[(3.7679730512372442, 'Coolness_RHEED_std_500'),\n",
       " (-1.8930788040404605, 'Coolness_RHEED_var_500'),\n",
       " (1.6162773607901157, 'Coolness_RHEED_std_1500'),\n",
       " (-1.3146533588846676, 'X FWHM_RHEED_std_500'),\n",
       " (-1.1288655328149384, 'X FWHM_RHEED_std_1500')]"
      ]
     },
     "execution_count": 17,
     "metadata": {},
     "output_type": "execute_result"
    }
   ],
   "source": [
    "import copy\n",
    "#lg = lgs[2]\n",
    "list_val= lg[1].coef_[0]\n",
    "#list_val = copy.deepcopy(lg[1].coef_)\n",
    "#list_val = list_val[0]\n",
    "top_five_ind = [(list_val[np.argmax(np.abs(list_val) )],X_train.columns[np.argmax(np.abs(list_val))] )]\n",
    "list_val[np.argmax(np.abs(list_val))] = 0 \n",
    "for k in range(55):\n",
    "    top_five_ind.append((list_val[np.argmax(np.abs(list_val))],\n",
    "                        X_train.columns[np.argmax(np.abs(list_val))]))\n",
    "    list_val[np.argmax(np.abs(list_val))] = 0 \n",
    "\n",
    "top_five_ind[:5]"
   ]
  },
  {
   "cell_type": "code",
   "execution_count": 18,
   "metadata": {},
   "outputs": [
    {
     "data": {
      "text/plain": [
       "(0.06435501337046123, 0.06941230911614993, 0.010796804145972791)"
      ]
     },
     "execution_count": 18,
     "metadata": {},
     "output_type": "execute_result"
    }
   ],
   "source": [
    "sklearn.metrics.f1_score(y_test, lg.predict_proba(X_test)[:,1]>0.1), sklearn.metrics.precision_score(y_test, lg.predict(X_test)), sklearn.metrics.recall_score(y_test, lg.predict(X_test))"
   ]
  },
  {
   "cell_type": "code",
   "execution_count": 19,
   "metadata": {},
   "outputs": [
    {
     "data": {
      "image/png": "[encoded data removed]",
      "text/plain": [
       "<Figure size 432x288 with 1 Axes>"
      ]
     },
     "metadata": {
      "needs_background": "light"
     },
     "output_type": "display_data"
    }
   ],
   "source": [
    "fpr, tpr, _ = sklearn.metrics.roc_curve(y_test, lg.predict_proba(X_test)[:,1])\n",
    "roc_auc = sklearn.metrics.roc_auc_score(y_test, lg.predict_proba(X_test)[:,1])\n",
    "plt.figure()\n",
    "lw = 2\n",
    "plt.plot(fpr, tpr,color='darkorange', lw=lw, label='ROC curve (area = %0.2f)' % roc_auc)\n",
    "plt.plot([0, 1], [0, 1], color='navy', lw=lw, linestyle='--')\n",
    "plt.xlim([0.0, 1.0])\n",
    "plt.ylim([0.0, 1.05])\n",
    "plt.xlabel('False Positive Rate')\n",
    "plt.ylabel('True Positive Rate')\n",
    "plt.title('Receiver operating characteristic example')\n",
    "plt.legend(loc=\"lower right\")\n",
    "plt.show()"
   ]
  },
  {
   "cell_type": "code",
   "execution_count": 21,
   "metadata": {},
   "outputs": [
    {
     "data": {
      "text/plain": [
       "False    1639554\n",
       "True       76038\n",
       "Name: Coolness_RHEED_mean_50, dtype: int64"
      ]
     },
     "execution_count": 21,
     "metadata": {},
     "output_type": "execute_result"
    }
   ],
   "source": [
    "(y_train != lg.predict(X_train)).value_counts()"
   ]
  },
  {
   "cell_type": "code",
   "execution_count": 22,
   "metadata": {},
   "outputs": [
    {
     "data": {
      "text/plain": [
       "False    540356\n",
       "True      31508\n",
       "Name: Coolness_RHEED_mean_50, dtype: int64"
      ]
     },
     "execution_count": 22,
     "metadata": {},
     "output_type": "execute_result"
    }
   ],
   "source": [
    "(y_test != lg.predict(X_test)).value_counts()\n"
   ]
  },
  {
   "cell_type": "code",
   "execution_count": 23,
   "metadata": {},
   "outputs": [
    {
     "data": {
      "text/plain": [
       "array([-5.40460446, -5.39447981, -5.45365043, ..., -3.33224093,\n",
       "       -3.29994936, -3.28630449])"
      ]
     },
     "execution_count": 23,
     "metadata": {},
     "output_type": "execute_result"
    }
   ],
   "source": [
    "lg.decision_function(X_test)"
   ]
  },
  {
   "cell_type": "code",
   "execution_count": null,
   "metadata": {},
   "outputs": [],
   "source": []
  }
 ],
 "metadata": {
  "kernelspec": {
   "display_name": "Python 3",
   "language": "python",
   "name": "python3"
  },
  "language_info": {
   "codemirror_mode": {
    "name": "ipython",
    "version": 3
   },
   "file_extension": ".py",
   "mimetype": "text/x-python",
   "name": "python",
   "nbconvert_exporter": "python",
   "pygments_lexer": "ipython3",
   "version": "3.7.6"
  }
 },
 "nbformat": 4,
 "nbformat_minor": 4
}
