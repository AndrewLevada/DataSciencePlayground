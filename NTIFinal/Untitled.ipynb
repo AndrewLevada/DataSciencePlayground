{
 "cells": [
  {
   "cell_type": "code",
   "execution_count": 29,
   "id": "exposed-binary",
   "metadata": {},
   "outputs": [
    {
     "name": "stdout",
     "output_type": "stream",
     "text": [
      "   Coolness_RHEED  R FWHM_RHEED  X FWHM_RHEED  Y FWHM_RHEED  Crystal Position  \\\n",
      "0             0.0           0.0           0.0           0.0               1.0   \n",
      "1             0.0           0.0           0.0           0.0               1.0   \n",
      "2             0.0           0.0           0.0           0.0               1.0   \n",
      "3             0.0           0.0           0.0           0.0               1.0   \n",
      "4             0.0           0.0           0.0           0.0               1.0   \n",
      "\n",
      "   Filtered Rate    Length  Raw Rate  Source Power                 Time  \n",
      "0          6.000  0.003721     5.990         21.64  2021-02-23 02:21:05  \n",
      "1          6.094  0.028870     6.110         21.06  2021-02-23 02:21:06  \n",
      "2          6.082  0.040400     6.168         20.97  2021-02-23 02:21:07  \n",
      "3          6.168  0.067750     6.156         20.70  2021-02-23 02:21:08  \n",
      "4          6.168  0.083560     6.145         20.60  2021-02-23 02:21:09  \n"
     ]
    },
    {
     "ename": "IndexError",
     "evalue": "index 0 is out of bounds for axis 0 with size 0",
     "output_type": "error",
     "traceback": [
      "\u001b[0;31m---------------------------------------------------------------------------\u001b[0m",
      "\u001b[0;31mIndexError\u001b[0m                                Traceback (most recent call last)",
      "\u001b[0;32m<ipython-input-29-9433ea5304f2>\u001b[0m in \u001b[0;36m<module>\u001b[0;34m\u001b[0m\n\u001b[1;32m     19\u001b[0m \u001b[0mvocabulary_length\u001b[0m \u001b[0;34m=\u001b[0m \u001b[0mlen\u001b[0m\u001b[0;34m(\u001b[0m\u001b[0mboss\u001b[0m\u001b[0;34m.\u001b[0m\u001b[0mvocabulary_\u001b[0m\u001b[0;34m)\u001b[0m\u001b[0;34m\u001b[0m\u001b[0;34m\u001b[0m\u001b[0m\n\u001b[1;32m     20\u001b[0m \u001b[0mwidth\u001b[0m \u001b[0;34m=\u001b[0m \u001b[0;36m0.3\u001b[0m\u001b[0;34m\u001b[0m\u001b[0;34m\u001b[0m\u001b[0m\n\u001b[0;32m---> 21\u001b[0;31m plt.bar(np.arange(vocabulary_length) - width / 2, X_boss[y_train == 1][0],\n\u001b[0m\u001b[1;32m     22\u001b[0m         width=width, label='First time series in class 1')\n\u001b[1;32m     23\u001b[0m plt.bar(np.arange(vocabulary_length) + width / 2, X_boss[y_train == 2][0],\n",
      "\u001b[0;31mIndexError\u001b[0m: index 0 is out of bounds for axis 0 with size 0"
     ]
    },
    {
     "data": {
      "text/plain": [
       "<Figure size 432x288 with 0 Axes>"
      ]
     },
     "metadata": {},
     "output_type": "display_data"
    }
   ],
   "source": [
    "import numpy as np\n",
    "import matplotlib.pyplot as plt\n",
    "from pyts.datasets import load_gunpoint\n",
    "from pyts.transformation import BOSS\n",
    "import pandas as pd\n",
    "\n",
    "\n",
    "# Toy dataset\n",
    "data = pd.read_csv(\"../data/onti_c.csv\", low_memory=False)\n",
    "print(data.head())\n",
    "X_train, y_train = data['Coolness_RHEED'], [data['Length']]\n",
    "\n",
    "# BOSS transformation\n",
    "boss = BOSS(word_size=2, n_bins=4, window_size=12, sparse=False)\n",
    "X_boss = boss.fit_transform([X_train])\n",
    "\n",
    "# Visualize the transformation for the first time series\n",
    "plt.figure(figsize=(6, 4))\n",
    "vocabulary_length = len(boss.vocabulary_)\n",
    "width = 0.3\n",
    "plt.bar(np.arange(vocabulary_length) - width / 2, X_boss[y_train == 1][0],\n",
    "        width=width, label='First time series in class 1')\n",
    "plt.bar(np.arange(vocabulary_length) + width / 2, X_boss[y_train == 2][0],\n",
    "        width=width, label='First time series in class 2')\n",
    "plt.xticks(np.arange(vocabulary_length),\n",
    "           np.vectorize(boss.vocabulary_.get)(np.arange(X_boss[0].size)),\n",
    "           fontsize=12)\n",
    "y_max = np.max(np.concatenate([X_boss[y_train == 1][0],\n",
    "                               X_boss[y_train == 2][0]]))\n",
    "plt.yticks(np.arange(y_max + 1), fontsize=12)\n",
    "plt.xlabel(\"Words\", fontsize=14)\n",
    "plt.ylabel(\"Frequencies\", fontsize=14)\n",
    "plt.title(\"BOSS transformation\", fontsize=16)\n",
    "plt.legend(loc='best', fontsize=10)\n",
    "plt.tight_layout()\n",
    "plt.show()"
   ]
  },
  {
   "cell_type": "code",
   "execution_count": 10,
   "id": "equal-absolute",
   "metadata": {},
   "outputs": [
    {
     "name": "stdout",
     "output_type": "stream",
     "text": [
      "Collecting pyts\n",
      "  Downloading pyts-0.11.0-py3-none-any.whl (2.5 MB)\n",
      "\u001b[K     |████████████████████████████████| 2.5 MB 1.9 MB/s eta 0:00:01\n",
      "\u001b[?25hCollecting numba>=0.48.0\n",
      "  Downloading numba-0.52.0-cp37-cp37m-manylinux2014_x86_64.whl (3.2 MB)\n",
      "\u001b[K     |████████████████████████████████| 3.2 MB 15.6 MB/s eta 0:00:01\n",
      "\u001b[?25hRequirement already satisfied: numpy>=1.17.5 in /home/ec2-user/anaconda3/lib/python3.7/site-packages (from pyts) (1.19.5)\n",
      "Requirement already satisfied: joblib>=0.12 in /home/ec2-user/anaconda3/lib/python3.7/site-packages (from pyts) (1.0.1)\n",
      "Requirement already satisfied: scipy>=1.3.0 in /home/ec2-user/anaconda3/lib/python3.7/site-packages (from pyts) (1.6.1)\n",
      "Requirement already satisfied: scikit-learn>=0.22.1 in /home/ec2-user/anaconda3/lib/python3.7/site-packages (from pyts) (0.24.1)\n",
      "Requirement already satisfied: setuptools in /home/ec2-user/anaconda3/lib/python3.7/site-packages (from numba>=0.48.0->pyts) (53.0.0)\n",
      "Collecting llvmlite<0.36,>=0.35.0\n",
      "  Downloading llvmlite-0.35.0-cp37-cp37m-manylinux2010_x86_64.whl (25.3 MB)\n",
      "\u001b[K     |████████████████████████████████| 25.3 MB 33 kB/s  eta 0:00:011\n",
      "\u001b[?25hRequirement already satisfied: threadpoolctl>=2.0.0 in /home/ec2-user/anaconda3/lib/python3.7/site-packages (from scikit-learn>=0.22.1->pyts) (2.1.0)\n",
      "Installing collected packages: llvmlite, numba, pyts\n",
      "Successfully installed llvmlite-0.35.0 numba-0.52.0 pyts-0.11.0\n"
     ]
    }
   ],
   "source": [
    "!pip install pyts"
   ]
  },
  {
   "cell_type": "code",
   "execution_count": null,
   "id": "integrated-conjunction",
   "metadata": {},
   "outputs": [],
   "source": []
  }
 ],
 "metadata": {
  "kernelspec": {
   "display_name": "Python 3",
   "language": "python",
   "name": "python3"
  },
  "language_info": {
   "codemirror_mode": {
    "name": "ipython",
    "version": 3
   },
   "file_extension": ".py",
   "mimetype": "text/x-python",
   "name": "python",
   "nbconvert_exporter": "python",
   "pygments_lexer": "ipython3",
   "version": "3.7.9"
  }
 },
 "nbformat": 4,
 "nbformat_minor": 5
}
