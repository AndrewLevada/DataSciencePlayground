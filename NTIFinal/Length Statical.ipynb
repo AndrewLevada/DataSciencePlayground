{
 "cells": [
  {
   "cell_type": "code",
   "execution_count": 2,
   "id": "productive-pitch",
   "metadata": {},
   "outputs": [],
   "source": [
    "# Importing libraries\n",
    "import os\n",
    "import warnings\n",
    "warnings.filterwarnings('ignore')\n",
    "import numpy as np \n",
    "import pandas as pd\n",
    "from pandas.plotting import autocorrelation_plot\n",
    "import seaborn as sns\n",
    "from datetime import datetime\n",
    "import matplotlib.pyplot as plt\n",
    "plt.style.use('fivethirtyeight') \n",
    "# Above is a special style template for matplotlib, highly useful for visualizing time series data\n",
    "%matplotlib inline\n",
    "import statsmodels.api as sm\n",
    "from numpy.random import normal, seed\n",
    "from scipy.stats import norm\n",
    "from statsmodels.tsa.arima_model import ARMA\n",
    "from statsmodels.tsa.stattools import adfuller\n",
    "from statsmodels.graphics.tsaplots import plot_acf, plot_pacf\n",
    "from statsmodels.tsa.arima_process import ArmaProcess\n",
    "from statsmodels.tsa.arima_model import ARIMA\n",
    "import math\n",
    "from sklearn.metrics import mean_squared_error"
   ]
  },
  {
   "cell_type": "code",
   "execution_count": 3,
   "id": "floppy-riverside",
   "metadata": {},
   "outputs": [
    {
     "data": {
      "text/html": [
       "<div>\n",
       "<style scoped>\n",
       "    .dataframe tbody tr th:only-of-type {\n",
       "        vertical-align: middle;\n",
       "    }\n",
       "\n",
       "    .dataframe tbody tr th {\n",
       "        vertical-align: top;\n",
       "    }\n",
       "\n",
       "    .dataframe thead th {\n",
       "        text-align: right;\n",
       "    }\n",
       "</style>\n",
       "<table border=\"1\" class=\"dataframe\">\n",
       "  <thead>\n",
       "    <tr style=\"text-align: right;\">\n",
       "      <th></th>\n",
       "      <th>Coolness_RHEED</th>\n",
       "      <th>R FWHM_RHEED</th>\n",
       "      <th>X FWHM_RHEED</th>\n",
       "      <th>Y FWHM_RHEED</th>\n",
       "      <th>Crystal Position</th>\n",
       "      <th>Filtered Rate</th>\n",
       "      <th>Raw Rate</th>\n",
       "      <th>Source Power</th>\n",
       "      <th>Time</th>\n",
       "    </tr>\n",
       "    <tr>\n",
       "      <th>Length</th>\n",
       "      <th></th>\n",
       "      <th></th>\n",
       "      <th></th>\n",
       "      <th></th>\n",
       "      <th></th>\n",
       "      <th></th>\n",
       "      <th></th>\n",
       "      <th></th>\n",
       "      <th></th>\n",
       "    </tr>\n",
       "  </thead>\n",
       "  <tbody>\n",
       "    <tr>\n",
       "      <th>0.003721</th>\n",
       "      <td>0.0</td>\n",
       "      <td>0.0</td>\n",
       "      <td>0.0</td>\n",
       "      <td>0.0</td>\n",
       "      <td>1.0</td>\n",
       "      <td>6.000</td>\n",
       "      <td>5.990</td>\n",
       "      <td>21.64</td>\n",
       "      <td>2021-02-23 02:21:05</td>\n",
       "    </tr>\n",
       "    <tr>\n",
       "      <th>0.028870</th>\n",
       "      <td>0.0</td>\n",
       "      <td>0.0</td>\n",
       "      <td>0.0</td>\n",
       "      <td>0.0</td>\n",
       "      <td>1.0</td>\n",
       "      <td>6.094</td>\n",
       "      <td>6.110</td>\n",
       "      <td>21.06</td>\n",
       "      <td>2021-02-23 02:21:06</td>\n",
       "    </tr>\n",
       "    <tr>\n",
       "      <th>0.040400</th>\n",
       "      <td>0.0</td>\n",
       "      <td>0.0</td>\n",
       "      <td>0.0</td>\n",
       "      <td>0.0</td>\n",
       "      <td>1.0</td>\n",
       "      <td>6.082</td>\n",
       "      <td>6.168</td>\n",
       "      <td>20.97</td>\n",
       "      <td>2021-02-23 02:21:07</td>\n",
       "    </tr>\n",
       "    <tr>\n",
       "      <th>0.067750</th>\n",
       "      <td>0.0</td>\n",
       "      <td>0.0</td>\n",
       "      <td>0.0</td>\n",
       "      <td>0.0</td>\n",
       "      <td>1.0</td>\n",
       "      <td>6.168</td>\n",
       "      <td>6.156</td>\n",
       "      <td>20.70</td>\n",
       "      <td>2021-02-23 02:21:08</td>\n",
       "    </tr>\n",
       "    <tr>\n",
       "      <th>0.083560</th>\n",
       "      <td>0.0</td>\n",
       "      <td>0.0</td>\n",
       "      <td>0.0</td>\n",
       "      <td>0.0</td>\n",
       "      <td>1.0</td>\n",
       "      <td>6.168</td>\n",
       "      <td>6.145</td>\n",
       "      <td>20.60</td>\n",
       "      <td>2021-02-23 02:21:09</td>\n",
       "    </tr>\n",
       "  </tbody>\n",
       "</table>\n",
       "</div>"
      ],
      "text/plain": [
       "          Coolness_RHEED  R FWHM_RHEED  X FWHM_RHEED  Y FWHM_RHEED  \\\n",
       "Length                                                               \n",
       "0.003721             0.0           0.0           0.0           0.0   \n",
       "0.028870             0.0           0.0           0.0           0.0   \n",
       "0.040400             0.0           0.0           0.0           0.0   \n",
       "0.067750             0.0           0.0           0.0           0.0   \n",
       "0.083560             0.0           0.0           0.0           0.0   \n",
       "\n",
       "          Crystal Position  Filtered Rate  Raw Rate  Source Power  \\\n",
       "Length                                                              \n",
       "0.003721               1.0          6.000     5.990         21.64   \n",
       "0.028870               1.0          6.094     6.110         21.06   \n",
       "0.040400               1.0          6.082     6.168         20.97   \n",
       "0.067750               1.0          6.168     6.156         20.70   \n",
       "0.083560               1.0          6.168     6.145         20.60   \n",
       "\n",
       "                         Time  \n",
       "Length                         \n",
       "0.003721  2021-02-23 02:21:05  \n",
       "0.028870  2021-02-23 02:21:06  \n",
       "0.040400  2021-02-23 02:21:07  \n",
       "0.067750  2021-02-23 02:21:08  \n",
       "0.083560  2021-02-23 02:21:09  "
      ]
     },
     "execution_count": 3,
     "metadata": {},
     "output_type": "execute_result"
    }
   ],
   "source": [
    "data = pd.read_csv(\"../data/onti_c.csv\", index_col='Length')\n",
    "data.head()"
   ]
  },
  {
   "cell_type": "code",
   "execution_count": 5,
   "id": "seventh-oregon",
   "metadata": {},
   "outputs": [
    {
     "data": {
      "text/plain": [
       "<AxesSubplot:xlabel='Length'>"
      ]
     },
     "execution_count": 5,
     "metadata": {},
     "output_type": "execute_result"
    },
    {
     "data": {
      "image/png": "[encoded data removed]",
      "text/plain": [
       "<Figure size 432x288 with 1 Axes>"
      ]
     },
     "metadata": {
      "needs_background": "light"
     },
     "output_type": "display_data"
    }
   ],
   "source": [
    "(data['Coolness_RHEED'].head(10000)).plot()"
   ]
  },
  {
   "cell_type": "code",
   "execution_count": 16,
   "id": "imposed-following",
   "metadata": {},
   "outputs": [
    {
     "ename": "NameError",
     "evalue": "name 'pyplot' is not defined",
     "output_type": "error",
     "traceback": [
      "\u001b[0;31m---------------------------------------------------------------------------\u001b[0m",
      "\u001b[0;31mNameError\u001b[0m                                 Traceback (most recent call last)",
      "\u001b[0;32m<ipython-input-16-e4429680dd75>\u001b[0m in \u001b[0;36m<module>\u001b[0;34m\u001b[0m\n\u001b[1;32m      1\u001b[0m \u001b[0mautocorrelation_plot\u001b[0m\u001b[0;34m(\u001b[0m\u001b[0mdata\u001b[0m\u001b[0;34m[\u001b[0m\u001b[0;34m'Coolness_RHEED'\u001b[0m\u001b[0;34m]\u001b[0m\u001b[0;34m.\u001b[0m\u001b[0mhead\u001b[0m\u001b[0;34m(\u001b[0m\u001b[0;36m100000\u001b[0m\u001b[0;34m)\u001b[0m\u001b[0;34m)\u001b[0m\u001b[0;34m.\u001b[0m\u001b[0mset_xlim\u001b[0m\u001b[0;34m(\u001b[0m\u001b[0;34m[\u001b[0m\u001b[0;36m6000\u001b[0m\u001b[0;34m,\u001b[0m \u001b[0;36m7000\u001b[0m\u001b[0;34m]\u001b[0m\u001b[0;34m)\u001b[0m\u001b[0;34m\u001b[0m\u001b[0;34m\u001b[0m\u001b[0m\n\u001b[0;32m----> 2\u001b[0;31m \u001b[0mpyplot\u001b[0m\u001b[0;34m.\u001b[0m\u001b[0mshow\u001b[0m\u001b[0;34m(\u001b[0m\u001b[0;34m)\u001b[0m\u001b[0;34m\u001b[0m\u001b[0;34m\u001b[0m\u001b[0m\n\u001b[0m",
      "\u001b[0;31mNameError\u001b[0m: name 'pyplot' is not defined"
     ]
    },
    {
     "data": {
      "image/png": "[encoded data removed]",
      "text/plain": [
       "<Figure size 432x288 with 1 Axes>"
      ]
     },
     "metadata": {
      "needs_background": "light"
     },
     "output_type": "display_data"
    }
   ],
   "source": [
    "autocorrelation_plot(data['Coolness_RHEED'].head(100000)).set_xlim([6000, 7000])\n",
    "pyplot.show()"
   ]
  },
  {
   "cell_type": "markdown",
   "id": "protective-sperm",
   "metadata": {},
   "source": [
    "##### plot_pacf(data['Coolness_RHEED'])\n"
   ]
  },
  {
   "cell_type": "code",
   "execution_count": null,
   "id": "compatible-massage",
   "metadata": {},
   "outputs": [],
   "source": [
    "model = ARIMA(data['Coolness_RHEED'].head(100000), order = (6400, 0, 2))\n",
    "model_fit = model.fit()\n",
    "model_fit.summary()\n",
    "model_fit.plot_predict(dynamic=False)\n",
    "plt.show()"
   ]
  },
  {
   "cell_type": "code",
   "execution_count": null,
   "id": "christian-postcard",
   "metadata": {},
   "outputs": [],
   "source": [
    "data['Length'].min()"
   ]
  },
  {
   "cell_type": "code",
   "execution_count": null,
   "id": "active-newman",
   "metadata": {},
   "outputs": [],
   "source": []
  }
 ],
 "metadata": {
  "kernelspec": {
   "display_name": "Python 3",
   "language": "python",
   "name": "python3"
  },
  "language_info": {
   "codemirror_mode": {
    "name": "ipython",
    "version": 3
   },
   "file_extension": ".py",
   "mimetype": "text/x-python",
   "name": "python",
   "nbconvert_exporter": "python",
   "pygments_lexer": "ipython3",
   "version": "3.7.6"
  }
 },
 "nbformat": 4,
 "nbformat_minor": 5
}
