{
 "nbformat": 4,
 "nbformat_minor": 0,
 "metadata": {
  "colab": {
   "name": "Copy of YandexSchoolTask.ipynb",
   "provenance": [],
   "collapsed_sections": [],
   "authorship_tag": "ABX9TyPIIyycjCBXp6w8WQawFrRj"
  },
  "kernelspec": {
   "name": "python3",
   "language": "python",
   "display_name": "Python 3"
  },
  "language_info": {
   "name": "python"
  }
 },
 "cells": [
  {
   "cell_type": "code",
   "metadata": {
    "id": "IwKrQMSZgher",
    "executionInfo": {
     "status": "ok",
     "timestamp": 1616315554738,
     "user_tz": -180,
     "elapsed": 647,
     "user": {
      "displayName": "Andrew Levada",
      "photoUrl": "https://lh3.googleusercontent.com/a-/AOh14GgVgEjtGXDqTaZkHgdzdEf4VRElZlCZ9TBdANHU=s64",
      "userId": "13529487039575664740"
     }
    }
   },
   "source": [
    "import pandas as pd\n",
    "import numpy as np\n",
    "from tqdm import tqdm\n",
    "pd.set_option(\"display.precision\", 4)"
   ],
   "execution_count": 36,
   "outputs": []
  },
  {
   "cell_type": "code",
   "metadata": {
    "id": "LAlAdl58g-BP",
    "executionInfo": {
     "status": "ok",
     "timestamp": 1616314930734,
     "user_tz": -180,
     "elapsed": 15300,
     "user": {
      "displayName": "Andrew Levada",
      "photoUrl": "https://lh3.googleusercontent.com/a-/AOh14GgVgEjtGXDqTaZkHgdzdEf4VRElZlCZ9TBdANHU=s64",
      "userId": "13529487039575664740"
     }
    }
   },
   "source": [
    "purchases = pd.read_csv('./purchases', sep='\\t', decimal=',', parse_dates=['buy_ts'])\n",
    "visits = pd.read_csv('./visits', sep='\\t', decimal=',', parse_dates=['end_ts', 'start_ts'])"
   ],
   "execution_count": 37,
   "outputs": []
  },
  {
   "cell_type": "code",
   "metadata": {
    "colab": {
     "base_uri": "https://localhost:8080/",
     "height": 425
    },
    "id": "bEuNzyBBhot-",
    "executionInfo": {
     "status": "ok",
     "timestamp": 1616314931690,
     "user_tz": -180,
     "elapsed": 12782,
     "user": {
      "displayName": "Andrew Levada",
      "photoUrl": "https://lh3.googleusercontent.com/a-/AOh14GgVgEjtGXDqTaZkHgdzdEf4VRElZlCZ9TBdANHU=s64",
      "userId": "13529487039575664740"
     }
    },
    "outputId": "4f0fa63c-7fae-4225-c4e9-9b8cb0b41453"
   },
   "source": [
    "visits.drop(['start_dt'], axis=1 , inplace=True)\n",
    "\n",
    "print(visits.info())\n",
    "visits.head()"
   ],
   "execution_count": 38,
   "outputs": [
    {
     "name": "stdout",
     "output_type": "stream",
     "text": [
      "<class 'pandas.core.frame.DataFrame'>\n",
      "RangeIndex: 720679 entries, 0 to 720678\n",
      "Data columns (total 5 columns):\n",
      " #   Column     Non-Null Count   Dtype              \n",
      "---  ------     --------------   -----              \n",
      " 0   device     720679 non-null  object             \n",
      " 1   end_ts     720679 non-null  datetime64[ns, UTC]\n",
      " 2   source_id  720679 non-null  int64              \n",
      " 3   start_ts   720679 non-null  datetime64[ns, UTC]\n",
      " 4   uid        720679 non-null  int64              \n",
      "dtypes: datetime64[ns, UTC](2), int64(2), object(1)\n",
      "memory usage: 27.5+ MB\n",
      "None\n"
     ]
    },
    {
     "data": {
      "text/plain": "    device                    end_ts  source_id                  start_ts  \\\n0  desktop 2016-11-30 11:04:17+00:00          2 2016-11-30 10:53:49+00:00   \n1  desktop 2016-11-10 23:16:57+00:00          4 2016-11-10 23:08:04+00:00   \n2  desktop 2016-10-19 18:51:56+00:00          1 2016-10-19 18:48:16+00:00   \n3  desktop 2017-01-12 20:51:55+00:00          9 2017-01-12 20:50:10+00:00   \n4    touch 2016-07-23 19:17:19+00:00          4 2016-07-23 19:10:57+00:00   \n\n          uid  \n0  3758486201  \n1  2933941628  \n2  1465872791  \n3  2751875787  \n4  3492372810  ",
      "text/html": "<div>\n<style scoped>\n    .dataframe tbody tr th:only-of-type {\n        vertical-align: middle;\n    }\n\n    .dataframe tbody tr th {\n        vertical-align: top;\n    }\n\n    .dataframe thead th {\n        text-align: right;\n    }\n</style>\n<table border=\"1\" class=\"dataframe\">\n  <thead>\n    <tr style=\"text-align: right;\">\n      <th></th>\n      <th>device</th>\n      <th>end_ts</th>\n      <th>source_id</th>\n      <th>start_ts</th>\n      <th>uid</th>\n    </tr>\n  </thead>\n  <tbody>\n    <tr>\n      <th>0</th>\n      <td>desktop</td>\n      <td>2016-11-30 11:04:17+00:00</td>\n      <td>2</td>\n      <td>2016-11-30 10:53:49+00:00</td>\n      <td>3758486201</td>\n    </tr>\n    <tr>\n      <th>1</th>\n      <td>desktop</td>\n      <td>2016-11-10 23:16:57+00:00</td>\n      <td>4</td>\n      <td>2016-11-10 23:08:04+00:00</td>\n      <td>2933941628</td>\n    </tr>\n    <tr>\n      <th>2</th>\n      <td>desktop</td>\n      <td>2016-10-19 18:51:56+00:00</td>\n      <td>1</td>\n      <td>2016-10-19 18:48:16+00:00</td>\n      <td>1465872791</td>\n    </tr>\n    <tr>\n      <th>3</th>\n      <td>desktop</td>\n      <td>2017-01-12 20:51:55+00:00</td>\n      <td>9</td>\n      <td>2017-01-12 20:50:10+00:00</td>\n      <td>2751875787</td>\n    </tr>\n    <tr>\n      <th>4</th>\n      <td>touch</td>\n      <td>2016-07-23 19:17:19+00:00</td>\n      <td>4</td>\n      <td>2016-07-23 19:10:57+00:00</td>\n      <td>3492372810</td>\n    </tr>\n  </tbody>\n</table>\n</div>"
     },
     "execution_count": 38,
     "metadata": {},
     "output_type": "execute_result"
    }
   ]
  },
  {
   "cell_type": "code",
   "execution_count": 39,
   "outputs": [
    {
     "name": "stdout",
     "output_type": "stream",
     "text": [
      "<class 'pandas.core.frame.DataFrame'>\n",
      "RangeIndex: 75716 entries, 0 to 75715\n",
      "Data columns (total 3 columns):\n",
      " #   Column   Non-Null Count  Dtype         \n",
      "---  ------   --------------  -----         \n",
      " 0   buy_ts   75716 non-null  datetime64[ns]\n",
      " 1   uid      75716 non-null  int64         \n",
      " 2   revenue  75716 non-null  float64       \n",
      "dtypes: datetime64[ns](1), float64(1), int64(1)\n",
      "memory usage: 1.7 MB\n",
      "None\n"
     ]
    },
    {
     "data": {
      "text/plain": "               buy_ts         uid  revenue\n0 2016-07-23 19:13:54  3492372810     1.47\n1 2016-06-11 02:48:27  1564753091     1.11\n2 2017-01-31 20:32:42  1385616391    16.80\n3 2017-11-01 10:52:11  2636761148    11.00\n4 2016-11-25 18:57:09  2945629974     4.89",
      "text/html": "<div>\n<style scoped>\n    .dataframe tbody tr th:only-of-type {\n        vertical-align: middle;\n    }\n\n    .dataframe tbody tr th {\n        vertical-align: top;\n    }\n\n    .dataframe thead th {\n        text-align: right;\n    }\n</style>\n<table border=\"1\" class=\"dataframe\">\n  <thead>\n    <tr style=\"text-align: right;\">\n      <th></th>\n      <th>buy_ts</th>\n      <th>uid</th>\n      <th>revenue</th>\n    </tr>\n  </thead>\n  <tbody>\n    <tr>\n      <th>0</th>\n      <td>2016-07-23 19:13:54</td>\n      <td>3492372810</td>\n      <td>1.47</td>\n    </tr>\n    <tr>\n      <th>1</th>\n      <td>2016-06-11 02:48:27</td>\n      <td>1564753091</td>\n      <td>1.11</td>\n    </tr>\n    <tr>\n      <th>2</th>\n      <td>2017-01-31 20:32:42</td>\n      <td>1385616391</td>\n      <td>16.80</td>\n    </tr>\n    <tr>\n      <th>3</th>\n      <td>2017-11-01 10:52:11</td>\n      <td>2636761148</td>\n      <td>11.00</td>\n    </tr>\n    <tr>\n      <th>4</th>\n      <td>2016-11-25 18:57:09</td>\n      <td>2945629974</td>\n      <td>4.89</td>\n    </tr>\n  </tbody>\n</table>\n</div>"
     },
     "execution_count": 39,
     "metadata": {},
     "output_type": "execute_result"
    }
   ],
   "source": [
    "print(purchases.info())\n",
    "purchases.head()"
   ],
   "metadata": {
    "collapsed": false,
    "pycharm": {
     "name": "#%%\n"
    }
   }
  },
  {
   "cell_type": "code",
   "metadata": {
    "colab": {
     "base_uri": "https://localhost:8080/"
    },
    "id": "zAhpKd26quEw",
    "executionInfo": {
     "status": "ok",
     "timestamp": 1616314937072,
     "user_tz": -180,
     "elapsed": 605,
     "user": {
      "displayName": "Andrew Levada",
      "photoUrl": "https://lh3.googleusercontent.com/a-/AOh14GgVgEjtGXDqTaZkHgdzdEf4VRElZlCZ9TBdANHU=s64",
      "userId": "13529487039575664740"
     }
    },
    "outputId": "fc21a012-0510-45d6-de9f-ea1df150a777"
   },
   "source": [
    "# Определяем, за какой временной промежуток были собраны данные\n",
    "v_obs_ts = visits['end_ts'].max() - visits['start_ts'].min()\n",
    "p_obs_ts = purchases['buy_ts'].max() - purchases['buy_ts'].min()\n",
    "v_obs_ts, p_obs_ts\n",
    "# => Visits за год, а purchases за два года"
   ],
   "execution_count": 40,
   "outputs": [
    {
     "data": {
      "text/plain": "(Timedelta('365 days 01:26:41'), Timedelta('699 days 23:12:07'))"
     },
     "execution_count": 40,
     "metadata": {},
     "output_type": "execute_result"
    }
   ]
  },
  {
   "cell_type": "code",
   "metadata": {
    "id": "LuVp-YDgyDeZ",
    "executionInfo": {
     "status": "ok",
     "timestamp": 1616314938030,
     "user_tz": -180,
     "elapsed": 603,
     "user": {
      "displayName": "Andrew Levada",
      "photoUrl": "https://lh3.googleusercontent.com/a-/AOh14GgVgEjtGXDqTaZkHgdzdEf4VRElZlCZ9TBdANHU=s64",
      "userId": "13529487039575664740"
     }
    }
   },
   "source": [
    "# Найдём самые базовые значения\n",
    "total_revenue = purchases['revenue'].sum()\n",
    "total_trans = len(purchases.index)\n",
    "aov = total_revenue / total_trans\n",
    "\n",
    "# Так как данных по gross margin нет, то предположим, что он равен 0.4\n",
    "gm = 0.4"
   ],
   "execution_count": 41,
   "outputs": []
  },
  {
   "cell_type": "code",
   "execution_count": 42,
   "outputs": [
    {
     "data": {
      "text/plain": "2.6585229953041547"
     },
     "execution_count": 42,
     "metadata": {},
     "output_type": "execute_result"
    }
   ],
   "source": [
    "# Используем gross margin per customer для сверки с ltv, так как эти значения должны быть похожи\n",
    "num_of_customers = purchases['uid'].nunique()\n",
    "gm_per_customer = total_revenue / num_of_customers * gm\n",
    "gm_per_customer"
   ],
   "metadata": {
    "collapsed": false,
    "pycharm": {
     "name": "#%%\n"
    }
   }
  },
  {
   "cell_type": "code",
   "execution_count": 43,
   "outputs": [
    {
     "name": "stderr",
     "output_type": "stream",
     "text": [
      "  0%|          | 0/75716 [00:00<?, ?it/s]d:\\projects\\olimps\\python\\venv\\lib\\site-packages\\pandas\\core\\indexing.py:1637: SettingWithCopyWarning: \n",
      "A value is trying to be set on a copy of a slice from a DataFrame\n",
      "\n",
      "See the caveats in the documentation: https://pandas.pydata.org/pandas-docs/stable/user_guide/indexing.html#returning-a-view-versus-a-copy\n",
      "  self._setitem_single_block(indexer, value, name)\n",
      "100%|██████████| 75716/75716 [00:23<00:00, 3174.70it/s]\n",
      "100%|██████████| 720679/720679 [07:17<00:00, 1648.47it/s]\n"
     ]
    }
   ],
   "source": [
    "# Отсортируем датафреймы по дате\n",
    "purchases.sort_values(by='buy_ts', inplace=True)\n",
    "visits.sort_values(by='start_ts', inplace=True)\n",
    "purchases.reset_index(inplace=True)\n",
    "visits.reset_index(inplace=True)\n",
    "\n",
    "# В purchases добавим колонку new_uid, показывающую, является ли покупатель,\n",
    "# совершивший покупку новым (до этого не совершал покупок)\n",
    "\n",
    "customers_uid_set = set()\n",
    "purchases['new_uid'] = purchases['uid']\n",
    "for i in tqdm(range(len(purchases['uid']))):\n",
    "    uid = purchases['new_uid'].iloc[i]\n",
    "    purchases['new_uid'].iloc[i] = 0 if uid in customers_uid_set else 1\n",
    "    customers_uid_set.add(uid)\n",
    "\n",
    "visits_uid_set = set()\n",
    "visits['new_uid'] = visits['uid']\n",
    "for i in tqdm(range(len(visits['uid']))):\n",
    "    uid = visits['new_uid'].iloc[i]\n",
    "    visits['new_uid'].iloc[i] = 0 if uid in visits_uid_set else 1\n",
    "    visits_uid_set.add(uid)"
   ],
   "metadata": {
    "collapsed": false,
    "pycharm": {
     "name": "#%%\n"
    }
   }
  },
  {
   "cell_type": "code",
   "execution_count": 44,
   "outputs": [
    {
     "data": {
      "text/plain": "    purchases  first_purchases/uc  repeating_purchases  new_customers  \\\n3        1323                1198                  125           1094   \n4        1582                1417                  165           1278   \n5        3501                3118                  383           2924   \n6        3984                3486                  498           3214   \n7        3388                2954                  434           2624   \n8        4947                4140                  807           3701   \n9        5873                4952                  921           4336   \n10       7138                5768                 1370           4969   \n11       6673                5548                 1125           4845   \n12       5617                4671                  946           4118   \n13       5525                4542                  983           3891   \n14       5477                4380                 1097           3717   \n15       4106                3494                  612           2974   \n16       5734                4835                  899           4078   \n17        984                 899                   85            655   \n18       1121                1019                  102            763   \n19        993                 919                   74            703   \n20        927                 827                  100            596   \n21       1017                 926                   91            699   \n22        971                 902                   69            665   \n23       1058                 948                  110            656   \n\n    retention   churn  \n3      0.0852  0.0188  \n4      0.1160 -0.1828  \n5      0.1369 -1.2004  \n6      0.0872 -0.1180  \n7      0.0947  0.1526  \n8      0.1486 -0.4015  \n9      0.1488 -0.1961  \n10     0.1613 -0.1648  \n11     0.1219  0.0381  \n12     0.0997  0.1581  \n13     0.1394  0.0276  \n14     0.1460  0.0357  \n15     0.1187  0.2023  \n16     0.2167 -0.3838  \n17     0.0505  0.8141  \n18     0.2848 -0.1335  \n19     0.2120  0.0981  \n20     0.2514  0.1001  \n21     0.2745 -0.1197  \n22     0.2559  0.0259  \n23     0.3237 -0.0510  ",
      "text/html": "<div>\n<style scoped>\n    .dataframe tbody tr th:only-of-type {\n        vertical-align: middle;\n    }\n\n    .dataframe tbody tr th {\n        vertical-align: top;\n    }\n\n    .dataframe thead th {\n        text-align: right;\n    }\n</style>\n<table border=\"1\" class=\"dataframe\">\n  <thead>\n    <tr style=\"text-align: right;\">\n      <th></th>\n      <th>purchases</th>\n      <th>first_purchases/uc</th>\n      <th>repeating_purchases</th>\n      <th>new_customers</th>\n      <th>retention</th>\n      <th>churn</th>\n    </tr>\n  </thead>\n  <tbody>\n    <tr>\n      <th>3</th>\n      <td>1323</td>\n      <td>1198</td>\n      <td>125</td>\n      <td>1094</td>\n      <td>0.0852</td>\n      <td>0.0188</td>\n    </tr>\n    <tr>\n      <th>4</th>\n      <td>1582</td>\n      <td>1417</td>\n      <td>165</td>\n      <td>1278</td>\n      <td>0.1160</td>\n      <td>-0.1828</td>\n    </tr>\n    <tr>\n      <th>5</th>\n      <td>3501</td>\n      <td>3118</td>\n      <td>383</td>\n      <td>2924</td>\n      <td>0.1369</td>\n      <td>-1.2004</td>\n    </tr>\n    <tr>\n      <th>6</th>\n      <td>3984</td>\n      <td>3486</td>\n      <td>498</td>\n      <td>3214</td>\n      <td>0.0872</td>\n      <td>-0.1180</td>\n    </tr>\n    <tr>\n      <th>7</th>\n      <td>3388</td>\n      <td>2954</td>\n      <td>434</td>\n      <td>2624</td>\n      <td>0.0947</td>\n      <td>0.1526</td>\n    </tr>\n    <tr>\n      <th>8</th>\n      <td>4947</td>\n      <td>4140</td>\n      <td>807</td>\n      <td>3701</td>\n      <td>0.1486</td>\n      <td>-0.4015</td>\n    </tr>\n    <tr>\n      <th>9</th>\n      <td>5873</td>\n      <td>4952</td>\n      <td>921</td>\n      <td>4336</td>\n      <td>0.1488</td>\n      <td>-0.1961</td>\n    </tr>\n    <tr>\n      <th>10</th>\n      <td>7138</td>\n      <td>5768</td>\n      <td>1370</td>\n      <td>4969</td>\n      <td>0.1613</td>\n      <td>-0.1648</td>\n    </tr>\n    <tr>\n      <th>11</th>\n      <td>6673</td>\n      <td>5548</td>\n      <td>1125</td>\n      <td>4845</td>\n      <td>0.1219</td>\n      <td>0.0381</td>\n    </tr>\n    <tr>\n      <th>12</th>\n      <td>5617</td>\n      <td>4671</td>\n      <td>946</td>\n      <td>4118</td>\n      <td>0.0997</td>\n      <td>0.1581</td>\n    </tr>\n    <tr>\n      <th>13</th>\n      <td>5525</td>\n      <td>4542</td>\n      <td>983</td>\n      <td>3891</td>\n      <td>0.1394</td>\n      <td>0.0276</td>\n    </tr>\n    <tr>\n      <th>14</th>\n      <td>5477</td>\n      <td>4380</td>\n      <td>1097</td>\n      <td>3717</td>\n      <td>0.1460</td>\n      <td>0.0357</td>\n    </tr>\n    <tr>\n      <th>15</th>\n      <td>4106</td>\n      <td>3494</td>\n      <td>612</td>\n      <td>2974</td>\n      <td>0.1187</td>\n      <td>0.2023</td>\n    </tr>\n    <tr>\n      <th>16</th>\n      <td>5734</td>\n      <td>4835</td>\n      <td>899</td>\n      <td>4078</td>\n      <td>0.2167</td>\n      <td>-0.3838</td>\n    </tr>\n    <tr>\n      <th>17</th>\n      <td>984</td>\n      <td>899</td>\n      <td>85</td>\n      <td>655</td>\n      <td>0.0505</td>\n      <td>0.8141</td>\n    </tr>\n    <tr>\n      <th>18</th>\n      <td>1121</td>\n      <td>1019</td>\n      <td>102</td>\n      <td>763</td>\n      <td>0.2848</td>\n      <td>-0.1335</td>\n    </tr>\n    <tr>\n      <th>19</th>\n      <td>993</td>\n      <td>919</td>\n      <td>74</td>\n      <td>703</td>\n      <td>0.2120</td>\n      <td>0.0981</td>\n    </tr>\n    <tr>\n      <th>20</th>\n      <td>927</td>\n      <td>827</td>\n      <td>100</td>\n      <td>596</td>\n      <td>0.2514</td>\n      <td>0.1001</td>\n    </tr>\n    <tr>\n      <th>21</th>\n      <td>1017</td>\n      <td>926</td>\n      <td>91</td>\n      <td>699</td>\n      <td>0.2745</td>\n      <td>-0.1197</td>\n    </tr>\n    <tr>\n      <th>22</th>\n      <td>971</td>\n      <td>902</td>\n      <td>69</td>\n      <td>665</td>\n      <td>0.2559</td>\n      <td>0.0259</td>\n    </tr>\n    <tr>\n      <th>23</th>\n      <td>1058</td>\n      <td>948</td>\n      <td>110</td>\n      <td>656</td>\n      <td>0.3237</td>\n      <td>-0.0510</td>\n    </tr>\n  </tbody>\n</table>\n</div>"
     },
     "execution_count": 44,
     "metadata": {},
     "output_type": "execute_result"
    }
   ],
   "source": [
    "# Произведём групировку покупок по месяцам и вынесем некоторые данные в отдельный датафрейм m_df\n",
    "\n",
    "m_gdf = purchases.groupby(pd.Grouper(freq=\"M\", key='buy_ts'))\n",
    "m_df = pd.DataFrame()\n",
    "\n",
    "# Колонка purchases показывает общее число покупок, совершённых в этом месяце\n",
    "m_df['purchases'] = m_gdf['uid'].count().values\n",
    "\n",
    "# Колонка first_purchases/unique_customers показывает одновременно и количество уникальных покупателей в этот месяц,\n",
    "# и количество покупок, которые являются первыми у покупателей в этом месяце\n",
    "m_df['first_purchases/uc'] = m_gdf['uid'].nunique().values\n",
    "\n",
    "# Колонка repeating_purchases показывает количество повторных покупок в этом месяце\n",
    "m_df['repeating_purchases'] = m_df['purchases'] - m_df['first_purchases/uc']\n",
    "\n",
    "# Колонка new_customers показывает количество покупателей, которые впервые совершили покупку\n",
    "# (не только в этом месяце, а за весь наблюдаемый период)\n",
    "m_df['new_customers'] = m_gdf['new_uid'].sum().values\n",
    "\n",
    "# Колонки показывает соответствующие показатели (retention rate и churn rate)\n",
    "m_df['retention'] = (m_df['first_purchases/uc'] - m_df['new_customers']) / m_df['first_purchases/uc'].shift(1)\n",
    "m_df['churn'] = (m_df['first_purchases/uc'].shift(1) - m_df['first_purchases/uc']) / m_df['first_purchases/uc'].shift(1)\n",
    "\n",
    "# Не работаем с первыми тремя месяцами наблюдения для чистоты данных\n",
    "m_df = m_df[3:]\n",
    "m_df"
   ],
   "metadata": {
    "collapsed": false,
    "pycharm": {
     "name": "#%%\n"
    }
   }
  },
  {
   "cell_type": "code",
   "execution_count": 45,
   "outputs": [
    {
     "data": {
      "text/plain": "-0.06096150289553554"
     },
     "execution_count": 45,
     "metadata": {},
     "output_type": "execute_result"
    }
   ],
   "source": [
    "# Проверяем возможность использования churn rate для подсчёта ltv\n",
    "churn = m_df['churn'].mean()\n",
    "churn\n",
    "# Отрицательный churn rate => Его нельзя использовать из-за того, что для его формулы подсчёта нет разницы\n",
    "# между только что превлечёнными покупателями и уже сущестующими\n",
    "\n",
    "# Исходя из визуального анализа данных, происходит постоянное превличение новых покупателей,\n",
    "# однако старые в большенстве своём уходят сразу после первой покупки =>\n",
    "# Для корректного подсчёта ltv в данной сетуации должен подойти retention rate"
   ],
   "metadata": {
    "collapsed": false,
    "pycharm": {
     "name": "#%%\n"
    }
   }
  },
  {
   "cell_type": "code",
   "execution_count": 46,
   "outputs": [
    {
     "data": {
      "text/plain": "2.6540437293800903"
     },
     "execution_count": 46,
     "metadata": {},
     "output_type": "execute_result"
    }
   ],
   "source": [
    "# Посчитаем purchases per month per customer (среднее количество покупок одного покупателя в месяц)\n",
    "pmc = (((m_df['first_purchases/uc'] - m_df['repeating_purchases']) + m_df['repeating_purchases'] * 2) / (m_df['first_purchases/uc'])).mean()\n",
    "retention = m_df['retention'].mean()\n",
    "discount = 0.1 # Возьмём стандартное значение discount rate\n",
    "\n",
    "# Average Revenue Per Paying User\n",
    "arppu = pmc * aov * gm\n",
    "clv = arppu * (1 + retention / (1 + discount - retention))\n",
    "clv"
   ],
   "metadata": {
    "collapsed": false,
    "pycharm": {
     "name": "#%%\n"
    }
   }
  },
  {
   "cell_type": "code",
   "execution_count": 47,
   "outputs": [
    {
     "name": "stdout",
     "output_type": "stream",
     "text": [
      "CLV:  2.6540437293800903\n",
      "GMC:  2.6585229953041547\n"
     ]
    }
   ],
   "source": [
    "print('CLV: ', clv)\n",
    "print('GMC: ', gm_per_customer)\n",
    "\n",
    "# Полученое значение clv приближено к почитаному ранее gross margin per customer\n",
    "# Это подтверждает верность полученного clv"
   ],
   "metadata": {
    "collapsed": false,
    "pycharm": {
     "name": "#%%\n"
    }
   }
  },
  {
   "cell_type": "code",
   "execution_count": 48,
   "outputs": [
    {
     "name": "stderr",
     "output_type": "stream",
     "text": [
      "100%|██████████| 75716/75716 [02:48<00:00, 450.42it/s]\n"
     ]
    }
   ],
   "source": [
    "# Далее анализ показателей для улучшения ltv\n",
    "\n",
    "# Считаем среднее количество визитов и покупок для всех покупателей\n",
    "# При этом фиксируем источник трафика, из которого пришёл конкретный покупатель\n",
    "\n",
    "c_df = pd.DataFrame(index=customers_uid_set)\n",
    "c_df['visits'] = np.zeros(len(customers_uid_set))\n",
    "c_df['purchases'] = np.zeros(len(customers_uid_set))\n",
    "c_df['first_source'] = np.zeros(len(customers_uid_set))\n",
    "\n",
    "for p_uid in tqdm(purchases['uid'].values):\n",
    "    u_visits = visits[visits['uid'] == p_uid]\n",
    "    new_p = c_df.loc[p_uid, 'purchases'] + 1\n",
    "    c_df.loc[p_uid, 'purchases'] = new_p\n",
    "\n",
    "    if new_p != 1:\n",
    "        continue\n",
    "\n",
    "    c_df.loc[p_uid, 'visits'] = len(u_visits.index)\n",
    "    c_df.loc[p_uid, 'first_source'] = u_visits['source_id'].values[0]"
   ],
   "metadata": {
    "collapsed": false,
    "pycharm": {
     "name": "#%%\n"
    }
   }
  },
  {
   "cell_type": "code",
   "execution_count": 49,
   "outputs": [
    {
     "name": "stdout",
     "output_type": "stream",
     "text": [
      "Avr visits user:  1.8959199833737153\n",
      "Avr visits cust:  3.916370935942933\n"
     ]
    },
    {
     "data": {
      "text/plain": "3.0     17847\n4.0     16670\n5.0     10369\n2.0      4543\n1.0      2561\n10.0     2203\n9.0      1598\n7.0         3\nName: first_source, dtype: int64"
     },
     "execution_count": 49,
     "metadata": {},
     "output_type": "execute_result"
    }
   ],
   "source": [
    "c_visits_mean = c_df['visits'].mean()\n",
    "u_visits_mean = len(visits.index) / visits['uid'].nunique()\n",
    "\n",
    "# Сравниваем visits покупателей и всех пользователей\n",
    "print('Avr visits user: ', u_visits_mean)\n",
    "print('Avr visits cust: ', c_visits_mean)\n",
    "\n",
    "# Теперь смотрим на источники трафика по покупателям\n",
    "c_df['first_source'].value_counts()"
   ],
   "metadata": {
    "collapsed": false,
    "pycharm": {
     "name": "#%%\n"
    }
   }
  },
  {
   "cell_type": "code",
   "execution_count": 50,
   "outputs": [
    {
     "data": {
      "text/plain": "4     123898\n3     116721\n5      84386\n2      24801\n10     11941\n9       9239\n1       9062\n7         70\n6          3\nName: source_id, dtype: int64"
     },
     "execution_count": 50,
     "metadata": {},
     "output_type": "execute_result"
    }
   ],
   "source": [
    "# Источники трафика по всем пользователям\n",
    "visits[visits['new_uid'] == 1]['source_id'].value_counts()"
   ],
   "metadata": {
    "collapsed": false,
    "pycharm": {
     "name": "#%%\n"
    }
   }
  },
  {
   "cell_type": "code",
   "execution_count": 51,
   "outputs": [
    {
     "name": "stderr",
     "output_type": "stream",
     "text": [
      "<ipython-input-51-2c3c90ed9043>:4: UserWarning: Boolean Series key will be reindexed to match DataFrame index.\n",
      "  a = len(visits[visits['new_uid'] == 1][visits['source_id'] == n].index)\n",
      "<ipython-input-51-2c3c90ed9043>:4: UserWarning: Boolean Series key will be reindexed to match DataFrame index.\n",
      "  a = len(visits[visits['new_uid'] == 1][visits['source_id'] == n].index)\n",
      "<ipython-input-51-2c3c90ed9043>:4: UserWarning: Boolean Series key will be reindexed to match DataFrame index.\n",
      "  a = len(visits[visits['new_uid'] == 1][visits['source_id'] == n].index)\n",
      "<ipython-input-51-2c3c90ed9043>:4: UserWarning: Boolean Series key will be reindexed to match DataFrame index.\n",
      "  a = len(visits[visits['new_uid'] == 1][visits['source_id'] == n].index)\n",
      "<ipython-input-51-2c3c90ed9043>:4: UserWarning: Boolean Series key will be reindexed to match DataFrame index.\n",
      "  a = len(visits[visits['new_uid'] == 1][visits['source_id'] == n].index)\n",
      "<ipython-input-51-2c3c90ed9043>:4: UserWarning: Boolean Series key will be reindexed to match DataFrame index.\n",
      "  a = len(visits[visits['new_uid'] == 1][visits['source_id'] == n].index)\n",
      "<ipython-input-51-2c3c90ed9043>:4: UserWarning: Boolean Series key will be reindexed to match DataFrame index.\n",
      "  a = len(visits[visits['new_uid'] == 1][visits['source_id'] == n].index)\n",
      "<ipython-input-51-2c3c90ed9043>:4: UserWarning: Boolean Series key will be reindexed to match DataFrame index.\n",
      "  a = len(visits[visits['new_uid'] == 1][visits['source_id'] == n].index)\n",
      "<ipython-input-51-2c3c90ed9043>:4: UserWarning: Boolean Series key will be reindexed to match DataFrame index.\n",
      "  a = len(visits[visits['new_uid'] == 1][visits['source_id'] == n].index)\n",
      "<ipython-input-51-2c3c90ed9043>:4: UserWarning: Boolean Series key will be reindexed to match DataFrame index.\n",
      "  a = len(visits[visits['new_uid'] == 1][visits['source_id'] == n].index)\n",
      "<ipython-input-51-2c3c90ed9043>:4: UserWarning: Boolean Series key will be reindexed to match DataFrame index.\n",
      "  a = len(visits[visits['new_uid'] == 1][visits['source_id'] == n].index)\n"
     ]
    },
    {
     "name": "stdout",
     "output_type": "stream",
     "text": [
      "0 : 0.0\n",
      "1 : 0.2826086956521739\n",
      "2 : 0.18317809765735252\n",
      "3 : 0.1529030765671987\n",
      "4 : 0.13454615893719027\n",
      "5 : 0.12287583248406134\n",
      "6 : 0.0\n",
      "7 : 0.04285714285714286\n",
      "8 : 0.0\n",
      "9 : 0.1729624418227081\n",
      "10 : 0.1844904111883427\n"
     ]
    }
   ],
   "source": [
    "# Посчитаем конверсию в покупателя для каждого источника трафика\n",
    "\n",
    "def print_source_conv(n):\n",
    "    a = len(visits[visits['new_uid'] == 1][visits['source_id'] == n].index)\n",
    "    print(n, ':', len(c_df[c_df['first_source'] == n].index)\n",
    "          / (a if a != 0 else 1))\n",
    "\n",
    "for i in range(11):\n",
    "    print_source_conv(i)\n",
    "\n",
    "# Видим, что конверсия во втором, первом и десятом источниках трафика наибольшая,\n",
    "# Стоит вложить маркетинговые ресурсы именно туда"
   ],
   "metadata": {
    "collapsed": false,
    "pycharm": {
     "name": "#%%\n"
    }
   }
  },
  {
   "cell_type": "code",
   "execution_count": 52,
   "outputs": [
    {
     "data": {
      "text/plain": "              visits  purchases\nfirst_source                   \n1.0           5.9613     1.6435\n2.0           7.5294     2.0352\n3.0           3.5908     1.2753\n4.0           3.3512     1.2451\n5.0           3.2192     1.3344\n7.0           1.6667     1.0000\n9.0           5.8761     1.4581\n10.0          2.8652     1.1693",
      "text/html": "<div>\n<style scoped>\n    .dataframe tbody tr th:only-of-type {\n        vertical-align: middle;\n    }\n\n    .dataframe tbody tr th {\n        vertical-align: top;\n    }\n\n    .dataframe thead th {\n        text-align: right;\n    }\n</style>\n<table border=\"1\" class=\"dataframe\">\n  <thead>\n    <tr style=\"text-align: right;\">\n      <th></th>\n      <th>visits</th>\n      <th>purchases</th>\n    </tr>\n    <tr>\n      <th>first_source</th>\n      <th></th>\n      <th></th>\n    </tr>\n  </thead>\n  <tbody>\n    <tr>\n      <th>1.0</th>\n      <td>5.9613</td>\n      <td>1.6435</td>\n    </tr>\n    <tr>\n      <th>2.0</th>\n      <td>7.5294</td>\n      <td>2.0352</td>\n    </tr>\n    <tr>\n      <th>3.0</th>\n      <td>3.5908</td>\n      <td>1.2753</td>\n    </tr>\n    <tr>\n      <th>4.0</th>\n      <td>3.3512</td>\n      <td>1.2451</td>\n    </tr>\n    <tr>\n      <th>5.0</th>\n      <td>3.2192</td>\n      <td>1.3344</td>\n    </tr>\n    <tr>\n      <th>7.0</th>\n      <td>1.6667</td>\n      <td>1.0000</td>\n    </tr>\n    <tr>\n      <th>9.0</th>\n      <td>5.8761</td>\n      <td>1.4581</td>\n    </tr>\n    <tr>\n      <th>10.0</th>\n      <td>2.8652</td>\n      <td>1.1693</td>\n    </tr>\n  </tbody>\n</table>\n</div>"
     },
     "execution_count": 52,
     "metadata": {},
     "output_type": "execute_result"
    }
   ],
   "source": [
    "# Те же параметры с группировкой по источникам трафика\n",
    "\n",
    "c_df.groupby(by='first_source').mean()\n",
    "\n",
    "# Наиболее лояльные покупатели из второго источника =>\n",
    "# Развивать второй источник"
   ],
   "metadata": {
    "collapsed": false,
    "pycharm": {
     "name": "#%%\n"
    }
   }
  }
 ]
}