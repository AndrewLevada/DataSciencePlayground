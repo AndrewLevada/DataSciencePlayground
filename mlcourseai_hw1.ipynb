{
 "cells": [
  {
   "cell_type": "markdown",
   "source": [
    "This is a homework for Topic 1 of MLCourse.ai\n",
    "\n",
    "https://www.kaggle.com/kashnitsky/a1-demo-pandas-and-uci-adult-dataset"
   ],
   "metadata": {
    "collapsed": false
   }
  },
  {
   "cell_type": "code",
   "execution_count": 4,
   "outputs": [
    {
     "name": "stdout",
     "output_type": "stream",
     "text": [
      "Requirement already satisfied: numpy in d:\\projects\\olimps\\python\\venv\\lib\\site-packages (1.20.0)\n",
      "Requirement already satisfied: pandas in d:\\projects\\olimps\\python\\venv\\lib\\site-packages (1.2.1)\n",
      "Requirement already satisfied: pytz>=2017.3 in d:\\projects\\olimps\\python\\venv\\lib\\site-packages (from pandas) (2021.1)\n",
      "Requirement already satisfied: numpy>=1.16.5 in d:\\projects\\olimps\\python\\venv\\lib\\site-packages (from pandas) (1.20.0)\n",
      "Requirement already satisfied: python-dateutil>=2.7.3 in d:\\projects\\olimps\\python\\venv\\lib\\site-packages (from pandas) (2.8.1)\n",
      "Requirement already satisfied: six>=1.5 in d:\\projects\\olimps\\python\\venv\\lib\\site-packages (from python-dateutil>=2.7.3->pandas) (1.15.0)\n"
     ]
    },
    {
     "name": "stderr",
     "output_type": "stream",
     "text": [
      "WARNING: You are using pip version 20.3.3; however, version 21.0.1 is available.\n",
      "You should consider upgrading via the 'd:\\projects\\olimps\\python\\venv\\scripts\\python.exe -m pip install --upgrade pip' command.\n",
      "WARNING: You are using pip version 20.3.3; however, version 21.0.1 is available.\n",
      "You should consider upgrading via the 'd:\\projects\\olimps\\python\\venv\\scripts\\python.exe -m pip install --upgrade pip' command.\n"
     ]
    }
   ],
   "source": [
    "!pip install numpy\n",
    "!pip install pandas"
   ],
   "metadata": {
    "collapsed": false,
    "pycharm": {
     "name": "#%%\n"
    }
   }
  },
  {
   "cell_type": "code",
   "execution_count": 5,
   "outputs": [],
   "source": [
    "import pandas as pd\n",
    "import numpy as np\n",
    "pd.set_option('display.precision', 2)\n",
    "pd.set_option('display.max_columns', 100)"
   ],
   "metadata": {
    "collapsed": false,
    "pycharm": {
     "name": "#%%\n"
    }
   }
  },
  {
   "cell_type": "code",
   "execution_count": 6,
   "outputs": [
    {
     "name": "stdout",
     "output_type": "stream",
     "text": [
      "<class 'pandas.core.frame.DataFrame'>\n",
      "RangeIndex: 32561 entries, 0 to 32560\n",
      "Data columns (total 15 columns):\n",
      " #   Column          Non-Null Count  Dtype \n",
      "---  ------          --------------  ----- \n",
      " 0   age             32561 non-null  int64 \n",
      " 1   workclass       32561 non-null  object\n",
      " 2   fnlwgt          32561 non-null  int64 \n",
      " 3   education       32561 non-null  object\n",
      " 4   education-num   32561 non-null  int64 \n",
      " 5   marital-status  32561 non-null  object\n",
      " 6   occupation      32561 non-null  object\n",
      " 7   relationship    32561 non-null  object\n",
      " 8   race            32561 non-null  object\n",
      " 9   sex             32561 non-null  object\n",
      " 10  capital-gain    32561 non-null  int64 \n",
      " 11  capital-loss    32561 non-null  int64 \n",
      " 12  hours-per-week  32561 non-null  int64 \n",
      " 13  native-country  32561 non-null  object\n",
      " 14  salary          32561 non-null  object\n",
      "dtypes: int64(6), object(9)\n",
      "memory usage: 3.7+ MB\n",
      "None\n"
     ]
    },
    {
     "data": {
      "text/plain": "            age    fnlwgt  education-num  capital-gain  capital-loss  \\\ncount  32561.00  3.26e+04       32561.00      32561.00      32561.00   \nmean      38.58  1.90e+05          10.08       1077.65         87.30   \nstd       13.64  1.06e+05           2.57       7385.29        402.96   \nmin       17.00  1.23e+04           1.00          0.00          0.00   \n25%       28.00  1.18e+05           9.00          0.00          0.00   \n50%       37.00  1.78e+05          10.00          0.00          0.00   \n75%       48.00  2.37e+05          12.00          0.00          0.00   \nmax       90.00  1.48e+06          16.00      99999.00       4356.00   \n\n       hours-per-week  \ncount        32561.00  \nmean            40.44  \nstd             12.35  \nmin              1.00  \n25%             40.00  \n50%             40.00  \n75%             45.00  \nmax             99.00  ",
      "text/html": "<div>\n<style scoped>\n    .dataframe tbody tr th:only-of-type {\n        vertical-align: middle;\n    }\n\n    .dataframe tbody tr th {\n        vertical-align: top;\n    }\n\n    .dataframe thead th {\n        text-align: right;\n    }\n</style>\n<table border=\"1\" class=\"dataframe\">\n  <thead>\n    <tr style=\"text-align: right;\">\n      <th></th>\n      <th>age</th>\n      <th>fnlwgt</th>\n      <th>education-num</th>\n      <th>capital-gain</th>\n      <th>capital-loss</th>\n      <th>hours-per-week</th>\n    </tr>\n  </thead>\n  <tbody>\n    <tr>\n      <th>count</th>\n      <td>32561.00</td>\n      <td>3.26e+04</td>\n      <td>32561.00</td>\n      <td>32561.00</td>\n      <td>32561.00</td>\n      <td>32561.00</td>\n    </tr>\n    <tr>\n      <th>mean</th>\n      <td>38.58</td>\n      <td>1.90e+05</td>\n      <td>10.08</td>\n      <td>1077.65</td>\n      <td>87.30</td>\n      <td>40.44</td>\n    </tr>\n    <tr>\n      <th>std</th>\n      <td>13.64</td>\n      <td>1.06e+05</td>\n      <td>2.57</td>\n      <td>7385.29</td>\n      <td>402.96</td>\n      <td>12.35</td>\n    </tr>\n    <tr>\n      <th>min</th>\n      <td>17.00</td>\n      <td>1.23e+04</td>\n      <td>1.00</td>\n      <td>0.00</td>\n      <td>0.00</td>\n      <td>1.00</td>\n    </tr>\n    <tr>\n      <th>25%</th>\n      <td>28.00</td>\n      <td>1.18e+05</td>\n      <td>9.00</td>\n      <td>0.00</td>\n      <td>0.00</td>\n      <td>40.00</td>\n    </tr>\n    <tr>\n      <th>50%</th>\n      <td>37.00</td>\n      <td>1.78e+05</td>\n      <td>10.00</td>\n      <td>0.00</td>\n      <td>0.00</td>\n      <td>40.00</td>\n    </tr>\n    <tr>\n      <th>75%</th>\n      <td>48.00</td>\n      <td>2.37e+05</td>\n      <td>12.00</td>\n      <td>0.00</td>\n      <td>0.00</td>\n      <td>45.00</td>\n    </tr>\n    <tr>\n      <th>max</th>\n      <td>90.00</td>\n      <td>1.48e+06</td>\n      <td>16.00</td>\n      <td>99999.00</td>\n      <td>4356.00</td>\n      <td>99.00</td>\n    </tr>\n  </tbody>\n</table>\n</div>"
     },
     "execution_count": 6,
     "metadata": {},
     "output_type": "execute_result"
    }
   ],
   "source": [
    "data = pd.read_csv('./data/adult.csv')\n",
    "print(data.info())\n",
    "data.describe()"
   ],
   "metadata": {
    "collapsed": false,
    "pycharm": {
     "name": "#%%\n"
    }
   }
  },
  {
   "cell_type": "code",
   "execution_count": 6,
   "outputs": [],
   "source": [],
   "metadata": {
    "collapsed": false,
    "pycharm": {
     "name": "#%%\n"
    }
   }
  }
 ],
 "metadata": {
  "kernelspec": {
   "display_name": "Python 3",
   "language": "python",
   "name": "python3"
  },
  "language_info": {
   "codemirror_mode": {
    "name": "ipython",
    "version": 2
   },
   "file_extension": ".py",
   "mimetype": "text/x-python",
   "name": "python",
   "nbconvert_exporter": "python",
   "pygments_lexer": "ipython2",
   "version": "2.7.6"
  }
 },
 "nbformat": 4,
 "nbformat_minor": 0
}